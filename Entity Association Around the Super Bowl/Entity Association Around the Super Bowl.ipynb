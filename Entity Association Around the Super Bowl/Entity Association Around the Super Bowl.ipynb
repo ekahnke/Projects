{
 "cells": [
  {
   "cell_type": "markdown",
   "metadata": {},
   "source": [
    "#Entity Association Around the Super Bowl"
   ]
  },
  {
   "cell_type": "code",
   "execution_count": 7,
   "metadata": {
    "collapsed": true
   },
   "outputs": [],
   "source": [
    "import pandas as pd\n",
    "from nltk.tokenize import word_tokenize\n",
    "from re import sub"
   ]
  },
  {
   "cell_type": "code",
   "execution_count": 8,
   "metadata": {
    "collapsed": false
   },
   "outputs": [],
   "source": [
    "tweets = pd.read_csv(\"ReplacedTweetsMerged.csv\")"
   ]
  },
  {
   "cell_type": "code",
   "execution_count": 9,
   "metadata": {
    "collapsed": false
   },
   "outputs": [
    {
     "data": {
      "text/html": [
       "<div>\n",
       "<table border=\"1\" class=\"dataframe\">\n",
       "  <thead>\n",
       "    <tr style=\"text-align: right;\">\n",
       "      <th></th>\n",
       "      <th>Tweet</th>\n",
       "    </tr>\n",
       "  </thead>\n",
       "  <tbody>\n",
       "    <tr>\n",
       "      <th>0</th>\n",
       "      <td>RT @mommyinsomnia: Sad millionaires crying on ...</td>\n",
       "    </tr>\n",
       "    <tr>\n",
       "      <th>1</th>\n",
       "      <td>Victory SB50 https://tco/UuXhmM8t2R</td>\n",
       "    </tr>\n",
       "    <tr>\n",
       "      <th>2</th>\n",
       "      <td>RT @NFL: Let the confetti fall\\n\\nHey Denver t...</td>\n",
       "    </tr>\n",
       "    <tr>\n",
       "      <th>3</th>\n",
       "      <td>RT @CB100991: @LeonKnight_ cam newtons gone fr...</td>\n",
       "    </tr>\n",
       "    <tr>\n",
       "      <th>4</th>\n",
       "      <td>Congratulations to Homer Simpson and the Denve...</td>\n",
       "    </tr>\n",
       "  </tbody>\n",
       "</table>\n",
       "</div>"
      ],
      "text/plain": [
       "                                               Tweet\n",
       "0  RT @mommyinsomnia: Sad millionaires crying on ...\n",
       "1                Victory SB50 https://tco/UuXhmM8t2R\n",
       "2  RT @NFL: Let the confetti fall\\n\\nHey Denver t...\n",
       "3  RT @CB100991: @LeonKnight_ cam newtons gone fr...\n",
       "4  Congratulations to Homer Simpson and the Denve..."
      ]
     },
     "execution_count": 9,
     "metadata": {},
     "output_type": "execute_result"
    }
   ],
   "source": [
    "tweets.head()"
   ]
  },
  {
   "cell_type": "code",
   "execution_count": 10,
   "metadata": {
    "collapsed": false
   },
   "outputs": [
    {
     "data": {
      "text/plain": [
       "(17852, 1)"
      ]
     },
     "execution_count": 10,
     "metadata": {},
     "output_type": "execute_result"
    }
   ],
   "source": [
    "tweets.shape"
   ]
  },
  {
   "cell_type": "code",
   "execution_count": 11,
   "metadata": {
    "collapsed": true
   },
   "outputs": [],
   "source": [
    "hashtags = ['Bernie','Beyonce','BlackLivesMatter','Cruz','HillaryClinton','SB50','Trump']"
   ]
  },
  {
   "cell_type": "markdown",
   "metadata": {},
   "source": [
    "##All"
   ]
  },
  {
   "cell_type": "code",
   "execution_count": 12,
   "metadata": {
    "collapsed": true
   },
   "outputs": [],
   "source": [
    "#Gathering all posts and counting mentions of models\n",
    "mentions = []\n",
    "for i in range(len(tweets.index)):\n",
    "    x = word_tokenize(sub('[^a-zA-Z0-9]', ' ', str(tweets.ix[i]['Tweet'])))\n",
    "    single_mention = []\n",
    "    for j in range(len(x)):\n",
    "        if x[j] in hashtags:\n",
    "            single_mention.append(x[j])\n",
    "    if single_mention:\n",
    "        for k in range(len(pd.Series(single_mention).value_counts())):\n",
    "            mentions.append(pd.Series(single_mention).value_counts().index[k])"
   ]
  },
  {
   "cell_type": "code",
   "execution_count": 13,
   "metadata": {
    "collapsed": false
   },
   "outputs": [
    {
     "data": {
      "text/plain": [
       "SB50                6518\n",
       "Beyonce             3252\n",
       "Trump               1914\n",
       "Bernie              1608\n",
       "Cruz                 717\n",
       "HillaryClinton       412\n",
       "BlackLivesMatter     224\n",
       "dtype: int64"
      ]
     },
     "execution_count": 13,
     "metadata": {},
     "output_type": "execute_result"
    }
   ],
   "source": [
    "#top ten most mentioned hashtags\n",
    "most_mentioned_hashtags = pd.Series(mentions).value_counts()\n",
    "most_mentioned_hashtags"
   ]
  },
  {
   "cell_type": "code",
   "execution_count": 14,
   "metadata": {
    "collapsed": false
   },
   "outputs": [],
   "source": [
    "#Gererating dataframe for lift calculations\n",
    "mentions_df = pd.DataFrame(index = range(len(tweets)))\n",
    "for i in hashtags:\n",
    "    mentions = []\n",
    "    for j in range(len(tweets.index)):\n",
    "        x = word_tokenize(sub('[^a-zA-Z0-9]', ' ', str(tweets.ix[j]['Tweet'])))\n",
    "        single_mention = []\n",
    "        for k in range(len(x)):\n",
    "            if x[k] == i:\n",
    "                single_mention.append(x[k])\n",
    "        if single_mention:\n",
    "            mentions.append(1)\n",
    "        else:\n",
    "            mentions.append(0)\n",
    "    mentions_df[i] = pd.Series(mentions)"
   ]
  },
  {
   "cell_type": "code",
   "execution_count": 15,
   "metadata": {
    "collapsed": false
   },
   "outputs": [
    {
     "data": {
      "text/plain": [
       "(17852, 7)"
      ]
     },
     "execution_count": 15,
     "metadata": {},
     "output_type": "execute_result"
    }
   ],
   "source": [
    "mentions_df.shape"
   ]
  },
  {
   "cell_type": "code",
   "execution_count": 16,
   "metadata": {
    "collapsed": false
   },
   "outputs": [
    {
     "data": {
      "text/html": [
       "<div>\n",
       "<table border=\"1\" class=\"dataframe\">\n",
       "  <thead>\n",
       "    <tr style=\"text-align: right;\">\n",
       "      <th></th>\n",
       "      <th>Bernie</th>\n",
       "      <th>Beyonce</th>\n",
       "      <th>BlackLivesMatter</th>\n",
       "      <th>Cruz</th>\n",
       "      <th>HillaryClinton</th>\n",
       "      <th>SB50</th>\n",
       "      <th>Trump</th>\n",
       "    </tr>\n",
       "  </thead>\n",
       "  <tbody>\n",
       "    <tr>\n",
       "      <th>0</th>\n",
       "      <td>0</td>\n",
       "      <td>0</td>\n",
       "      <td>0</td>\n",
       "      <td>0</td>\n",
       "      <td>0</td>\n",
       "      <td>1</td>\n",
       "      <td>0</td>\n",
       "    </tr>\n",
       "    <tr>\n",
       "      <th>1</th>\n",
       "      <td>0</td>\n",
       "      <td>0</td>\n",
       "      <td>0</td>\n",
       "      <td>0</td>\n",
       "      <td>0</td>\n",
       "      <td>1</td>\n",
       "      <td>0</td>\n",
       "    </tr>\n",
       "    <tr>\n",
       "      <th>2</th>\n",
       "      <td>0</td>\n",
       "      <td>0</td>\n",
       "      <td>0</td>\n",
       "      <td>0</td>\n",
       "      <td>0</td>\n",
       "      <td>1</td>\n",
       "      <td>0</td>\n",
       "    </tr>\n",
       "    <tr>\n",
       "      <th>3</th>\n",
       "      <td>0</td>\n",
       "      <td>0</td>\n",
       "      <td>0</td>\n",
       "      <td>0</td>\n",
       "      <td>0</td>\n",
       "      <td>1</td>\n",
       "      <td>0</td>\n",
       "    </tr>\n",
       "    <tr>\n",
       "      <th>4</th>\n",
       "      <td>0</td>\n",
       "      <td>0</td>\n",
       "      <td>0</td>\n",
       "      <td>0</td>\n",
       "      <td>0</td>\n",
       "      <td>1</td>\n",
       "      <td>0</td>\n",
       "    </tr>\n",
       "  </tbody>\n",
       "</table>\n",
       "</div>"
      ],
      "text/plain": [
       "   Bernie  Beyonce  BlackLivesMatter  Cruz  HillaryClinton  SB50  Trump\n",
       "0       0        0                 0     0               0     1      0\n",
       "1       0        0                 0     0               0     1      0\n",
       "2       0        0                 0     0               0     1      0\n",
       "3       0        0                 0     0               0     1      0\n",
       "4       0        0                 0     0               0     1      0"
      ]
     },
     "execution_count": 16,
     "metadata": {},
     "output_type": "execute_result"
    }
   ],
   "source": [
    "mentions_df.head()"
   ]
  },
  {
   "cell_type": "code",
   "execution_count": 17,
   "metadata": {
    "collapsed": true
   },
   "outputs": [],
   "source": [
    "#Write to csv for processing using 'lift calculations.R'\n",
    "mentions_df.to_csv('mentions_binary.csv', header=True, index=False)"
   ]
  },
  {
   "cell_type": "markdown",
   "metadata": {
    "collapsed": true
   },
   "source": [
    "## 1. SB Start"
   ]
  },
  {
   "cell_type": "code",
   "execution_count": 18,
   "metadata": {
    "collapsed": false
   },
   "outputs": [
    {
     "data": {
      "text/plain": [
       "(2698, 2)"
      ]
     },
     "execution_count": 18,
     "metadata": {},
     "output_type": "execute_result"
    }
   ],
   "source": [
    "tweets = pd.read_csv(\"ReplacedTweets1.csv\")\n",
    "tweets.shape"
   ]
  },
  {
   "cell_type": "code",
   "execution_count": 19,
   "metadata": {
    "collapsed": false
   },
   "outputs": [
    {
     "data": {
      "text/html": [
       "<div>\n",
       "<table border=\"1\" class=\"dataframe\">\n",
       "  <thead>\n",
       "    <tr style=\"text-align: right;\">\n",
       "      <th></th>\n",
       "      <th>Tweet</th>\n",
       "      <th>Flag</th>\n",
       "    </tr>\n",
       "  </thead>\n",
       "  <tbody>\n",
       "    <tr>\n",
       "      <th>0</th>\n",
       "      <td>RT @tinatbh: very sad to hear about donald tru...</td>\n",
       "      <td>1. SB Start</td>\n",
       "    </tr>\n",
       "    <tr>\n",
       "      <th>1</th>\n",
       "      <td>RT @GlamtwinKels1: Always Stay gracious best r...</td>\n",
       "      <td>1. SB Start</td>\n",
       "    </tr>\n",
       "    <tr>\n",
       "      <th>2</th>\n",
       "      <td>RT @KaiserGeiser: Those who didn't get it: @la...</td>\n",
       "      <td>1. SB Start</td>\n",
       "    </tr>\n",
       "    <tr>\n",
       "      <th>3</th>\n",
       "      <td>Am I the only one who thinks a SB party is dum...</td>\n",
       "      <td>1. SB Start</td>\n",
       "    </tr>\n",
       "    <tr>\n",
       "      <th>4</th>\n",
       "      <td>RT @daniecal: Beyonce video said 'Stop shootin...</td>\n",
       "      <td>1. SB Start</td>\n",
       "    </tr>\n",
       "  </tbody>\n",
       "</table>\n",
       "</div>"
      ],
      "text/plain": [
       "                                               Tweet         Flag\n",
       "0  RT @tinatbh: very sad to hear about donald tru...  1. SB Start\n",
       "1  RT @GlamtwinKels1: Always Stay gracious best r...  1. SB Start\n",
       "2  RT @KaiserGeiser: Those who didn't get it: @la...  1. SB Start\n",
       "3  Am I the only one who thinks a SB party is dum...  1. SB Start\n",
       "4  RT @daniecal: Beyonce video said 'Stop shootin...  1. SB Start"
      ]
     },
     "execution_count": 19,
     "metadata": {},
     "output_type": "execute_result"
    }
   ],
   "source": [
    "tweets.head()"
   ]
  },
  {
   "cell_type": "code",
   "execution_count": 20,
   "metadata": {
    "collapsed": false
   },
   "outputs": [
    {
     "data": {
      "text/plain": [
       "SB50                1311\n",
       "Beyonce              468\n",
       "Trump                224\n",
       "Bernie               137\n",
       "Cruz                 111\n",
       "BlackLivesMatter      17\n",
       "HillaryClinton        14\n",
       "dtype: int64"
      ]
     },
     "execution_count": 20,
     "metadata": {},
     "output_type": "execute_result"
    }
   ],
   "source": [
    "#Gathering all posts and counting mentions of models\n",
    "mentions = []\n",
    "for i in range(len(tweets.index)):\n",
    "    x = word_tokenize(sub('[^a-zA-Z0-9]', ' ', str(tweets.ix[i]['Tweet'])))\n",
    "    single_mention = []\n",
    "    for j in range(len(x)):\n",
    "        if x[j] in hashtags:\n",
    "            single_mention.append(x[j])\n",
    "    if single_mention:\n",
    "        for k in range(len(pd.Series(single_mention).value_counts())):\n",
    "            mentions.append(pd.Series(single_mention).value_counts().index[k])\n",
    "            \n",
    "#top ten most mentioned hashtags\n",
    "pd.Series(mentions).value_counts()"
   ]
  },
  {
   "cell_type": "code",
   "execution_count": 21,
   "metadata": {
    "collapsed": false
   },
   "outputs": [
    {
     "data": {
      "text/plain": [
       "(2698, 7)"
      ]
     },
     "execution_count": 21,
     "metadata": {},
     "output_type": "execute_result"
    }
   ],
   "source": [
    "#Gererating dataframe for lift calculations\n",
    "mentions_df = pd.DataFrame(index = range(len(tweets)))\n",
    "for i in hashtags:\n",
    "    mentions = []\n",
    "    for j in range(len(tweets.index)):\n",
    "        x = word_tokenize(sub('[^a-zA-Z0-9]', ' ', str(tweets.ix[j]['Tweet'])))\n",
    "        single_mention = []\n",
    "        for k in range(len(x)):\n",
    "            if x[k] == i:\n",
    "                single_mention.append(x[k])\n",
    "        if single_mention:\n",
    "            mentions.append(1)\n",
    "        else:\n",
    "            mentions.append(0)\n",
    "    mentions_df[i] = pd.Series(mentions)\n",
    "\n",
    "mentions_df.shape"
   ]
  },
  {
   "cell_type": "code",
   "execution_count": 22,
   "metadata": {
    "collapsed": false
   },
   "outputs": [
    {
     "data": {
      "text/html": [
       "<div>\n",
       "<table border=\"1\" class=\"dataframe\">\n",
       "  <thead>\n",
       "    <tr style=\"text-align: right;\">\n",
       "      <th></th>\n",
       "      <th>Bernie</th>\n",
       "      <th>Beyonce</th>\n",
       "      <th>BlackLivesMatter</th>\n",
       "      <th>Cruz</th>\n",
       "      <th>HillaryClinton</th>\n",
       "      <th>SB50</th>\n",
       "      <th>Trump</th>\n",
       "    </tr>\n",
       "  </thead>\n",
       "  <tbody>\n",
       "    <tr>\n",
       "      <th>0</th>\n",
       "      <td>0</td>\n",
       "      <td>0</td>\n",
       "      <td>0</td>\n",
       "      <td>0</td>\n",
       "      <td>0</td>\n",
       "      <td>0</td>\n",
       "      <td>0</td>\n",
       "    </tr>\n",
       "    <tr>\n",
       "      <th>1</th>\n",
       "      <td>0</td>\n",
       "      <td>1</td>\n",
       "      <td>0</td>\n",
       "      <td>0</td>\n",
       "      <td>0</td>\n",
       "      <td>0</td>\n",
       "      <td>0</td>\n",
       "    </tr>\n",
       "    <tr>\n",
       "      <th>2</th>\n",
       "      <td>0</td>\n",
       "      <td>1</td>\n",
       "      <td>0</td>\n",
       "      <td>0</td>\n",
       "      <td>0</td>\n",
       "      <td>0</td>\n",
       "      <td>0</td>\n",
       "    </tr>\n",
       "    <tr>\n",
       "      <th>3</th>\n",
       "      <td>0</td>\n",
       "      <td>0</td>\n",
       "      <td>0</td>\n",
       "      <td>0</td>\n",
       "      <td>0</td>\n",
       "      <td>1</td>\n",
       "      <td>0</td>\n",
       "    </tr>\n",
       "    <tr>\n",
       "      <th>4</th>\n",
       "      <td>0</td>\n",
       "      <td>1</td>\n",
       "      <td>0</td>\n",
       "      <td>0</td>\n",
       "      <td>0</td>\n",
       "      <td>0</td>\n",
       "      <td>0</td>\n",
       "    </tr>\n",
       "  </tbody>\n",
       "</table>\n",
       "</div>"
      ],
      "text/plain": [
       "   Bernie  Beyonce  BlackLivesMatter  Cruz  HillaryClinton  SB50  Trump\n",
       "0       0        0                 0     0               0     0      0\n",
       "1       0        1                 0     0               0     0      0\n",
       "2       0        1                 0     0               0     0      0\n",
       "3       0        0                 0     0               0     1      0\n",
       "4       0        1                 0     0               0     0      0"
      ]
     },
     "execution_count": 22,
     "metadata": {},
     "output_type": "execute_result"
    }
   ],
   "source": [
    "mentions_df.head()"
   ]
  },
  {
   "cell_type": "code",
   "execution_count": 23,
   "metadata": {
    "collapsed": false
   },
   "outputs": [],
   "source": [
    "mentions_df.to_csv('mentions_binary1.csv', header=True, index=False)"
   ]
  },
  {
   "cell_type": "markdown",
   "metadata": {},
   "source": [
    "## 2. SB End"
   ]
  },
  {
   "cell_type": "code",
   "execution_count": 24,
   "metadata": {
    "collapsed": false
   },
   "outputs": [
    {
     "data": {
      "text/plain": [
       "(2618, 2)"
      ]
     },
     "execution_count": 24,
     "metadata": {},
     "output_type": "execute_result"
    }
   ],
   "source": [
    "tweets = pd.read_csv(\"ReplacedTweets2.csv\")\n",
    "tweets.shape"
   ]
  },
  {
   "cell_type": "code",
   "execution_count": 25,
   "metadata": {
    "collapsed": false
   },
   "outputs": [
    {
     "data": {
      "text/plain": [
       "SB50                2130\n",
       "Beyonce              255\n",
       "Bernie                24\n",
       "Trump                 20\n",
       "Cruz                  15\n",
       "BlackLivesMatter       6\n",
       "HillaryClinton         1\n",
       "dtype: int64"
      ]
     },
     "execution_count": 25,
     "metadata": {},
     "output_type": "execute_result"
    }
   ],
   "source": [
    "#Gathering all posts and counting mentions of models\n",
    "mentions = []\n",
    "for i in range(len(tweets.index)):\n",
    "    x = word_tokenize(sub('[^a-zA-Z0-9]', ' ', str(tweets.ix[i]['Tweet'])))\n",
    "    single_mention = []\n",
    "    for j in range(len(x)):\n",
    "        if x[j] in hashtags:\n",
    "            single_mention.append(x[j])\n",
    "    if single_mention:\n",
    "        for k in range(len(pd.Series(single_mention).value_counts())):\n",
    "            mentions.append(pd.Series(single_mention).value_counts().index[k])\n",
    "            \n",
    "#top ten most mentioned hashtags\n",
    "pd.Series(mentions).value_counts()"
   ]
  },
  {
   "cell_type": "code",
   "execution_count": 26,
   "metadata": {
    "collapsed": false
   },
   "outputs": [
    {
     "data": {
      "text/plain": [
       "(2618, 7)"
      ]
     },
     "execution_count": 26,
     "metadata": {},
     "output_type": "execute_result"
    }
   ],
   "source": [
    "#Gererating dataframe for lift calculations\n",
    "mentions_df = pd.DataFrame(index = range(len(tweets)))\n",
    "for i in hashtags:\n",
    "    mentions = []\n",
    "    for j in range(len(tweets.index)):\n",
    "        x = word_tokenize(sub('[^a-zA-Z0-9]', ' ', str(tweets.ix[j]['Tweet'])))\n",
    "        single_mention = []\n",
    "        for k in range(len(x)):\n",
    "            if x[k] == i:\n",
    "                single_mention.append(x[k])\n",
    "        if single_mention:\n",
    "            mentions.append(1)\n",
    "        else:\n",
    "            mentions.append(0)\n",
    "    mentions_df[i] = pd.Series(mentions)\n",
    "\n",
    "mentions_df.to_csv('mentions_binary2.csv', header=True, index=False)\n",
    "mentions_df.shape"
   ]
  },
  {
   "cell_type": "markdown",
   "metadata": {},
   "source": [
    "## 3. Post SB"
   ]
  },
  {
   "cell_type": "code",
   "execution_count": 27,
   "metadata": {
    "collapsed": false
   },
   "outputs": [
    {
     "data": {
      "text/plain": [
       "(3896, 2)"
      ]
     },
     "execution_count": 27,
     "metadata": {},
     "output_type": "execute_result"
    }
   ],
   "source": [
    "tweets = pd.read_csv(\"ReplacedTweets3.csv\")\n",
    "tweets.shape"
   ]
  },
  {
   "cell_type": "code",
   "execution_count": 28,
   "metadata": {
    "collapsed": false
   },
   "outputs": [
    {
     "data": {
      "text/plain": [
       "SB50                2922\n",
       "Beyonce              496\n",
       "Trump                 22\n",
       "Bernie                15\n",
       "Cruz                   7\n",
       "BlackLivesMatter       3\n",
       "HillaryClinton         1\n",
       "dtype: int64"
      ]
     },
     "execution_count": 28,
     "metadata": {},
     "output_type": "execute_result"
    }
   ],
   "source": [
    "#Gathering all posts and counting mentions of models\n",
    "mentions = []\n",
    "for i in range(len(tweets.index)):\n",
    "    x = word_tokenize(sub('[^a-zA-Z0-9]', ' ', str(tweets.ix[i]['Tweet'])))\n",
    "    single_mention = []\n",
    "    for j in range(len(x)):\n",
    "        if x[j] in hashtags:\n",
    "            single_mention.append(x[j])\n",
    "    if single_mention:\n",
    "        for k in range(len(pd.Series(single_mention).value_counts())):\n",
    "            mentions.append(pd.Series(single_mention).value_counts().index[k])\n",
    "            \n",
    "#top ten most mentioned hashtags\n",
    "pd.Series(mentions).value_counts()"
   ]
  },
  {
   "cell_type": "code",
   "execution_count": 29,
   "metadata": {
    "collapsed": false
   },
   "outputs": [
    {
     "data": {
      "text/plain": [
       "(3896, 7)"
      ]
     },
     "execution_count": 29,
     "metadata": {},
     "output_type": "execute_result"
    }
   ],
   "source": [
    "#Gererating dataframe for lift calculations\n",
    "mentions_df = pd.DataFrame(index = range(len(tweets)))\n",
    "for i in hashtags:\n",
    "    mentions = []\n",
    "    for j in range(len(tweets.index)):\n",
    "        x = word_tokenize(sub('[^a-zA-Z0-9]', ' ', str(tweets.ix[j]['Tweet'])))\n",
    "        single_mention = []\n",
    "        for k in range(len(x)):\n",
    "            if x[k] == i:\n",
    "                single_mention.append(x[k])\n",
    "        if single_mention:\n",
    "            mentions.append(1)\n",
    "        else:\n",
    "            mentions.append(0)\n",
    "    mentions_df[i] = pd.Series(mentions)\n",
    "\n",
    "mentions_df.to_csv('mentions_binary3.csv', header=True, index=False)\n",
    "mentions_df.shape"
   ]
  },
  {
   "cell_type": "markdown",
   "metadata": {},
   "source": [
    "## 4. Midweek"
   ]
  },
  {
   "cell_type": "code",
   "execution_count": 30,
   "metadata": {
    "collapsed": false
   },
   "outputs": [
    {
     "data": {
      "text/plain": [
       "(6001, 2)"
      ]
     },
     "execution_count": 30,
     "metadata": {},
     "output_type": "execute_result"
    }
   ],
   "source": [
    "tweets = pd.read_csv(\"ReplacedTweets4.csv\")\n",
    "tweets.shape"
   ]
  },
  {
   "cell_type": "code",
   "execution_count": 31,
   "metadata": {
    "collapsed": false
   },
   "outputs": [
    {
     "data": {
      "text/plain": [
       "Trump               1561\n",
       "Beyonce             1066\n",
       "Bernie               962\n",
       "Cruz                 562\n",
       "HillaryClinton       327\n",
       "SB50                 143\n",
       "BlackLivesMatter      90\n",
       "dtype: int64"
      ]
     },
     "execution_count": 31,
     "metadata": {},
     "output_type": "execute_result"
    }
   ],
   "source": [
    "#Gathering all posts and counting mentions of models\n",
    "mentions = []\n",
    "for i in range(len(tweets.index)):\n",
    "    x = word_tokenize(sub('[^a-zA-Z0-9]', ' ', str(tweets.ix[i]['Tweet'])))\n",
    "    single_mention = []\n",
    "    for j in range(len(x)):\n",
    "        if x[j] in hashtags:\n",
    "            single_mention.append(x[j])\n",
    "    if single_mention:\n",
    "        for k in range(len(pd.Series(single_mention).value_counts())):\n",
    "            mentions.append(pd.Series(single_mention).value_counts().index[k])\n",
    "            \n",
    "#top ten most mentioned hashtags\n",
    "pd.Series(mentions).value_counts()"
   ]
  },
  {
   "cell_type": "code",
   "execution_count": 32,
   "metadata": {
    "collapsed": false
   },
   "outputs": [
    {
     "data": {
      "text/plain": [
       "(6001, 7)"
      ]
     },
     "execution_count": 32,
     "metadata": {},
     "output_type": "execute_result"
    }
   ],
   "source": [
    "#Gererating dataframe for lift calculations\n",
    "mentions_df = pd.DataFrame(index = range(len(tweets)))\n",
    "for i in hashtags:\n",
    "    mentions = []\n",
    "    for j in range(len(tweets.index)):\n",
    "        x = word_tokenize(sub('[^a-zA-Z0-9]', ' ', str(tweets.ix[j]['Tweet'])))\n",
    "        single_mention = []\n",
    "        for k in range(len(x)):\n",
    "            if x[k] == i:\n",
    "                single_mention.append(x[k])\n",
    "        if single_mention:\n",
    "            mentions.append(1)\n",
    "        else:\n",
    "            mentions.append(0)\n",
    "    mentions_df[i] = pd.Series(mentions)\n",
    "\n",
    "mentions_df.to_csv('mentions_binary4.csv', header=True, index=False)\n",
    "mentions_df.shape"
   ]
  },
  {
   "cell_type": "markdown",
   "metadata": {},
   "source": [
    "## 5. Weekend"
   ]
  },
  {
   "cell_type": "code",
   "execution_count": 33,
   "metadata": {
    "collapsed": false
   },
   "outputs": [
    {
     "data": {
      "text/plain": [
       "(2639, 2)"
      ]
     },
     "execution_count": 33,
     "metadata": {},
     "output_type": "execute_result"
    }
   ],
   "source": [
    "tweets = pd.read_csv(\"ReplacedTweets5.csv\")\n",
    "tweets.shape"
   ]
  },
  {
   "cell_type": "code",
   "execution_count": 34,
   "metadata": {
    "collapsed": false
   },
   "outputs": [
    {
     "data": {
      "text/plain": [
       "Beyonce             967\n",
       "Bernie              470\n",
       "BlackLivesMatter    108\n",
       "Trump                87\n",
       "HillaryClinton       69\n",
       "Cruz                 22\n",
       "SB50                 12\n",
       "dtype: int64"
      ]
     },
     "execution_count": 34,
     "metadata": {},
     "output_type": "execute_result"
    }
   ],
   "source": [
    "#Gathering all posts and counting mentions of models\n",
    "mentions = []\n",
    "for i in range(len(tweets.index)):\n",
    "    x = word_tokenize(sub('[^a-zA-Z0-9]', ' ', str(tweets.ix[i]['Tweet'])))\n",
    "    single_mention = []\n",
    "    for j in range(len(x)):\n",
    "        if x[j] in hashtags:\n",
    "            single_mention.append(x[j])\n",
    "    if single_mention:\n",
    "        for k in range(len(pd.Series(single_mention).value_counts())):\n",
    "            mentions.append(pd.Series(single_mention).value_counts().index[k])\n",
    "            \n",
    "#top ten most mentioned hashtags\n",
    "pd.Series(mentions).value_counts()"
   ]
  },
  {
   "cell_type": "code",
   "execution_count": 35,
   "metadata": {
    "collapsed": false
   },
   "outputs": [
    {
     "data": {
      "text/plain": [
       "(2639, 7)"
      ]
     },
     "execution_count": 35,
     "metadata": {},
     "output_type": "execute_result"
    }
   ],
   "source": [
    "#Gererating dataframe for lift calculations\n",
    "mentions_df = pd.DataFrame(index = range(len(tweets)))\n",
    "for i in hashtags:\n",
    "    mentions = []\n",
    "    for j in range(len(tweets.index)):\n",
    "        x = word_tokenize(sub('[^a-zA-Z0-9]', ' ', str(tweets.ix[j]['Tweet'])))\n",
    "        single_mention = []\n",
    "        for k in range(len(x)):\n",
    "            if x[k] == i:\n",
    "                single_mention.append(x[k])\n",
    "        if single_mention:\n",
    "            mentions.append(1)\n",
    "        else:\n",
    "            mentions.append(0)\n",
    "    mentions_df[i] = pd.Series(mentions)\n",
    "\n",
    "mentions_df.to_csv('mentions_binary5.csv', header=True, index=False)\n",
    "mentions_df.shape"
   ]
  },
  {
   "cell_type": "markdown",
   "metadata": {
    "collapsed": true
   },
   "source": [
    "## SB Day"
   ]
  },
  {
   "cell_type": "code",
   "execution_count": 36,
   "metadata": {
    "collapsed": false
   },
   "outputs": [
    {
     "data": {
      "text/plain": [
       "(9212, 2)"
      ]
     },
     "execution_count": 36,
     "metadata": {},
     "output_type": "execute_result"
    }
   ],
   "source": [
    "tweets = pd.read_csv(\"ReplacedTweetsSB.csv\")\n",
    "tweets.shape"
   ]
  },
  {
   "cell_type": "code",
   "execution_count": 37,
   "metadata": {
    "collapsed": false
   },
   "outputs": [
    {
     "data": {
      "text/plain": [
       "SB50                6363\n",
       "Beyonce             1219\n",
       "Trump                266\n",
       "Bernie               176\n",
       "Cruz                 133\n",
       "BlackLivesMatter      26\n",
       "HillaryClinton        16\n",
       "dtype: int64"
      ]
     },
     "execution_count": 37,
     "metadata": {},
     "output_type": "execute_result"
    }
   ],
   "source": [
    "#Gathering all posts and counting mentions of models\n",
    "mentions = []\n",
    "for i in range(len(tweets.index)):\n",
    "    x = word_tokenize(sub('[^a-zA-Z0-9]', ' ', str(tweets.ix[i]['Tweet'])))\n",
    "    single_mention = []\n",
    "    for j in range(len(x)):\n",
    "        if x[j] in hashtags:\n",
    "            single_mention.append(x[j])\n",
    "    if single_mention:\n",
    "        for k in range(len(pd.Series(single_mention).value_counts())):\n",
    "            mentions.append(pd.Series(single_mention).value_counts().index[k])\n",
    "            \n",
    "#top ten most mentioned hashtags\n",
    "pd.Series(mentions).value_counts()"
   ]
  },
  {
   "cell_type": "code",
   "execution_count": 38,
   "metadata": {
    "collapsed": false
   },
   "outputs": [
    {
     "data": {
      "text/plain": [
       "(9212, 7)"
      ]
     },
     "execution_count": 38,
     "metadata": {},
     "output_type": "execute_result"
    }
   ],
   "source": [
    "#Gererating dataframe for lift calculations\n",
    "mentions_df = pd.DataFrame(index = range(len(tweets)))\n",
    "for i in hashtags:\n",
    "    mentions = []\n",
    "    for j in range(len(tweets.index)):\n",
    "        x = word_tokenize(sub('[^a-zA-Z0-9]', ' ', str(tweets.ix[j]['Tweet'])))\n",
    "        single_mention = []\n",
    "        for k in range(len(x)):\n",
    "            if x[k] == i:\n",
    "                single_mention.append(x[k])\n",
    "        if single_mention:\n",
    "            mentions.append(1)\n",
    "        else:\n",
    "            mentions.append(0)\n",
    "    mentions_df[i] = pd.Series(mentions)\n",
    "\n",
    "\n",
    "mentions_df.to_csv('mentions_binarySB.csv', header=True, index=False)\n",
    "mentions_df.shape"
   ]
  },
  {
   "cell_type": "code",
   "execution_count": null,
   "metadata": {
    "collapsed": true
   },
   "outputs": [],
   "source": []
  }
 ],
 "metadata": {
  "kernelspec": {
   "display_name": "Python 2",
   "language": "python",
   "name": "python2"
  },
  "language_info": {
   "codemirror_mode": {
    "name": "ipython",
    "version": 2
   },
   "file_extension": ".py",
   "mimetype": "text/x-python",
   "name": "python",
   "nbconvert_exporter": "python",
   "pygments_lexer": "ipython2",
   "version": "2.7.10"
  }
 },
 "nbformat": 4,
 "nbformat_minor": 0
}
