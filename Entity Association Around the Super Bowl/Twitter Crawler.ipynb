{
 "cells": [
  {
   "cell_type": "code",
   "execution_count": null,
   "metadata": {
    "collapsed": true
   },
   "outputs": [],
   "source": [
    "import tweepy\n",
    "import csv #Import csv\n",
    "auth = tweepy.auth.OAuthHandler('', '')\n",
    "auth.set_access_token('', '')\n",
    "\n",
    "api = tweepy.API(auth)\n",
    "# Open/Create a file to append data\n",
    "csvFile = open('beyonce9.csv', 'wb') #Use csv Writer\n",
    "csvWriter = csv.writer(csvFile)\n",
    "\n",
    "for tweet in tweepy.Cursor(api.search, \n",
    "q=\"Beyonce+OR+Formation+OR+BeyHive+OR+BlackLivesMatter+OR+Superbowl50+OR+SB50+OR+NFL+OR+Hillary+OR+Bernie+OR+Trump+OR+Cruz\",\n",
    "since_id=696420672955863040, \n",
    "max_id=696440672955863040, \n",
    "lang=\"en\").items():\n",
    "#Write a row to the csv file/ I use encode utf-8\n",
    "csvWriter.writerow([tweet.created_at, tweet.text.encode('utf-8'),tweet.user.screen_name,tweet.in_reply_to_screen_name,tweet.user.followers_count,\n",
    "tweet.user.friends_count,tweet.user.listed_count, tweet.retweet_count, tweet.user.location.encode('utf-8')])\n",
    "csvFile.close()"
   ]
  }
 ],
 "metadata": {
  "kernelspec": {
   "display_name": "Python 2",
   "language": "python",
   "name": "python2"
  },
  "language_info": {
   "codemirror_mode": {
    "name": "ipython",
    "version": 2
   },
   "file_extension": ".py",
   "mimetype": "text/x-python",
   "name": "python",
   "nbconvert_exporter": "python",
   "pygments_lexer": "ipython2",
   "version": "2.7.10"
  }
 },
 "nbformat": 4,
 "nbformat_minor": 0
}
