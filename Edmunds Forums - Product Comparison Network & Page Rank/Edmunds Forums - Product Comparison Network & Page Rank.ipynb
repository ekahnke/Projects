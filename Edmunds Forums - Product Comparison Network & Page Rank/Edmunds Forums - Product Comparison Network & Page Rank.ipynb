{
 "cells": [
  {
   "cell_type": "markdown",
   "metadata": {},
   "source": [
    "# Edmunds Forums - Product Comparison Network & Page Rank"
   ]
  },
  {
   "cell_type": "code",
   "execution_count": 1,
   "metadata": {
    "collapsed": false
   },
   "outputs": [
    {
     "name": "stdout",
     "output_type": "stream",
     "text": [
      "Populating the interactive namespace from numpy and matplotlib\n"
     ]
    }
   ],
   "source": [
    "from pandas import Series, DataFrame\n",
    "import pandas as pd\n",
    "%pylab inline\n",
    "import numpy\n",
    "import matplotlib.pyplot as plt\n",
    "import collections\n",
    "import networkx as nx\n",
    "from scipy.stats.stats import pearsonr\n",
    "import re\n",
    "from nltk.corpus import stopwords\n",
    "from nltk.tokenize import word_tokenize"
   ]
  },
  {
   "cell_type": "markdown",
   "metadata": {},
   "source": [
    "From these sentiment scores, create a directed product comparison network "
   ]
  },
  {
   "cell_type": "code",
   "execution_count": 2,
   "metadata": {
    "collapsed": true
   },
   "outputs": [],
   "source": [
    "binary_adjacency_matrix = pd.read_csv('BinaryAdj.csv', header=False)"
   ]
  },
  {
   "cell_type": "code",
   "execution_count": 3,
   "metadata": {
    "collapsed": false
   },
   "outputs": [
    {
     "data": {
      "text/html": [
       "<div>\n",
       "<table border=\"1\" class=\"dataframe\">\n",
       "  <thead>\n",
       "    <tr style=\"text-align: right;\">\n",
       "      <th></th>\n",
       "      <th>from/to</th>\n",
       "      <th>ES</th>\n",
       "      <th>LS</th>\n",
       "      <th>RX</th>\n",
       "      <th>A8</th>\n",
       "      <th>A6</th>\n",
       "      <th>3series</th>\n",
       "      <th>5series</th>\n",
       "      <th>7series</th>\n",
       "      <th>XJ</th>\n",
       "      <th>Sclass</th>\n",
       "    </tr>\n",
       "  </thead>\n",
       "  <tbody>\n",
       "    <tr>\n",
       "      <th>0</th>\n",
       "      <td>ES</td>\n",
       "      <td>0</td>\n",
       "      <td>1</td>\n",
       "      <td>1</td>\n",
       "      <td>1</td>\n",
       "      <td>1</td>\n",
       "      <td>1</td>\n",
       "      <td>1</td>\n",
       "      <td>1</td>\n",
       "      <td>1</td>\n",
       "      <td>1</td>\n",
       "    </tr>\n",
       "    <tr>\n",
       "      <th>1</th>\n",
       "      <td>LS</td>\n",
       "      <td>1</td>\n",
       "      <td>0</td>\n",
       "      <td>1</td>\n",
       "      <td>1</td>\n",
       "      <td>1</td>\n",
       "      <td>1</td>\n",
       "      <td>1</td>\n",
       "      <td>1</td>\n",
       "      <td>1</td>\n",
       "      <td>1</td>\n",
       "    </tr>\n",
       "    <tr>\n",
       "      <th>2</th>\n",
       "      <td>RX</td>\n",
       "      <td>1</td>\n",
       "      <td>1</td>\n",
       "      <td>0</td>\n",
       "      <td>1</td>\n",
       "      <td>0</td>\n",
       "      <td>1</td>\n",
       "      <td>0</td>\n",
       "      <td>1</td>\n",
       "      <td>0</td>\n",
       "      <td>1</td>\n",
       "    </tr>\n",
       "  </tbody>\n",
       "</table>\n",
       "</div>"
      ],
      "text/plain": [
       "  from/to  ES  LS  RX  A8  A6  3series  5series  7series  XJ  Sclass\n",
       "0      ES   0   1   1   1   1        1        1        1   1       1\n",
       "1      LS   1   0   1   1   1        1        1        1   1       1\n",
       "2      RX   1   1   0   1   0        1        0        1   0       1"
      ]
     },
     "execution_count": 3,
     "metadata": {},
     "output_type": "execute_result"
    }
   ],
   "source": [
    "binary_adjacency_matrix[:3]"
   ]
  },
  {
   "cell_type": "code",
   "execution_count": 4,
   "metadata": {
    "collapsed": false
   },
   "outputs": [],
   "source": [
    "A = numpy.matrix(binary_adjacency_matrix.drop('from/to', 1))"
   ]
  },
  {
   "cell_type": "code",
   "execution_count": 5,
   "metadata": {
    "collapsed": false
   },
   "outputs": [
    {
     "data": {
      "text/plain": [
       "(10L, 10L)"
      ]
     },
     "execution_count": 5,
     "metadata": {},
     "output_type": "execute_result"
    }
   ],
   "source": [
    "A.shape"
   ]
  },
  {
   "cell_type": "code",
   "execution_count": 6,
   "metadata": {
    "collapsed": false
   },
   "outputs": [],
   "source": [
    "G2=nx.from_numpy_matrix(A, create_using=nx.DiGraph())"
   ]
  },
  {
   "cell_type": "code",
   "execution_count": 7,
   "metadata": {
    "collapsed": false
   },
   "outputs": [
    {
     "data": {
      "text/plain": [
       "{0: <matplotlib.text.Text at 0x17be8e48>,\n",
       " 1: <matplotlib.text.Text at 0x19001c50>,\n",
       " 2: <matplotlib.text.Text at 0x19001fd0>,\n",
       " 3: <matplotlib.text.Text at 0x1900d3c8>,\n",
       " 4: <matplotlib.text.Text at 0x1900d780>,\n",
       " 5: <matplotlib.text.Text at 0x1900db38>,\n",
       " 6: <matplotlib.text.Text at 0x1900def0>,\n",
       " 7: <matplotlib.text.Text at 0x1901a2e8>,\n",
       " 8: <matplotlib.text.Text at 0x1901a6a0>,\n",
       " 9: <matplotlib.text.Text at 0x1901aa58>}"
      ]
     },
     "execution_count": 7,
     "metadata": {},
     "output_type": "execute_result"
    },
    {
     "data": {
      "image/png": "[encoded data removed]",
      "text/plain": [
       "<matplotlib.figure.Figure at 0x17be8e80>"
      ]
     },
     "metadata": {},
     "output_type": "display_data"
    }
   ],
   "source": [
    "nx.draw(G2)\n",
    "nx.draw_networkx_labels(G2, pos=nx.spring_layout(G2))"
   ]
  },
  {
   "cell_type": "code",
   "execution_count": 8,
   "metadata": {
    "collapsed": true
   },
   "outputs": [],
   "source": [
    "car_list = binary_adjacency_matrix.columns[1:]"
   ]
  },
  {
   "cell_type": "code",
   "execution_count": 9,
   "metadata": {
    "collapsed": false
   },
   "outputs": [
    {
     "data": {
      "text/plain": [
       "10"
      ]
     },
     "execution_count": 9,
     "metadata": {},
     "output_type": "execute_result"
    }
   ],
   "source": [
    "len(car_list)"
   ]
  },
  {
   "cell_type": "code",
   "execution_count": 10,
   "metadata": {
    "collapsed": false
   },
   "outputs": [],
   "source": [
    "G3=G2"
   ]
  },
  {
   "cell_type": "code",
   "execution_count": 11,
   "metadata": {
    "collapsed": false
   },
   "outputs": [],
   "source": [
    "list09 = [0,1,2,3,4,5,6,7,8,9]"
   ]
  },
  {
   "cell_type": "code",
   "execution_count": 12,
   "metadata": {
    "collapsed": false
   },
   "outputs": [
    {
     "data": {
      "text/plain": [
       "['ES', 'LS', 'RX', 'A8', 'A6', '3series', '5series', '7series', 'XJ', 'Sclass']"
      ]
     },
     "execution_count": 12,
     "metadata": {},
     "output_type": "execute_result"
    }
   ],
   "source": [
    "car_list = list(car_list)\n",
    "car_list"
   ]
  },
  {
   "cell_type": "code",
   "execution_count": 13,
   "metadata": {
    "collapsed": true
   },
   "outputs": [],
   "source": [
    "mapping = dict(zip(list09, car_list))"
   ]
  },
  {
   "cell_type": "code",
   "execution_count": 14,
   "metadata": {
    "collapsed": false
   },
   "outputs": [],
   "source": [
    "G3 = nx.relabel_nodes(G3, mapping)"
   ]
  },
  {
   "cell_type": "code",
   "execution_count": 15,
   "metadata": {
    "collapsed": false
   },
   "outputs": [
    {
     "data": {
      "text/plain": [
       "['XJ', '7series', 'Sclass', 'RX', 'LS', 'A6', 'A8', '3series', 'ES', '5series']"
      ]
     },
     "execution_count": 15,
     "metadata": {},
     "output_type": "execute_result"
    }
   ],
   "source": [
    "G3.nodes()"
   ]
  },
  {
   "cell_type": "code",
   "execution_count": 16,
   "metadata": {
    "collapsed": false,
    "scrolled": true
   },
   "outputs": [
    {
     "data": {
      "image/png": "[encoded data removed]",
      "text/plain": [
       "<matplotlib.figure.Figure at 0x1913a390>"
      ]
     },
     "metadata": {},
     "output_type": "display_data"
    }
   ],
   "source": [
    "nx.draw_circular(G3)\n",
    "nx.draw_networkx_labels(G3, pos=nx.spring_layout(G3))\n",
    "plt.show()"
   ]
  },
  {
   "cell_type": "markdown",
   "metadata": {},
   "source": [
    "Calculate both unweighted and weighted PageRank scores for each car. What are the correlations between these metrics and sales figures?"
   ]
  },
  {
   "cell_type": "code",
   "execution_count": 17,
   "metadata": {
    "collapsed": false
   },
   "outputs": [],
   "source": [
    "unweighted_pageranks = nx.pagerank(G3)"
   ]
  },
  {
   "cell_type": "code",
   "execution_count": 18,
   "metadata": {
    "collapsed": false
   },
   "outputs": [
    {
     "data": {
      "text/plain": [
       "OrderedDict([('3series', 0.09252639002146147), ('5series', 0.07750004212875027), ('7series', 0.10946398181419068), ('A6', 0.08536735073305558), ('A8', 0.11064475005772707), ('ES', 0.11064475005772707), ('LS', 0.11064475005772707), ('RX', 0.10606820030437387), ('Sclass', 0.11064475005772707), ('XJ', 0.08649503476725975)])"
      ]
     },
     "execution_count": 18,
     "metadata": {},
     "output_type": "execute_result"
    }
   ],
   "source": [
    "unweighted_pageranks = collections.OrderedDict(sorted(unweighted_pageranks.items(),\n",
    "                                          key=lambda t: t[0]))\n",
    "unweighted_pageranks"
   ]
  },
  {
   "cell_type": "code",
   "execution_count": 19,
   "metadata": {
    "collapsed": true
   },
   "outputs": [],
   "source": [
    "sales_dict = {\n",
    "    '3series': 220000,\n",
    "    '5series': 12000,\n",
    "    '7series': 14000,\n",
    "    'A6': 20000,\n",
    "    'A8': 12000,\n",
    "    'ES': 135000,\n",
    "    'LS': 30000,\n",
    "    'RX': 120000,\n",
    "    'Sclass': 25000,\n",
    "    'XJ': 6600\n",
    "}"
   ]
  },
  {
   "cell_type": "code",
   "execution_count": 20,
   "metadata": {
    "collapsed": false
   },
   "outputs": [],
   "source": [
    "sales = collections.OrderedDict(sorted(sales_dict.items(),\n",
    "                                          key=lambda t: t[0]))"
   ]
  },
  {
   "cell_type": "code",
   "execution_count": 21,
   "metadata": {
    "collapsed": false
   },
   "outputs": [
    {
     "data": {
      "text/plain": [
       "(0.083096650833011432, 0.81947604333585899)"
      ]
     },
     "execution_count": 21,
     "metadata": {},
     "output_type": "execute_result"
    }
   ],
   "source": [
    "pearsonr(unweighted_pageranks.values(), sales.values())"
   ]
  },
  {
   "cell_type": "markdown",
   "metadata": {},
   "source": [
    "The correlation between unweighted pagerank scores and sales values is low, at .083.\n",
    "This indicates that unweighted pagerank scores would not be very helpful in predicting sales values, as the high p-value confirms."
   ]
  },
  {
   "cell_type": "code",
   "execution_count": 22,
   "metadata": {
    "collapsed": true
   },
   "outputs": [],
   "source": [
    "weighted_adjacency_matrix = pd.read_csv('WeightedAdj.csv')"
   ]
  },
  {
   "cell_type": "code",
   "execution_count": 23,
   "metadata": {
    "collapsed": false
   },
   "outputs": [
    {
     "data": {
      "text/html": [
       "<div>\n",
       "<table border=\"1\" class=\"dataframe\">\n",
       "  <thead>\n",
       "    <tr style=\"text-align: right;\">\n",
       "      <th></th>\n",
       "      <th>from/to</th>\n",
       "      <th>ES</th>\n",
       "      <th>LS</th>\n",
       "      <th>RX</th>\n",
       "      <th>A8</th>\n",
       "      <th>A6</th>\n",
       "      <th>3series</th>\n",
       "      <th>5series</th>\n",
       "      <th>7series</th>\n",
       "      <th>XJ</th>\n",
       "      <th>Sclass</th>\n",
       "    </tr>\n",
       "  </thead>\n",
       "  <tbody>\n",
       "    <tr>\n",
       "      <th>0</th>\n",
       "      <td>ES</td>\n",
       "      <td>0.00</td>\n",
       "      <td>2.0</td>\n",
       "      <td>2.000000</td>\n",
       "      <td>3.000000</td>\n",
       "      <td>1.666667</td>\n",
       "      <td>6</td>\n",
       "      <td>5.0</td>\n",
       "      <td>2.80</td>\n",
       "      <td>1.000000</td>\n",
       "      <td>2.615385</td>\n",
       "    </tr>\n",
       "    <tr>\n",
       "      <th>1</th>\n",
       "      <td>LS</td>\n",
       "      <td>1.17</td>\n",
       "      <td>0.0</td>\n",
       "      <td>1.285714</td>\n",
       "      <td>2.837838</td>\n",
       "      <td>1.285714</td>\n",
       "      <td>4</td>\n",
       "      <td>3.1</td>\n",
       "      <td>2.75</td>\n",
       "      <td>2.888889</td>\n",
       "      <td>2.677419</td>\n",
       "    </tr>\n",
       "    <tr>\n",
       "      <th>2</th>\n",
       "      <td>RX</td>\n",
       "      <td>1.67</td>\n",
       "      <td>3.4</td>\n",
       "      <td>0.000000</td>\n",
       "      <td>1.000000</td>\n",
       "      <td>0.000000</td>\n",
       "      <td>4</td>\n",
       "      <td>0.0</td>\n",
       "      <td>1.00</td>\n",
       "      <td>0.000000</td>\n",
       "      <td>2.500000</td>\n",
       "    </tr>\n",
       "  </tbody>\n",
       "</table>\n",
       "</div>"
      ],
      "text/plain": [
       "  from/to    ES   LS        RX        A8        A6  3series  5series  7series  \\\n",
       "0      ES  0.00  2.0  2.000000  3.000000  1.666667        6      5.0     2.80   \n",
       "1      LS  1.17  0.0  1.285714  2.837838  1.285714        4      3.1     2.75   \n",
       "2      RX  1.67  3.4  0.000000  1.000000  0.000000        4      0.0     1.00   \n",
       "\n",
       "         XJ    Sclass  \n",
       "0  1.000000  2.615385  \n",
       "1  2.888889  2.677419  \n",
       "2  0.000000  2.500000  "
      ]
     },
     "execution_count": 23,
     "metadata": {},
     "output_type": "execute_result"
    }
   ],
   "source": [
    "weighted_adjacency_matrix[:3]"
   ]
  },
  {
   "cell_type": "code",
   "execution_count": 24,
   "metadata": {
    "collapsed": true
   },
   "outputs": [],
   "source": [
    "B = numpy.matrix(weighted_adjacency_matrix.drop('from/to', 1))"
   ]
  },
  {
   "cell_type": "code",
   "execution_count": 25,
   "metadata": {
    "collapsed": true
   },
   "outputs": [],
   "source": [
    "G4=nx.from_numpy_matrix(B, create_using=nx.DiGraph())"
   ]
  },
  {
   "cell_type": "code",
   "execution_count": 26,
   "metadata": {
    "collapsed": true
   },
   "outputs": [],
   "source": [
    "G4 = nx.relabel_nodes(G4, mapping)"
   ]
  },
  {
   "cell_type": "code",
   "execution_count": 27,
   "metadata": {
    "collapsed": true
   },
   "outputs": [],
   "source": [
    "weighted_pageranks = nx.pagerank(G4)"
   ]
  },
  {
   "cell_type": "code",
   "execution_count": 28,
   "metadata": {
    "collapsed": false
   },
   "outputs": [
    {
     "data": {
      "text/plain": [
       "{'3series': 0.13594317001598172,\n",
       " '5series': 0.08832806236702921,\n",
       " '7series': 0.10090699153776964,\n",
       " 'A6': 0.07122680833286149,\n",
       " 'A8': 0.09851518303915444,\n",
       " 'ES': 0.10929936690055869,\n",
       " 'LS': 0.11140141338848428,\n",
       " 'RX': 0.10603333749233616,\n",
       " 'Sclass': 0.10366414644789475,\n",
       " 'XJ': 0.07468152047792978}"
      ]
     },
     "execution_count": 28,
     "metadata": {},
     "output_type": "execute_result"
    }
   ],
   "source": [
    "weighted_pageranks"
   ]
  },
  {
   "cell_type": "code",
   "execution_count": 29,
   "metadata": {
    "collapsed": false
   },
   "outputs": [
    {
     "data": {
      "text/plain": [
       "OrderedDict([('3series', 0.13594317001598172), ('5series', 0.08832806236702921), ('7series', 0.10090699153776964), ('A6', 0.07122680833286149), ('A8', 0.09851518303915444), ('ES', 0.10929936690055869), ('LS', 0.11140141338848428), ('RX', 0.10603333749233616), ('Sclass', 0.10366414644789475), ('XJ', 0.07468152047792978)])"
      ]
     },
     "execution_count": 29,
     "metadata": {},
     "output_type": "execute_result"
    }
   ],
   "source": [
    "weighted_pageranks = collections.OrderedDict(sorted(weighted_pageranks.items(),\n",
    "                                          key=lambda t: t[0]))\n",
    "weighted_pageranks"
   ]
  },
  {
   "cell_type": "code",
   "execution_count": 30,
   "metadata": {
    "collapsed": false
   },
   "outputs": [
    {
     "data": {
      "text/plain": [
       "(0.76415938834659614, 0.01006807334377121)"
      ]
     },
     "execution_count": 30,
     "metadata": {},
     "output_type": "execute_result"
    }
   ],
   "source": [
    "pearsonr(weighted_pageranks.values(), sales.values())"
   ]
  },
  {
   "cell_type": "markdown",
   "metadata": {},
   "source": [
    "Correlation between weighted pagerank scores and sales values is .764.\n",
    "This is a much higher value than with unweighted pagerank scores, so we can see the importance in using weighted pagerank scores instead of unweighted.\n",
    "This is reflected in the p-value of .01 as well."
   ]
  },
  {
   "cell_type": "markdown",
   "metadata": {},
   "source": [
    "Generate sentiment scores with your script, find weighted PageRank of each of the 10 cars and correlate with the sales figures above. How does the correlation of this automated approach compare with that of manual scoring"
   ]
  },
  {
   "cell_type": "code",
   "execution_count": 41,
   "metadata": {
    "collapsed": true
   },
   "outputs": [],
   "source": [
    "reviews = pd.read_csv('Assignment 3 Edmunds Posts.csv')"
   ]
  },
  {
   "cell_type": "code",
   "execution_count": 42,
   "metadata": {
    "collapsed": false
   },
   "outputs": [],
   "source": [
    "reviews = reviews['Posts']"
   ]
  },
  {
   "cell_type": "code",
   "execution_count": 43,
   "metadata": {
    "collapsed": true
   },
   "outputs": [],
   "source": [
    "# reviews is a series of strings. Each string is a whole review."
   ]
  },
  {
   "cell_type": "code",
   "execution_count": 246,
   "metadata": {
    "collapsed": false
   },
   "outputs": [],
   "source": [
    "stops = stopwords.words('english')\n",
    "lower_reviews = []\n",
    "for review in reviews:\n",
    "    review = re.sub('[^a-zA-Z0-9]', ' ', review)\n",
    "    tokenized = word_tokenize(review)\n",
    "    no_stops = [i for i in tokenized if i not in stops]\n",
    "    review = ' '.join(no_stops)\n",
    "    lower_reviews.append(review.lower())\n",
    "#for review in lower_reviews:\n",
    "#    review = [i for i in lower_reviews if i not in stops]\n"
   ]
  },
  {
   "cell_type": "code",
   "execution_count": 248,
   "metadata": {
    "collapsed": false
   },
   "outputs": [
    {
     "data": {
      "text/plain": [
       "230"
      ]
     },
     "execution_count": 248,
     "metadata": {},
     "output_type": "execute_result"
    }
   ],
   "source": [
    "len(lower_reviews)"
   ]
  },
  {
   "cell_type": "code",
   "execution_count": 47,
   "metadata": {
    "collapsed": true
   },
   "outputs": [],
   "source": [
    "# lower_reviews is a list of strings. Each string is a whole review\n",
    "# that is all lower case and has punctuation and stopwords removed."
   ]
  },
  {
   "cell_type": "code",
   "execution_count": 227,
   "metadata": {
    "collapsed": true
   },
   "outputs": [
    {
     "data": {
      "text/plain": [
       "[[],\n",
       " [],\n",
       " [],\n",
       " [],\n",
       " [],\n",
       " [],\n",
       " [],\n",
       " [],\n",
       " [],\n",
       " [],\n",
       " ['honest with yourself    the a8  xj  7  s and phaeton all '],\n",
       " [],\n",
       " [],\n",
       " [],\n",
       " [],\n",
       " [],\n",
       " [],\n",
       " [],\n",
       " [],\n",
       " [],\n",
       " [],\n",
       " [],\n",
       " [],\n",
       " [],\n",
       " [],\n",
       " [],\n",
       " [],\n",
       " [],\n",
       " [],\n",
       " [],\n",
       " [],\n",
       " [],\n",
       " [],\n",
       " [],\n",
       " [],\n",
       " [],\n",
       " [],\n",
       " [],\n",
       " [],\n",
       " [],\n",
       " [],\n",
       " [],\n",
       " ['at the time 290hp   and xj 294hp   so this audi s '],\n",
       " ['are beautiful cars  especially the xj and xk  but i think '],\n",
       " [],\n",
       " [],\n",
       " [],\n",
       " [],\n",
       " [],\n",
       " [],\n",
       " [],\n",
       " [],\n",
       " [],\n",
       " [],\n",
       " [],\n",
       " [],\n",
       " [],\n",
       " [],\n",
       " [],\n",
       " [],\n",
       " [],\n",
       " [],\n",
       " [],\n",
       " [],\n",
       " [],\n",
       " [],\n",
       " [],\n",
       " [],\n",
       " [],\n",
       " [],\n",
       " [],\n",
       " [],\n",
       " [],\n",
       " [],\n",
       " [],\n",
       " [],\n",
       " [],\n",
       " [],\n",
       " [],\n",
       " [],\n",
       " [],\n",
       " [],\n",
       " [],\n",
       " [],\n",
       " [],\n",
       " [],\n",
       " [],\n",
       " [],\n",
       " [],\n",
       " [],\n",
       " [],\n",
       " [],\n",
       " [],\n",
       " [],\n",
       " [],\n",
       " [],\n",
       " [],\n",
       " [],\n",
       " [],\n",
       " [],\n",
       " ['ls600hl  7series  7seriesl  a8  a8l  xj    methinks not  mb needs another '],\n",
       " [],\n",
       " [],\n",
       " [],\n",
       " [],\n",
       " [],\n",
       " [],\n",
       " [],\n",
       " [],\n",
       " [],\n",
       " [],\n",
       " [],\n",
       " [],\n",
       " ['cars like thesclass  lexusls  and xj almost always complain about the ',\n",
       "  's  a8 or non  r  xj  the upcoming s8 will soon '],\n",
       " [],\n",
       " [],\n",
       " [],\n",
       " [],\n",
       " [],\n",
       " [],\n",
       " [],\n",
       " ['it going either way  the xj has already managed to beat '],\n",
       " [],\n",
       " [],\n",
       " [],\n",
       " [],\n",
       " [],\n",
       " [],\n",
       " [],\n",
       " [],\n",
       " [],\n",
       " [],\n",
       " [],\n",
       " [],\n",
       " [],\n",
       " [],\n",
       " [],\n",
       " [],\n",
       " [],\n",
       " [],\n",
       " [],\n",
       " [],\n",
       " [],\n",
       " [],\n",
       " [],\n",
       " [],\n",
       " [],\n",
       " [],\n",
       " [],\n",
       " [],\n",
       " [],\n",
       " [],\n",
       " [],\n",
       " [],\n",
       " [],\n",
       " [],\n",
       " [],\n",
       " [],\n",
       " ['the s450  750  a8 and xj all seem pointless  but the '],\n",
       " [],\n",
       " [],\n",
       " [],\n",
       " [],\n",
       " [],\n",
       " [],\n",
       " [],\n",
       " [],\n",
       " [],\n",
       " [],\n",
       " [],\n",
       " [],\n",
       " [],\n",
       " ['ls600hl  7series  7seriesl  a8  a8l  xj    no  does it look like '],\n",
       " [],\n",
       " [],\n",
       " [],\n",
       " [],\n",
       " ['always just loved the jaguar xj  especially the newest generation aluminum '],\n",
       " [],\n",
       " ['the s ls 7 a8 xj segment  but even fewer do '],\n",
       " [],\n",
       " [],\n",
       " [],\n",
       " [],\n",
       " [],\n",
       " [],\n",
       " [],\n",
       " [],\n",
       " [],\n",
       " [],\n",
       " [],\n",
       " [],\n",
       " ['as tested  79 1452  jaguar xj  price as tested  64 5951 '],\n",
       " [],\n",
       " [],\n",
       " [],\n",
       " [],\n",
       " [],\n",
       " [],\n",
       " [],\n",
       " [],\n",
       " [],\n",
       " [],\n",
       " [],\n",
       " [],\n",
       " [],\n",
       " [],\n",
       " [],\n",
       " [],\n",
       " [],\n",
       " [],\n",
       " [],\n",
       " [],\n",
       " [],\n",
       " [],\n",
       " [],\n",
       " [],\n",
       " [],\n",
       " [],\n",
       " [],\n",
       " [],\n",
       " [],\n",
       " [],\n",
       " [],\n",
       " [],\n",
       " [],\n",
       " [],\n",
       " [],\n",
       " [],\n",
       " []]"
      ]
     },
     "execution_count": 227,
     "metadata": {},
     "output_type": "execute_result"
    }
   ],
   "source": [
    "es_review_list = []\n",
    "for review in lower_reviews:\n",
    "    es_review_list.append(re.findall(\"\\w+\\s+\\w+\\s+\\w+\\s+\\w+\\s+\\w+\\s+xj+\\s+\\w+\\s+\\w+\\s+\\w+\\s+\\w+\\s+\\w+\\s\",\n",
    "                                    review))\n",
    "es_review_list"
   ]
  },
  {
   "cell_type": "code",
   "execution_count": 124,
   "metadata": {
    "collapsed": false
   },
   "outputs": [],
   "source": [
    "es_review_list_of_strings = []\n",
    "for review in es_review_list:\n",
    "    review_string = \"\"\n",
    "    for chunk in review:\n",
    "        review_string = review_string + chunk\n",
    "    es_review_list_of_strings.append(review_string)"
   ]
  },
  {
   "cell_type": "code",
   "execution_count": 130,
   "metadata": {
    "collapsed": false
   },
   "outputs": [],
   "source": [
    "#create a text file where each row is a new review:\n",
    "txt_file = open(\"C:/Users/Bob/Downloads/ES_Reviews.txt\", \"w\")"
   ]
  },
  {
   "cell_type": "code",
   "execution_count": 131,
   "metadata": {
    "collapsed": false
   },
   "outputs": [],
   "source": [
    "txt_file.write('header \\n')\n",
    "for review in es_review_list_of_strings:\n",
    "    txt_file.write(' ' + review + '\\n')"
   ]
  },
  {
   "cell_type": "code",
   "execution_count": 132,
   "metadata": {
    "collapsed": true
   },
   "outputs": [],
   "source": [
    "txt_file.close()"
   ]
  },
  {
   "cell_type": "code",
   "execution_count": 156,
   "metadata": {
    "collapsed": true
   },
   "outputs": [],
   "source": [
    "ES_results = pd.read_csv('C:/Users/Bob/Downloads/ES_Reviews+results.csv', header=False)"
   ]
  },
  {
   "cell_type": "code",
   "execution_count": 158,
   "metadata": {
    "collapsed": false
   },
   "outputs": [],
   "source": [
    "ES_results = ES_results['score']"
   ]
  },
  {
   "cell_type": "code",
   "execution_count": 226,
   "metadata": {
    "collapsed": false
   },
   "outputs": [
    {
     "data": {
      "text/plain": [
       "['ES', 'LS', 'RX', 'A8', 'A6', '3series', '5series', '7series', 'XJ', 'Sclass']"
      ]
     },
     "execution_count": 226,
     "metadata": {},
     "output_type": "execute_result"
    }
   ],
   "source": [
    "car_list"
   ]
  },
  {
   "cell_type": "code",
   "execution_count": 278,
   "metadata": {
    "collapsed": false
   },
   "outputs": [
    {
     "data": {
      "text/plain": [
       "230"
      ]
     },
     "execution_count": 278,
     "metadata": {},
     "output_type": "execute_result"
    }
   ],
   "source": [
    "len(lower_reviews)"
   ]
  },
  {
   "cell_type": "code",
   "execution_count": 289,
   "metadata": {
    "collapsed": false
   },
   "outputs": [],
   "source": [
    "Car_Senti_Scores = pd.DataFrame()\n",
    "for car in car_list:\n",
    "    car_review_list = []\n",
    "    for review in lower_reviews:\n",
    "        car_single_review_list = []\n",
    "        car_single_review_list.append(re.findall(\"\\w+\\s+\\w+\\s+\\w+\\s+\\w+\\s+\\w+\\s+\" + car.lower() + \"+[\\sa-z]+[\\w\\s]+[\\w\\s]+[\\w\\s]+[\\w\\s]+[\\w\\s]+[\\w\\s]+[\\w\\s]+[\\w\\s]+[\\w\\s]+[\\w\\s]\", review))\n",
    "        if car == '3series':\n",
    "            car_single_review_list.append(re.findall(\"\\w+\\s+\\w+\\s+\\w+\\s+\\w+\\s+\\w+\\s+3[0-9][0-9]+\\s+\\w+\\s+\\w+\\s+\\w+\\s+\\w+\\s+\\w+\\s\", review))\n",
    "        if car == '5series':\n",
    "            car_single_review_list.append(re.findall(\"\\w+\\s+\\w+\\s+\\w+\\s+\\w+\\s+\\w+\\s+5[0-9][0-9]+\\s+\\w+\\s+\\w+\\s+\\w+\\s+\\w+\\s+\\w+\\s\", review))\n",
    "        if car == '7series':\n",
    "            car_single_review_list.append(re.findall(\"\\w+\\s+\\w+\\s+\\w+\\s+\\w+\\s+\\w+\\s+7[0-9][0-9]+\\s+\\w+\\s+\\w+\\s+\\w+\\s+\\w+\\s+\\w+\\s\", review))\n",
    "        if car == 'ES' or car == 'LS' or car == 'RX':\n",
    "            car_single_review_list.append(re.findall(\"\\w+\\s+\\w+\\s+\\w+\\s+\\w+\\s+\\w+\\s+lexus\" + car + \"\\s+\\w+\\s+\\w+\\s+\\w+\\s+\\w+\\s+\\w+\\s\", review))\n",
    "            car_single_review_list.append(re.findall(\"\\w+\\s+\\w+\\s+\\w+\\s+\\w+\\s+\\w+\\s+lexus\" + car + \"[0-9][0-9][0-9][\\w\\s]+[\\w\\s]+[\\w\\s]+[\\w\\s]+[\\w\\s]+[\\w\\s]+[\\w\\s]+[\\w\\s]+[\\w\\s]+[\\w\\s]\", review))\n",
    "            car_single_review_list.append(re.findall(\"\\w+\\s+\\w+\\s+\\w+\\s+\\w+\\s+\\w+\\s\" + car + \"[0-9][0-9][0-9][\\w\\s]+[\\w\\s]+[\\w\\s]+[\\w\\s]+[\\w\\s]+[\\w\\s]+[\\w\\s]+[\\w\\s]+[\\w\\s]+[\\w\\s]\", review))\n",
    "        car_single_review_string = ' '.join(car_single_review_list[0])\n",
    "        car_review_list.append(car_single_review_string)\n",
    "    car_review_list_of_strings = []\n",
    "    for review in car_review_list:\n",
    "        review_string = \"\"\n",
    "        for chunk in review:\n",
    "            review_string = review_string + chunk\n",
    "        car_review_list_of_strings.append(review_string)\n",
    "    txt_file = open(car + \"_Reviews.txt\", \"w\")\n",
    "    txt_file.write('header \\n')\n",
    "    for review in car_review_list_of_strings:\n",
    "        txt_file.write(' ' + review + '\\n')\n",
    "    txt_file.close()"
   ]
  },
  {
   "cell_type": "markdown",
   "metadata": {},
   "source": [
    "**IMPORTANT**: NOW WE HAVE TO RUN SENTISTRENGTH ON ALL 10 CARS, CREATE CSV FILES OF THE SCORES FOR ALL 10 CARS"
   ]
  },
  {
   "cell_type": "code",
   "execution_count": 290,
   "metadata": {
    "collapsed": false
   },
   "outputs": [],
   "source": [
    "Car_Senti_Scores = pd.DataFrame()"
   ]
  },
  {
   "cell_type": "code",
   "execution_count": 291,
   "metadata": {
    "collapsed": false
   },
   "outputs": [],
   "source": [
    "for car in car_list:\n",
    "    car_results = pd.read_csv(car + '_Reviews+results.csv', header=False)\n",
    "    car_results = car_results['score']\n",
    "    Car_Senti_Scores[car] = car_results"
   ]
  },
  {
   "cell_type": "code",
   "execution_count": 292,
   "metadata": {
    "collapsed": false
   },
   "outputs": [
    {
     "data": {
      "text/plain": [
       "(230, 10)"
      ]
     },
     "execution_count": 292,
     "metadata": {},
     "output_type": "execute_result"
    }
   ],
   "source": [
    "Car_Senti_Scores.shape"
   ]
  },
  {
   "cell_type": "code",
   "execution_count": 293,
   "metadata": {
    "collapsed": false
   },
   "outputs": [],
   "source": [
    "Car_Senti_Scores.to_csv('SentiScoresPartC.csv', header=True, index=False)"
   ]
  },
  {
   "cell_type": "markdown",
   "metadata": {},
   "source": [
    "**NOW WE CONVERT THIS MATRIX TO AN ADJACENCY MATRIX, JUST AS WE DID FOR PARTS A AND B.**"
   ]
  },
  {
   "cell_type": "code",
   "execution_count": 31,
   "metadata": {
    "collapsed": true
   },
   "outputs": [],
   "source": [
    "adjacency_matrix_c = pd.read_csv('partCunweightedAdjacency.csv')"
   ]
  },
  {
   "cell_type": "code",
   "execution_count": 32,
   "metadata": {
    "collapsed": true
   },
   "outputs": [],
   "source": [
    "M = numpy.matrix(adjacency_matrix_c.drop('from/to', 1))"
   ]
  },
  {
   "cell_type": "code",
   "execution_count": 33,
   "metadata": {
    "collapsed": true
   },
   "outputs": [],
   "source": [
    "comparison_graph_c = nx.from_numpy_matrix(M, create_using=nx.DiGraph())"
   ]
  },
  {
   "cell_type": "code",
   "execution_count": 34,
   "metadata": {
    "collapsed": true
   },
   "outputs": [],
   "source": [
    "comparison_graph_c = nx.relabel_nodes(comparison_graph_c, mapping)"
   ]
  },
  {
   "cell_type": "code",
   "execution_count": 35,
   "metadata": {
    "collapsed": true
   },
   "outputs": [],
   "source": [
    "weighted_pageranks_c = nx.pagerank(comparison_graph_c)"
   ]
  },
  {
   "cell_type": "code",
   "execution_count": 36,
   "metadata": {
    "collapsed": true
   },
   "outputs": [],
   "source": [
    "weighted_pageranks_c = collections.OrderedDict(sorted(weighted_pageranks_c.items(),\n",
    "                                          key=lambda t: t[0]))"
   ]
  },
  {
   "cell_type": "code",
   "execution_count": 37,
   "metadata": {
    "collapsed": false
   },
   "outputs": [
    {
     "name": "stdout",
     "output_type": "stream",
     "text": [
      "[[ 1.          0.71084518]\n",
      " [ 0.71084518  1.        ]]\n"
     ]
    }
   ],
   "source": [
    "print numpy.corrcoef(weighted_pageranks_c.values(), sales.values())"
   ]
  },
  {
   "cell_type": "code",
   "execution_count": 38,
   "metadata": {
    "collapsed": false
   },
   "outputs": [
    {
     "data": {
      "text/plain": [
       "(0.71084517510574818, 0.021197814226925172)"
      ]
     },
     "execution_count": 38,
     "metadata": {},
     "output_type": "execute_result"
    }
   ],
   "source": [
    "pearsonr(weighted_pageranks_c.values(), sales.values())"
   ]
  },
  {
   "cell_type": "markdown",
   "metadata": {},
   "source": [
    "Here we have a relatively high correlation between weighted pagerank scores and the sales values, which is exactly what we were shooting for. The p-value is low as well, and indicates that our calculated pagerank scores could be a decent predictor of sales values."
   ]
  },
  {
   "cell_type": "code",
   "execution_count": null,
   "metadata": {
    "collapsed": true
   },
   "outputs": [],
   "source": []
  }
 ],
 "metadata": {
  "kernelspec": {
   "display_name": "Python 2",
   "language": "python",
   "name": "python2"
  },
  "language_info": {
   "codemirror_mode": {
    "name": "ipython",
    "version": 2
   },
   "file_extension": ".py",
   "mimetype": "text/x-python",
   "name": "python",
   "nbconvert_exporter": "python",
   "pygments_lexer": "ipython2",
   "version": "2.7.10"
  }
 },
 "nbformat": 4,
 "nbformat_minor": 0
}
