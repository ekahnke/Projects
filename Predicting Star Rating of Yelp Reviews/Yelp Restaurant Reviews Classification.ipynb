{
 "cells": [
  {
   "cell_type": "markdown",
   "metadata": {},
   "source": [
    "##Yelp Restaurant Reviews Classification\n",
    "\n",
    "This Yelp dataset has information on restaurants (e.g., type of food, price range, etc.) as well as reviews written by patrons. The output variable is the star rating (1-5). We have converted this rating to high (ratings of 4 & 5) and low (1, 2, 3). "
   ]
  },
  {
   "cell_type": "code",
   "execution_count": 35,
   "metadata": {
    "collapsed": false
   },
   "outputs": [
    {
     "name": "stdout",
     "output_type": "stream",
     "text": [
      "Populating the interactive namespace from numpy and matplotlib\n"
     ]
    },
    {
     "name": "stderr",
     "output_type": "stream",
     "text": [
      "WARNING: pylab import has clobbered these variables: ['pylab', 'datetime']\n",
      "`%matplotlib` prevents importing * from pylab and numpy\n"
     ]
    }
   ],
   "source": [
    "from pandas import Series, DataFrame\n",
    "import pandas as pd\n",
    "%pylab inline\n",
    "import statsmodels.api as sm\n",
    "from patsy import dmatrices\n",
    "from sklearn.cross_validation import train_test_split\n",
    "from sklearn import neighbors\n",
    "from sklearn import metrics\n",
    "from sklearn import cross_validation\n",
    "from sklearn import naive_bayes\n",
    "from sklearn.ensemble import GradientBoostingClassifier\n",
    "from sklearn.ensemble import RandomForestClassifier\n",
    "from sklearn.ensemble import BaggingClassifier\n",
    "from sklearn import tree\n",
    "\n",
    "import nltk\n",
    "from nltk.tokenize import word_tokenize\n",
    "from nltk.corpus import stopwords\n",
    "from nltk.stem import WordNetLemmatizer\n",
    "from nltk.stem.porter import PorterStemmer\n",
    "import matplotlib.pyplot as plt\n",
    "import pylab\n",
    "import re\n",
    "import numpy as np\n",
    "from sklearn.naive_bayes import MultinomialNB\n",
    "from sklearn.feature_extraction.text import TfidfVectorizer\n",
    "from sklearn import metrics\n",
    "from operator import itemgetter\n",
    "from sklearn.metrics import classification_report\n",
    "import csv\n",
    "import os\n",
    "from sklearn.feature_extraction.text import CountVectorizer\n",
    "\n",
    "\n",
    "from datetime import datetime\n"
   ]
  },
  {
   "cell_type": "code",
   "execution_count": 36,
   "metadata": {
    "collapsed": false
   },
   "outputs": [],
   "source": [
    "reviews = pd.read_csv(\"Yelp.csv\", header=0)\n",
    "review_names = reviews.columns.tolist()\n",
    "reviews_numeric = reviews[review_names[0:20]]"
   ]
  },
  {
   "cell_type": "code",
   "execution_count": null,
   "metadata": {
    "collapsed": true
   },
   "outputs": [],
   "source": [
    "reviews['target'] = np.where(reviews['stars'] > 3, 1, 0)\n",
    "reviews_numeric['target'] = np.where(reviews_numeric['stars'] > 3, 1, 0)"
   ]
  },
  {
   "cell_type": "code",
   "execution_count": 38,
   "metadata": {
    "collapsed": false
   },
   "outputs": [
    {
     "data": {
      "text/plain": [
       "stars             int64\n",
       "votes_cool        int64\n",
       "votes_funny       int64\n",
       "votes_useful      int64\n",
       "Cheap              bool\n",
       "Moderate           bool\n",
       "Expensive          bool\n",
       "VeryExpensive      bool\n",
       "American           bool\n",
       "Chinese            bool\n",
       "French             bool\n",
       "Japanese           bool\n",
       "Indian             bool\n",
       "Italian            bool\n",
       "Greek              bool\n",
       "Mediterranean      bool\n",
       "Mexican            bool\n",
       "Thai               bool\n",
       "Vietnamese         bool\n",
       "Others             bool\n",
       "Review           object\n",
       "target            int32\n",
       "dtype: object"
      ]
     },
     "execution_count": 38,
     "metadata": {},
     "output_type": "execute_result"
    }
   ],
   "source": [
    "reviews[['Cheap', 'Moderate', 'Expensive', 'VeryExpensive', 'American', 'Chinese', 'French', 'Japanese', 'Indian', 'Italian', 'Greek', 'Mediterranean', 'Mexican', 'Thai', 'Vietnamese', 'Others']] = reviews[['Cheap', 'Moderate', 'Expensive', 'VeryExpensive', 'American', 'Chinese', 'French', 'Japanese', 'Indian', 'Italian', 'Greek', 'Mediterranean', 'Mexican', 'Thai', 'Vietnamese', 'Others']].astype(bool)\n",
    "reviews.dtypes"
   ]
  },
  {
   "cell_type": "code",
   "execution_count": 30,
   "metadata": {
    "collapsed": false
   },
   "outputs": [
    {
     "data": {
      "text/html": [
       "<div>\n",
       "<table border=\"1\" class=\"dataframe\">\n",
       "  <thead>\n",
       "    <tr style=\"text-align: right;\">\n",
       "      <th></th>\n",
       "      <th>stars</th>\n",
       "      <th>votes_cool</th>\n",
       "      <th>votes_funny</th>\n",
       "      <th>votes_useful</th>\n",
       "      <th>Cheap</th>\n",
       "      <th>Moderate</th>\n",
       "      <th>Expensive</th>\n",
       "      <th>VeryExpensive</th>\n",
       "      <th>American</th>\n",
       "      <th>Chinese</th>\n",
       "      <th>...</th>\n",
       "      <th>Japanese</th>\n",
       "      <th>Indian</th>\n",
       "      <th>Italian</th>\n",
       "      <th>Greek</th>\n",
       "      <th>Mediterranean</th>\n",
       "      <th>Mexican</th>\n",
       "      <th>Thai</th>\n",
       "      <th>Vietnamese</th>\n",
       "      <th>Others</th>\n",
       "      <th>target</th>\n",
       "    </tr>\n",
       "  </thead>\n",
       "  <tbody>\n",
       "    <tr>\n",
       "      <th>count</th>\n",
       "      <td>19999.000000</td>\n",
       "      <td>19999.000000</td>\n",
       "      <td>19999.000000</td>\n",
       "      <td>19999.000000</td>\n",
       "      <td>19999</td>\n",
       "      <td>19999</td>\n",
       "      <td>19999</td>\n",
       "      <td>19999</td>\n",
       "      <td>19999</td>\n",
       "      <td>19999</td>\n",
       "      <td>...</td>\n",
       "      <td>19999</td>\n",
       "      <td>19999</td>\n",
       "      <td>19999</td>\n",
       "      <td>19999</td>\n",
       "      <td>19999</td>\n",
       "      <td>19999</td>\n",
       "      <td>19999</td>\n",
       "      <td>19999</td>\n",
       "      <td>19999</td>\n",
       "      <td>19999</td>\n",
       "    </tr>\n",
       "    <tr>\n",
       "      <th>mean</th>\n",
       "      <td>3.773289</td>\n",
       "      <td>0.917746</td>\n",
       "      <td>0.689484</td>\n",
       "      <td>1.465273</td>\n",
       "      <td>0.300465</td>\n",
       "      <td>0.6185809</td>\n",
       "      <td>0.06435322</td>\n",
       "      <td>0.01660083</td>\n",
       "      <td>0.3033152</td>\n",
       "      <td>0.1092055</td>\n",
       "      <td>...</td>\n",
       "      <td>0.05505275</td>\n",
       "      <td>0.01430072</td>\n",
       "      <td>0.2112606</td>\n",
       "      <td>0.02090105</td>\n",
       "      <td>0.06355318</td>\n",
       "      <td>0.2586629</td>\n",
       "      <td>0.01150058</td>\n",
       "      <td>0.01265063</td>\n",
       "      <td>0.07625381</td>\n",
       "      <td>0.6776839</td>\n",
       "    </tr>\n",
       "    <tr>\n",
       "      <th>std</th>\n",
       "      <td>1.153749</td>\n",
       "      <td>1.970018</td>\n",
       "      <td>1.801502</td>\n",
       "      <td>2.275016</td>\n",
       "      <td>0.4584717</td>\n",
       "      <td>0.4857472</td>\n",
       "      <td>0.2453872</td>\n",
       "      <td>0.1277735</td>\n",
       "      <td>0.4597017</td>\n",
       "      <td>0.3119046</td>\n",
       "      <td>...</td>\n",
       "      <td>0.2280889</td>\n",
       "      <td>0.1187304</td>\n",
       "      <td>0.408213</td>\n",
       "      <td>0.1430567</td>\n",
       "      <td>0.2439614</td>\n",
       "      <td>0.437911</td>\n",
       "      <td>0.106625</td>\n",
       "      <td>0.1117641</td>\n",
       "      <td>0.2654104</td>\n",
       "      <td>0.467375</td>\n",
       "    </tr>\n",
       "    <tr>\n",
       "      <th>min</th>\n",
       "      <td>1.000000</td>\n",
       "      <td>0.000000</td>\n",
       "      <td>0.000000</td>\n",
       "      <td>0.000000</td>\n",
       "      <td>False</td>\n",
       "      <td>False</td>\n",
       "      <td>False</td>\n",
       "      <td>False</td>\n",
       "      <td>False</td>\n",
       "      <td>False</td>\n",
       "      <td>...</td>\n",
       "      <td>False</td>\n",
       "      <td>False</td>\n",
       "      <td>False</td>\n",
       "      <td>False</td>\n",
       "      <td>False</td>\n",
       "      <td>False</td>\n",
       "      <td>False</td>\n",
       "      <td>False</td>\n",
       "      <td>False</td>\n",
       "      <td>False</td>\n",
       "    </tr>\n",
       "    <tr>\n",
       "      <th>25%</th>\n",
       "      <td>3.000000</td>\n",
       "      <td>0.000000</td>\n",
       "      <td>0.000000</td>\n",
       "      <td>0.000000</td>\n",
       "      <td>0</td>\n",
       "      <td>0</td>\n",
       "      <td>0</td>\n",
       "      <td>0</td>\n",
       "      <td>0</td>\n",
       "      <td>0</td>\n",
       "      <td>...</td>\n",
       "      <td>0</td>\n",
       "      <td>0</td>\n",
       "      <td>0</td>\n",
       "      <td>0</td>\n",
       "      <td>0</td>\n",
       "      <td>0</td>\n",
       "      <td>0</td>\n",
       "      <td>0</td>\n",
       "      <td>0</td>\n",
       "      <td>0</td>\n",
       "    </tr>\n",
       "    <tr>\n",
       "      <th>50%</th>\n",
       "      <td>4.000000</td>\n",
       "      <td>0.000000</td>\n",
       "      <td>0.000000</td>\n",
       "      <td>1.000000</td>\n",
       "      <td>0</td>\n",
       "      <td>1</td>\n",
       "      <td>0</td>\n",
       "      <td>0</td>\n",
       "      <td>0</td>\n",
       "      <td>0</td>\n",
       "      <td>...</td>\n",
       "      <td>0</td>\n",
       "      <td>0</td>\n",
       "      <td>0</td>\n",
       "      <td>0</td>\n",
       "      <td>0</td>\n",
       "      <td>0</td>\n",
       "      <td>0</td>\n",
       "      <td>0</td>\n",
       "      <td>0</td>\n",
       "      <td>1</td>\n",
       "    </tr>\n",
       "    <tr>\n",
       "      <th>75%</th>\n",
       "      <td>5.000000</td>\n",
       "      <td>1.000000</td>\n",
       "      <td>1.000000</td>\n",
       "      <td>2.000000</td>\n",
       "      <td>1</td>\n",
       "      <td>1</td>\n",
       "      <td>0</td>\n",
       "      <td>0</td>\n",
       "      <td>1</td>\n",
       "      <td>0</td>\n",
       "      <td>...</td>\n",
       "      <td>0</td>\n",
       "      <td>0</td>\n",
       "      <td>0</td>\n",
       "      <td>0</td>\n",
       "      <td>0</td>\n",
       "      <td>1</td>\n",
       "      <td>0</td>\n",
       "      <td>0</td>\n",
       "      <td>0</td>\n",
       "      <td>1</td>\n",
       "    </tr>\n",
       "    <tr>\n",
       "      <th>max</th>\n",
       "      <td>5.000000</td>\n",
       "      <td>66.000000</td>\n",
       "      <td>57.000000</td>\n",
       "      <td>68.000000</td>\n",
       "      <td>True</td>\n",
       "      <td>True</td>\n",
       "      <td>True</td>\n",
       "      <td>True</td>\n",
       "      <td>True</td>\n",
       "      <td>True</td>\n",
       "      <td>...</td>\n",
       "      <td>True</td>\n",
       "      <td>True</td>\n",
       "      <td>True</td>\n",
       "      <td>True</td>\n",
       "      <td>True</td>\n",
       "      <td>True</td>\n",
       "      <td>True</td>\n",
       "      <td>True</td>\n",
       "      <td>True</td>\n",
       "      <td>True</td>\n",
       "    </tr>\n",
       "  </tbody>\n",
       "</table>\n",
       "<p>8 rows × 21 columns</p>\n",
       "</div>"
      ],
      "text/plain": [
       "              stars    votes_cool   votes_funny  votes_useful      Cheap  \\\n",
       "count  19999.000000  19999.000000  19999.000000  19999.000000      19999   \n",
       "mean       3.773289      0.917746      0.689484      1.465273   0.300465   \n",
       "std        1.153749      1.970018      1.801502      2.275016  0.4584717   \n",
       "min        1.000000      0.000000      0.000000      0.000000      False   \n",
       "25%        3.000000      0.000000      0.000000      0.000000          0   \n",
       "50%        4.000000      0.000000      0.000000      1.000000          0   \n",
       "75%        5.000000      1.000000      1.000000      2.000000          1   \n",
       "max        5.000000     66.000000     57.000000     68.000000       True   \n",
       "\n",
       "        Moderate   Expensive VeryExpensive   American    Chinese    ...      \\\n",
       "count      19999       19999         19999      19999      19999    ...       \n",
       "mean   0.6185809  0.06435322    0.01660083  0.3033152  0.1092055    ...       \n",
       "std    0.4857472   0.2453872     0.1277735  0.4597017  0.3119046    ...       \n",
       "min        False       False         False      False      False    ...       \n",
       "25%            0           0             0          0          0    ...       \n",
       "50%            1           0             0          0          0    ...       \n",
       "75%            1           0             0          1          0    ...       \n",
       "max         True        True          True       True       True    ...       \n",
       "\n",
       "         Japanese      Indian    Italian       Greek Mediterranean    Mexican  \\\n",
       "count       19999       19999      19999       19999         19999      19999   \n",
       "mean   0.05505275  0.01430072  0.2112606  0.02090105    0.06355318  0.2586629   \n",
       "std     0.2280889   0.1187304   0.408213   0.1430567     0.2439614   0.437911   \n",
       "min         False       False      False       False         False      False   \n",
       "25%             0           0          0           0             0          0   \n",
       "50%             0           0          0           0             0          0   \n",
       "75%             0           0          0           0             0          1   \n",
       "max          True        True       True        True          True       True   \n",
       "\n",
       "             Thai  Vietnamese      Others     target  \n",
       "count       19999       19999       19999      19999  \n",
       "mean   0.01150058  0.01265063  0.07625381  0.6776839  \n",
       "std      0.106625   0.1117641   0.2654104   0.467375  \n",
       "min         False       False       False      False  \n",
       "25%             0           0           0          0  \n",
       "50%             0           0           0          1  \n",
       "75%             0           0           0          1  \n",
       "max          True        True        True       True  \n",
       "\n",
       "[8 rows x 21 columns]"
      ]
     },
     "execution_count": 30,
     "metadata": {},
     "output_type": "execute_result"
    }
   ],
   "source": [
    "reviews.describe()\n",
    "\n",
    "#y, X = dmatrices('stars ~ votes_cool + votes_funny + votes_useful + Cheap + Moderate + Expensive + VeryExpensive + American + Chinese + French + Japanese + Indian + Italian + Greek + Mediterranean + Mexican + Thai + Vietnamese + Others', data=reviews_numeric, return_type='dataframe')\n",
    "#model = sm.OLS(y, X)\n",
    "#result = model.fit()\n",
    "#print result.summary()"
   ]
  },
  {
   "cell_type": "code",
   "execution_count": 53,
   "metadata": {
    "collapsed": false
   },
   "outputs": [
    {
     "data": {
      "text/html": [
       "<div>\n",
       "<table border=\"1\" class=\"dataframe\">\n",
       "  <thead>\n",
       "    <tr style=\"text-align: right;\">\n",
       "      <th></th>\n",
       "      <th>stars</th>\n",
       "      <th>votes_cool</th>\n",
       "      <th>votes_funny</th>\n",
       "      <th>votes_useful</th>\n",
       "      <th>Cheap</th>\n",
       "      <th>Moderate</th>\n",
       "      <th>Expensive</th>\n",
       "      <th>VeryExpensive</th>\n",
       "      <th>American</th>\n",
       "      <th>Chinese</th>\n",
       "      <th>French</th>\n",
       "      <th>Japanese</th>\n",
       "      <th>Indian</th>\n",
       "      <th>Italian</th>\n",
       "      <th>Greek</th>\n",
       "      <th>Mediterranean</th>\n",
       "      <th>Mexican</th>\n",
       "      <th>Thai</th>\n",
       "      <th>Vietnamese</th>\n",
       "      <th>Others</th>\n",
       "    </tr>\n",
       "  </thead>\n",
       "  <tbody>\n",
       "    <tr>\n",
       "      <th>count</th>\n",
       "      <td>19999.000000</td>\n",
       "      <td>19999.000000</td>\n",
       "      <td>19999.000000</td>\n",
       "      <td>19999.000000</td>\n",
       "      <td>19999</td>\n",
       "      <td>19999</td>\n",
       "      <td>19999</td>\n",
       "      <td>19999</td>\n",
       "      <td>19999</td>\n",
       "      <td>19999</td>\n",
       "      <td>19999</td>\n",
       "      <td>19999</td>\n",
       "      <td>19999</td>\n",
       "      <td>19999</td>\n",
       "      <td>19999</td>\n",
       "      <td>19999</td>\n",
       "      <td>19999</td>\n",
       "      <td>19999</td>\n",
       "      <td>19999</td>\n",
       "      <td>19999</td>\n",
       "    </tr>\n",
       "    <tr>\n",
       "      <th>mean</th>\n",
       "      <td>3.773289</td>\n",
       "      <td>0.917746</td>\n",
       "      <td>0.689484</td>\n",
       "      <td>1.465273</td>\n",
       "      <td>0.300465</td>\n",
       "      <td>0.6185809</td>\n",
       "      <td>0.06435322</td>\n",
       "      <td>0.01660083</td>\n",
       "      <td>0.3033152</td>\n",
       "      <td>0.1092055</td>\n",
       "      <td>0.01630082</td>\n",
       "      <td>0.05505275</td>\n",
       "      <td>0.01430072</td>\n",
       "      <td>0.2112606</td>\n",
       "      <td>0.02090105</td>\n",
       "      <td>0.06355318</td>\n",
       "      <td>0.2586629</td>\n",
       "      <td>0.01150058</td>\n",
       "      <td>0.01265063</td>\n",
       "      <td>0.07625381</td>\n",
       "    </tr>\n",
       "    <tr>\n",
       "      <th>std</th>\n",
       "      <td>1.153749</td>\n",
       "      <td>1.970018</td>\n",
       "      <td>1.801502</td>\n",
       "      <td>2.275016</td>\n",
       "      <td>0.4584717</td>\n",
       "      <td>0.4857472</td>\n",
       "      <td>0.2453872</td>\n",
       "      <td>0.1277735</td>\n",
       "      <td>0.4597017</td>\n",
       "      <td>0.3119046</td>\n",
       "      <td>0.1266329</td>\n",
       "      <td>0.2280889</td>\n",
       "      <td>0.1187304</td>\n",
       "      <td>0.408213</td>\n",
       "      <td>0.1430567</td>\n",
       "      <td>0.2439614</td>\n",
       "      <td>0.437911</td>\n",
       "      <td>0.106625</td>\n",
       "      <td>0.1117641</td>\n",
       "      <td>0.2654104</td>\n",
       "    </tr>\n",
       "    <tr>\n",
       "      <th>min</th>\n",
       "      <td>1.000000</td>\n",
       "      <td>0.000000</td>\n",
       "      <td>0.000000</td>\n",
       "      <td>0.000000</td>\n",
       "      <td>False</td>\n",
       "      <td>False</td>\n",
       "      <td>False</td>\n",
       "      <td>False</td>\n",
       "      <td>False</td>\n",
       "      <td>False</td>\n",
       "      <td>False</td>\n",
       "      <td>False</td>\n",
       "      <td>False</td>\n",
       "      <td>False</td>\n",
       "      <td>False</td>\n",
       "      <td>False</td>\n",
       "      <td>False</td>\n",
       "      <td>False</td>\n",
       "      <td>False</td>\n",
       "      <td>False</td>\n",
       "    </tr>\n",
       "    <tr>\n",
       "      <th>25%</th>\n",
       "      <td>3.000000</td>\n",
       "      <td>0.000000</td>\n",
       "      <td>0.000000</td>\n",
       "      <td>0.000000</td>\n",
       "      <td>0</td>\n",
       "      <td>0</td>\n",
       "      <td>0</td>\n",
       "      <td>0</td>\n",
       "      <td>0</td>\n",
       "      <td>0</td>\n",
       "      <td>0</td>\n",
       "      <td>0</td>\n",
       "      <td>0</td>\n",
       "      <td>0</td>\n",
       "      <td>0</td>\n",
       "      <td>0</td>\n",
       "      <td>0</td>\n",
       "      <td>0</td>\n",
       "      <td>0</td>\n",
       "      <td>0</td>\n",
       "    </tr>\n",
       "    <tr>\n",
       "      <th>50%</th>\n",
       "      <td>4.000000</td>\n",
       "      <td>0.000000</td>\n",
       "      <td>0.000000</td>\n",
       "      <td>1.000000</td>\n",
       "      <td>0</td>\n",
       "      <td>1</td>\n",
       "      <td>0</td>\n",
       "      <td>0</td>\n",
       "      <td>0</td>\n",
       "      <td>0</td>\n",
       "      <td>0</td>\n",
       "      <td>0</td>\n",
       "      <td>0</td>\n",
       "      <td>0</td>\n",
       "      <td>0</td>\n",
       "      <td>0</td>\n",
       "      <td>0</td>\n",
       "      <td>0</td>\n",
       "      <td>0</td>\n",
       "      <td>0</td>\n",
       "    </tr>\n",
       "    <tr>\n",
       "      <th>75%</th>\n",
       "      <td>5.000000</td>\n",
       "      <td>1.000000</td>\n",
       "      <td>1.000000</td>\n",
       "      <td>2.000000</td>\n",
       "      <td>1</td>\n",
       "      <td>1</td>\n",
       "      <td>0</td>\n",
       "      <td>0</td>\n",
       "      <td>1</td>\n",
       "      <td>0</td>\n",
       "      <td>0</td>\n",
       "      <td>0</td>\n",
       "      <td>0</td>\n",
       "      <td>0</td>\n",
       "      <td>0</td>\n",
       "      <td>0</td>\n",
       "      <td>1</td>\n",
       "      <td>0</td>\n",
       "      <td>0</td>\n",
       "      <td>0</td>\n",
       "    </tr>\n",
       "    <tr>\n",
       "      <th>max</th>\n",
       "      <td>5.000000</td>\n",
       "      <td>66.000000</td>\n",
       "      <td>57.000000</td>\n",
       "      <td>68.000000</td>\n",
       "      <td>True</td>\n",
       "      <td>True</td>\n",
       "      <td>True</td>\n",
       "      <td>True</td>\n",
       "      <td>True</td>\n",
       "      <td>True</td>\n",
       "      <td>True</td>\n",
       "      <td>True</td>\n",
       "      <td>True</td>\n",
       "      <td>True</td>\n",
       "      <td>True</td>\n",
       "      <td>True</td>\n",
       "      <td>True</td>\n",
       "      <td>True</td>\n",
       "      <td>True</td>\n",
       "      <td>True</td>\n",
       "    </tr>\n",
       "  </tbody>\n",
       "</table>\n",
       "</div>"
      ],
      "text/plain": [
       "              stars    votes_cool   votes_funny  votes_useful      Cheap  \\\n",
       "count  19999.000000  19999.000000  19999.000000  19999.000000      19999   \n",
       "mean       3.773289      0.917746      0.689484      1.465273   0.300465   \n",
       "std        1.153749      1.970018      1.801502      2.275016  0.4584717   \n",
       "min        1.000000      0.000000      0.000000      0.000000      False   \n",
       "25%        3.000000      0.000000      0.000000      0.000000          0   \n",
       "50%        4.000000      0.000000      0.000000      1.000000          0   \n",
       "75%        5.000000      1.000000      1.000000      2.000000          1   \n",
       "max        5.000000     66.000000     57.000000     68.000000       True   \n",
       "\n",
       "        Moderate   Expensive VeryExpensive   American    Chinese      French  \\\n",
       "count      19999       19999         19999      19999      19999       19999   \n",
       "mean   0.6185809  0.06435322    0.01660083  0.3033152  0.1092055  0.01630082   \n",
       "std    0.4857472   0.2453872     0.1277735  0.4597017  0.3119046   0.1266329   \n",
       "min        False       False         False      False      False       False   \n",
       "25%            0           0             0          0          0           0   \n",
       "50%            1           0             0          0          0           0   \n",
       "75%            1           0             0          1          0           0   \n",
       "max         True        True          True       True       True        True   \n",
       "\n",
       "         Japanese      Indian    Italian       Greek Mediterranean    Mexican  \\\n",
       "count       19999       19999      19999       19999         19999      19999   \n",
       "mean   0.05505275  0.01430072  0.2112606  0.02090105    0.06355318  0.2586629   \n",
       "std     0.2280889   0.1187304   0.408213   0.1430567     0.2439614   0.437911   \n",
       "min         False       False      False       False         False      False   \n",
       "25%             0           0          0           0             0          0   \n",
       "50%             0           0          0           0             0          0   \n",
       "75%             0           0          0           0             0          1   \n",
       "max          True        True       True        True          True       True   \n",
       "\n",
       "             Thai  Vietnamese      Others  \n",
       "count       19999       19999       19999  \n",
       "mean   0.01150058  0.01265063  0.07625381  \n",
       "std      0.106625   0.1117641   0.2654104  \n",
       "min         False       False       False  \n",
       "25%             0           0           0  \n",
       "50%             0           0           0  \n",
       "75%             0           0           0  \n",
       "max          True        True        True  "
      ]
     },
     "execution_count": 53,
     "metadata": {},
     "output_type": "execute_result"
    }
   ],
   "source": [
    "reviews.describe()"
   ]
  },
  {
   "cell_type": "code",
   "execution_count": 39,
   "metadata": {
    "collapsed": false
   },
   "outputs": [
    {
     "data": {
      "text/html": [
       "<div>\n",
       "<table border=\"1\" class=\"dataframe\">\n",
       "  <thead>\n",
       "    <tr style=\"text-align: right;\">\n",
       "      <th></th>\n",
       "      <th>target</th>\n",
       "    </tr>\n",
       "  </thead>\n",
       "  <tbody>\n",
       "    <tr>\n",
       "      <th>0</th>\n",
       "      <td>0</td>\n",
       "    </tr>\n",
       "    <tr>\n",
       "      <th>1</th>\n",
       "      <td>0</td>\n",
       "    </tr>\n",
       "    <tr>\n",
       "      <th>2</th>\n",
       "      <td>1</td>\n",
       "    </tr>\n",
       "    <tr>\n",
       "      <th>3</th>\n",
       "      <td>0</td>\n",
       "    </tr>\n",
       "    <tr>\n",
       "      <th>4</th>\n",
       "      <td>0</td>\n",
       "    </tr>\n",
       "    <tr>\n",
       "      <th>5</th>\n",
       "      <td>0</td>\n",
       "    </tr>\n",
       "    <tr>\n",
       "      <th>6</th>\n",
       "      <td>1</td>\n",
       "    </tr>\n",
       "    <tr>\n",
       "      <th>7</th>\n",
       "      <td>0</td>\n",
       "    </tr>\n",
       "    <tr>\n",
       "      <th>8</th>\n",
       "      <td>1</td>\n",
       "    </tr>\n",
       "    <tr>\n",
       "      <th>9</th>\n",
       "      <td>0</td>\n",
       "    </tr>\n",
       "  </tbody>\n",
       "</table>\n",
       "</div>"
      ],
      "text/plain": [
       "   target\n",
       "0       0\n",
       "1       0\n",
       "2       1\n",
       "3       0\n",
       "4       0\n",
       "5       0\n",
       "6       1\n",
       "7       0\n",
       "8       1\n",
       "9       0"
      ]
     },
     "execution_count": 39,
     "metadata": {},
     "output_type": "execute_result"
    }
   ],
   "source": [
    "B, A = dmatrices('target ~ votes_cool + votes_funny + votes_useful + Cheap + Moderate + Expensive + VeryExpensive + American + Chinese + French + Japanese + Indian + Italian + Greek + Mediterranean + Mexican + Thai + Vietnamese + Others', data=reviews, return_type='dataframe')\n",
    "b = B['target'].values\n",
    "B[:10]"
   ]
  },
  {
   "cell_type": "markdown",
   "metadata": {},
   "source": [
    "Ignore the text (reviews) and run a classification model with the numeric data (you can use standard methods like logistic regression, k-nearest neighbors or anything else)."
   ]
  },
  {
   "cell_type": "code",
   "execution_count": 7,
   "metadata": {
    "collapsed": true
   },
   "outputs": [],
   "source": [
    "from sklearn.ensemble import GradientBoostingClassifier\n",
    "from sklearn.ensemble import RandomForestClassifier\n",
    "from sklearn.ensemble import BaggingClassifier\n",
    "from sklearn.cross_validation import train_test_split\n",
    "from sklearn import tree\n",
    "\n",
    "model_list = [('Decision Tree', tree.DecisionTreeClassifier(criterion='entropy', max_depth=4)),\n",
    "              ('Gradient Boosting', GradientBoostingClassifier(n_estimators=200, max_depth=4, random_state=1)),          \n",
    "              ('Random Forest', RandomForestClassifier(n_estimators=10, max_features = \"auto\", max_depth = 4, random_state=1)),    \n",
    "             ('Bagging', BaggingClassifier(tree.DecisionTreeClassifier(criterion='entropy', max_depth = 4), random_state=1))]"
   ]
  },
  {
   "cell_type": "code",
   "execution_count": 8,
   "metadata": {
    "collapsed": true
   },
   "outputs": [],
   "source": [
    "A_train, A_test, b_train, b_test = train_test_split(A, b, test_size=0.25, random_state=1)"
   ]
  },
  {
   "cell_type": "code",
   "execution_count": 9,
   "metadata": {
    "collapsed": false
   },
   "outputs": [
    {
     "name": "stdout",
     "output_type": "stream",
     "text": [
      "Fitting Decision Tree\n",
      "Fitting Gradient Boosting\n",
      "Fitting Random Forest\n",
      "Fitting Bagging\n"
     ]
    }
   ],
   "source": [
    "for (name, model) in model_list:     \n",
    "    print 'Fitting', name \n",
    "    model.fit(A_train, b_train)"
   ]
  },
  {
   "cell_type": "code",
   "execution_count": 10,
   "metadata": {
    "collapsed": false
   },
   "outputs": [
    {
     "data": {
      "text/html": [
       "<div>\n",
       "<table border=\"1\" class=\"dataframe\">\n",
       "  <thead>\n",
       "    <tr style=\"text-align: right;\">\n",
       "      <th></th>\n",
       "      <th>Test Accuracy</th>\n",
       "      <th>Training Accuracy</th>\n",
       "    </tr>\n",
       "  </thead>\n",
       "  <tbody>\n",
       "    <tr>\n",
       "      <th>Bagging</th>\n",
       "      <td>0.6844</td>\n",
       "      <td>0.686846</td>\n",
       "    </tr>\n",
       "    <tr>\n",
       "      <th>Decision Tree</th>\n",
       "      <td>0.6862</td>\n",
       "      <td>0.684912</td>\n",
       "    </tr>\n",
       "    <tr>\n",
       "      <th>Gradient Boosting</th>\n",
       "      <td>0.6902</td>\n",
       "      <td>0.701913</td>\n",
       "    </tr>\n",
       "    <tr>\n",
       "      <th>Random Forest</th>\n",
       "      <td>0.6766</td>\n",
       "      <td>0.678045</td>\n",
       "    </tr>\n",
       "  </tbody>\n",
       "</table>\n",
       "</div>"
      ],
      "text/plain": [
       "                   Test Accuracy  Training Accuracy\n",
       "Bagging                   0.6844           0.686846\n",
       "Decision Tree             0.6862           0.684912\n",
       "Gradient Boosting         0.6902           0.701913\n",
       "Random Forest             0.6766           0.678045"
      ]
     },
     "execution_count": 10,
     "metadata": {},
     "output_type": "execute_result"
    }
   ],
   "source": [
    "from sklearn import metrics\n",
    "accuracy_train = {} \n",
    "accuracy_test = {}\n",
    "for (name, model) in model_list:     \n",
    "    prediction_train = model.predict(A_train)     \n",
    "    accuracy_train[name] = metrics.accuracy_score(b_train, prediction_train)\n",
    "    prediction_test = model.predict(A_test)     \n",
    "    accuracy_test[name] = metrics.accuracy_score(b_test, prediction_test)     \n",
    "    \n",
    "df = DataFrame({'Training Accuracy':accuracy_train, 'Test Accuracy':accuracy_test}) \n",
    "df"
   ]
  },
  {
   "cell_type": "markdown",
   "metadata": {},
   "source": [
    "Perform a supervised classification on a subset of the corpus using the reviews only."
   ]
  },
  {
   "cell_type": "code",
   "execution_count": 11,
   "metadata": {
    "collapsed": false
   },
   "outputs": [],
   "source": [
    "reviews_random = reviews.reindex(np.random.permutation(reviews.index))"
   ]
  },
  {
   "cell_type": "code",
   "execution_count": 12,
   "metadata": {
    "collapsed": true
   },
   "outputs": [],
   "source": [
    "def mhttp://localhost:8888/notebooks/Group%20Homework%202.ipynb#Bake_all_lower_letters(string):\n",
    "    letters_only = re.sub('[^a-zA-Z]', ' ', string)\n",
    "    letters_only_lowered = letters_only.lower()\n",
    "    return letters_only_lowered"
   ]
  },
  {
   "cell_type": "code",
   "execution_count": 13,
   "metadata": {
    "collapsed": true
   },
   "outputs": [],
   "source": [
    "reviews_random['Review'] = reviews_random['Review'].map(make_all_lower_letters)"
   ]
  },
  {
   "cell_type": "code",
   "execution_count": 14,
   "metadata": {
    "collapsed": true
   },
   "outputs": [],
   "source": [
    "X_train = reviews_random['Review'][:15000]\n",
    "X_test = reviews_random['Review'][15000:]\n",
    "Y_train = reviews_random['target'][:15000]\n",
    "Y_test = reviews_random['target'][15000:]"
   ]
  },
  {
   "cell_type": "code",
   "execution_count": 15,
   "metadata": {
    "collapsed": true
   },
   "outputs": [],
   "source": [
    "vectorizer = CountVectorizer()\n",
    "dtm_train = vectorizer.fit_transform(X_train)\n",
    "dtm_test = vectorizer.transform(X_test)"
   ]
  },
  {
   "cell_type": "code",
   "execution_count": 16,
   "metadata": {
    "collapsed": true
   },
   "outputs": [],
   "source": [
    "nb_classifier = MultinomialNB().fit(dtm_train, Y_train)"
   ]
  },
  {
   "cell_type": "code",
   "execution_count": 17,
   "metadata": {
    "collapsed": true
   },
   "outputs": [],
   "source": [
    "y_nb_predicted = nb_classifier.predict(dtm_test)"
   ]
  },
  {
   "cell_type": "code",
   "execution_count": 18,
   "metadata": {
    "collapsed": false
   },
   "outputs": [
    {
     "data": {
      "text/plain": [
       "array([[1135,  486],\n",
       "       [ 270, 3108]])"
      ]
     },
     "execution_count": 18,
     "metadata": {},
     "output_type": "execute_result"
    }
   ],
   "source": [
    "metrics.confusion_matrix(Y_test, y_nb_predicted)"
   ]
  },
  {
   "cell_type": "code",
   "execution_count": 19,
   "metadata": {
    "collapsed": false
   },
   "outputs": [
    {
     "data": {
      "text/plain": [
       "0.84876975395079013"
      ]
     },
     "execution_count": 19,
     "metadata": {},
     "output_type": "execute_result"
    }
   ],
   "source": [
    "metrics.accuracy_score(Y_test, y_nb_predicted)"
   ]
  },
  {
   "cell_type": "code",
   "execution_count": 20,
   "metadata": {
    "collapsed": false
   },
   "outputs": [
    {
     "data": {
      "text/plain": [
       "list"
      ]
     },
     "execution_count": 20,
     "metadata": {},
     "output_type": "execute_result"
    }
   ],
   "source": [
    "y_nb_actual = nb_classifier.predict(dtm_train)\n",
    "y_nb = list(y_nb_actual) + list(y_nb_predicted)\n",
    "type(y_nb)"
   ]
  },
  {
   "cell_type": "markdown",
   "metadata": {},
   "source": [
    "Combine the numeric data and the text classification model to create a “hybrid” model."
   ]
  },
  {
   "cell_type": "code",
   "execution_count": 21,
   "metadata": {
    "collapsed": false
   },
   "outputs": [
    {
     "data": {
      "text/html": [
       "<div>\n",
       "<table border=\"1\" class=\"dataframe\">\n",
       "  <thead>\n",
       "    <tr style=\"text-align: right;\">\n",
       "      <th></th>\n",
       "      <th>stars</th>\n",
       "      <th>votes_cool</th>\n",
       "      <th>votes_funny</th>\n",
       "      <th>votes_useful</th>\n",
       "      <th>Cheap</th>\n",
       "      <th>Moderate</th>\n",
       "      <th>Expensive</th>\n",
       "      <th>VeryExpensive</th>\n",
       "      <th>American</th>\n",
       "      <th>Chinese</th>\n",
       "      <th>...</th>\n",
       "      <th>Italian</th>\n",
       "      <th>Greek</th>\n",
       "      <th>Mediterranean</th>\n",
       "      <th>Mexican</th>\n",
       "      <th>Thai</th>\n",
       "      <th>Vietnamese</th>\n",
       "      <th>Others</th>\n",
       "      <th>Review</th>\n",
       "      <th>target</th>\n",
       "      <th>TextPredictScore</th>\n",
       "    </tr>\n",
       "  </thead>\n",
       "  <tbody>\n",
       "    <tr>\n",
       "      <th>6751</th>\n",
       "      <td>5</td>\n",
       "      <td>1</td>\n",
       "      <td>0</td>\n",
       "      <td>2</td>\n",
       "      <td>False</td>\n",
       "      <td>True</td>\n",
       "      <td>False</td>\n",
       "      <td>False</td>\n",
       "      <td>False</td>\n",
       "      <td>False</td>\n",
       "      <td>...</td>\n",
       "      <td>True</td>\n",
       "      <td>False</td>\n",
       "      <td>False</td>\n",
       "      <td>False</td>\n",
       "      <td>False</td>\n",
       "      <td>False</td>\n",
       "      <td>False</td>\n",
       "      <td>my first experience   lgo was w much in trepid...</td>\n",
       "      <td>True</td>\n",
       "      <td>True</td>\n",
       "    </tr>\n",
       "    <tr>\n",
       "      <th>584</th>\n",
       "      <td>1</td>\n",
       "      <td>0</td>\n",
       "      <td>2</td>\n",
       "      <td>2</td>\n",
       "      <td>True</td>\n",
       "      <td>False</td>\n",
       "      <td>False</td>\n",
       "      <td>False</td>\n",
       "      <td>False</td>\n",
       "      <td>False</td>\n",
       "      <td>...</td>\n",
       "      <td>True</td>\n",
       "      <td>False</td>\n",
       "      <td>False</td>\n",
       "      <td>False</td>\n",
       "      <td>False</td>\n",
       "      <td>False</td>\n",
       "      <td>False</td>\n",
       "      <td>round table pizza is usually the bomb  in this...</td>\n",
       "      <td>False</td>\n",
       "      <td>False</td>\n",
       "    </tr>\n",
       "    <tr>\n",
       "      <th>3111</th>\n",
       "      <td>4</td>\n",
       "      <td>3</td>\n",
       "      <td>1</td>\n",
       "      <td>1</td>\n",
       "      <td>False</td>\n",
       "      <td>True</td>\n",
       "      <td>False</td>\n",
       "      <td>False</td>\n",
       "      <td>False</td>\n",
       "      <td>False</td>\n",
       "      <td>...</td>\n",
       "      <td>False</td>\n",
       "      <td>False</td>\n",
       "      <td>False</td>\n",
       "      <td>True</td>\n",
       "      <td>False</td>\n",
       "      <td>False</td>\n",
       "      <td>False</td>\n",
       "      <td>this has become my standby for mexican food in...</td>\n",
       "      <td>True</td>\n",
       "      <td>True</td>\n",
       "    </tr>\n",
       "    <tr>\n",
       "      <th>19997</th>\n",
       "      <td>3</td>\n",
       "      <td>0</td>\n",
       "      <td>1</td>\n",
       "      <td>0</td>\n",
       "      <td>False</td>\n",
       "      <td>False</td>\n",
       "      <td>True</td>\n",
       "      <td>False</td>\n",
       "      <td>False</td>\n",
       "      <td>False</td>\n",
       "      <td>...</td>\n",
       "      <td>False</td>\n",
       "      <td>False</td>\n",
       "      <td>False</td>\n",
       "      <td>False</td>\n",
       "      <td>False</td>\n",
       "      <td>False</td>\n",
       "      <td>True</td>\n",
       "      <td>the location is convenient and i would say tha...</td>\n",
       "      <td>False</td>\n",
       "      <td>False</td>\n",
       "    </tr>\n",
       "    <tr>\n",
       "      <th>10533</th>\n",
       "      <td>5</td>\n",
       "      <td>2</td>\n",
       "      <td>1</td>\n",
       "      <td>2</td>\n",
       "      <td>False</td>\n",
       "      <td>True</td>\n",
       "      <td>False</td>\n",
       "      <td>False</td>\n",
       "      <td>False</td>\n",
       "      <td>True</td>\n",
       "      <td>...</td>\n",
       "      <td>False</td>\n",
       "      <td>False</td>\n",
       "      <td>False</td>\n",
       "      <td>False</td>\n",
       "      <td>False</td>\n",
       "      <td>False</td>\n",
       "      <td>False</td>\n",
       "      <td>a good family restaurant  authentic hong kong ...</td>\n",
       "      <td>True</td>\n",
       "      <td>True</td>\n",
       "    </tr>\n",
       "    <tr>\n",
       "      <th>15798</th>\n",
       "      <td>2</td>\n",
       "      <td>1</td>\n",
       "      <td>1</td>\n",
       "      <td>1</td>\n",
       "      <td>True</td>\n",
       "      <td>False</td>\n",
       "      <td>False</td>\n",
       "      <td>False</td>\n",
       "      <td>False</td>\n",
       "      <td>False</td>\n",
       "      <td>...</td>\n",
       "      <td>False</td>\n",
       "      <td>True</td>\n",
       "      <td>True</td>\n",
       "      <td>False</td>\n",
       "      <td>False</td>\n",
       "      <td>False</td>\n",
       "      <td>False</td>\n",
       "      <td>i am really surprised at all the good reviews ...</td>\n",
       "      <td>False</td>\n",
       "      <td>False</td>\n",
       "    </tr>\n",
       "    <tr>\n",
       "      <th>1046</th>\n",
       "      <td>1</td>\n",
       "      <td>0</td>\n",
       "      <td>1</td>\n",
       "      <td>0</td>\n",
       "      <td>False</td>\n",
       "      <td>True</td>\n",
       "      <td>False</td>\n",
       "      <td>False</td>\n",
       "      <td>False</td>\n",
       "      <td>False</td>\n",
       "      <td>...</td>\n",
       "      <td>False</td>\n",
       "      <td>False</td>\n",
       "      <td>False</td>\n",
       "      <td>False</td>\n",
       "      <td>False</td>\n",
       "      <td>False</td>\n",
       "      <td>False</td>\n",
       "      <td>very slow service</td>\n",
       "      <td>False</td>\n",
       "      <td>True</td>\n",
       "    </tr>\n",
       "    <tr>\n",
       "      <th>11207</th>\n",
       "      <td>2</td>\n",
       "      <td>0</td>\n",
       "      <td>0</td>\n",
       "      <td>0</td>\n",
       "      <td>False</td>\n",
       "      <td>False</td>\n",
       "      <td>True</td>\n",
       "      <td>False</td>\n",
       "      <td>False</td>\n",
       "      <td>True</td>\n",
       "      <td>...</td>\n",
       "      <td>False</td>\n",
       "      <td>False</td>\n",
       "      <td>False</td>\n",
       "      <td>False</td>\n",
       "      <td>False</td>\n",
       "      <td>False</td>\n",
       "      <td>False</td>\n",
       "      <td>apparently i am not getting this place  the se...</td>\n",
       "      <td>False</td>\n",
       "      <td>False</td>\n",
       "    </tr>\n",
       "    <tr>\n",
       "      <th>8244</th>\n",
       "      <td>2</td>\n",
       "      <td>3</td>\n",
       "      <td>3</td>\n",
       "      <td>2</td>\n",
       "      <td>False</td>\n",
       "      <td>True</td>\n",
       "      <td>False</td>\n",
       "      <td>False</td>\n",
       "      <td>True</td>\n",
       "      <td>False</td>\n",
       "      <td>...</td>\n",
       "      <td>False</td>\n",
       "      <td>False</td>\n",
       "      <td>False</td>\n",
       "      <td>False</td>\n",
       "      <td>False</td>\n",
       "      <td>False</td>\n",
       "      <td>False</td>\n",
       "      <td>restauranting is not for the faint of heart  i...</td>\n",
       "      <td>False</td>\n",
       "      <td>False</td>\n",
       "    </tr>\n",
       "    <tr>\n",
       "      <th>3181</th>\n",
       "      <td>4</td>\n",
       "      <td>0</td>\n",
       "      <td>0</td>\n",
       "      <td>1</td>\n",
       "      <td>False</td>\n",
       "      <td>True</td>\n",
       "      <td>False</td>\n",
       "      <td>False</td>\n",
       "      <td>False</td>\n",
       "      <td>False</td>\n",
       "      <td>...</td>\n",
       "      <td>False</td>\n",
       "      <td>False</td>\n",
       "      <td>False</td>\n",
       "      <td>True</td>\n",
       "      <td>False</td>\n",
       "      <td>False</td>\n",
       "      <td>False</td>\n",
       "      <td>awesome  new mexican food done right  great at...</td>\n",
       "      <td>True</td>\n",
       "      <td>True</td>\n",
       "    </tr>\n",
       "  </tbody>\n",
       "</table>\n",
       "<p>10 rows × 23 columns</p>\n",
       "</div>"
      ],
      "text/plain": [
       "       stars  votes_cool  votes_funny  votes_useful  Cheap Moderate Expensive  \\\n",
       "6751       5           1            0             2  False     True     False   \n",
       "584        1           0            2             2   True    False     False   \n",
       "3111       4           3            1             1  False     True     False   \n",
       "19997      3           0            1             0  False    False      True   \n",
       "10533      5           2            1             2  False     True     False   \n",
       "15798      2           1            1             1   True    False     False   \n",
       "1046       1           0            1             0  False     True     False   \n",
       "11207      2           0            0             0  False    False      True   \n",
       "8244       2           3            3             2  False     True     False   \n",
       "3181       4           0            0             1  False     True     False   \n",
       "\n",
       "      VeryExpensive American Chinese       ...        Italian  Greek  \\\n",
       "6751          False    False   False       ...           True  False   \n",
       "584           False    False   False       ...           True  False   \n",
       "3111          False    False   False       ...          False  False   \n",
       "19997         False    False   False       ...          False  False   \n",
       "10533         False    False    True       ...          False  False   \n",
       "15798         False    False   False       ...          False   True   \n",
       "1046          False    False   False       ...          False  False   \n",
       "11207         False    False    True       ...          False  False   \n",
       "8244          False     True   False       ...          False  False   \n",
       "3181          False    False   False       ...          False  False   \n",
       "\n",
       "      Mediterranean Mexican   Thai Vietnamese Others  \\\n",
       "6751          False   False  False      False  False   \n",
       "584           False   False  False      False  False   \n",
       "3111          False    True  False      False  False   \n",
       "19997         False   False  False      False   True   \n",
       "10533         False   False  False      False  False   \n",
       "15798          True   False  False      False  False   \n",
       "1046          False   False  False      False  False   \n",
       "11207         False   False  False      False  False   \n",
       "8244          False   False  False      False  False   \n",
       "3181          False    True  False      False  False   \n",
       "\n",
       "                                                  Review target  \\\n",
       "6751   my first experience   lgo was w much in trepid...   True   \n",
       "584    round table pizza is usually the bomb  in this...  False   \n",
       "3111   this has become my standby for mexican food in...   True   \n",
       "19997  the location is convenient and i would say tha...  False   \n",
       "10533  a good family restaurant  authentic hong kong ...   True   \n",
       "15798  i am really surprised at all the good reviews ...  False   \n",
       "1046                                   very slow service  False   \n",
       "11207  apparently i am not getting this place  the se...  False   \n",
       "8244   restauranting is not for the faint of heart  i...  False   \n",
       "3181   awesome  new mexican food done right  great at...   True   \n",
       "\n",
       "      TextPredictScore  \n",
       "6751              True  \n",
       "584              False  \n",
       "3111              True  \n",
       "19997            False  \n",
       "10533             True  \n",
       "15798            False  \n",
       "1046              True  \n",
       "11207            False  \n",
       "8244             False  \n",
       "3181              True  \n",
       "\n",
       "[10 rows x 23 columns]"
      ]
     },
     "execution_count": 21,
     "metadata": {},
     "output_type": "execute_result"
    }
   ],
   "source": [
    "reviews_random['TextPredictScore'] = y_nb\n",
    "reviews_random[:10]"
   ]
  },
  {
   "cell_type": "code",
   "execution_count": null,
   "metadata": {
    "collapsed": true
   },
   "outputs": [],
   "source": [
    "D, C = dmatrices('target ~ votes_cool + votes_funny + votes_useful + Cheap + Moderate + Expensive + VeryExpensive + American + Chinese + French + Japanese + Indian + Italian + Greek + Mediterranean + Mexican + Thai + Vietnamese + Others + TextPredictScore', data=reviews_random, return_type='dataframe')\n",
    "d = D['target'].values"
   ]
  },
  {
   "cell_type": "code",
   "execution_count": 33,
   "metadata": {
    "collapsed": true
   },
   "outputs": [],
   "source": [
    "model_list = [('Decision Tree', tree.DecisionTreeClassifier(criterion='entropy', max_depth=4)),\n",
    "              ('Gradient Boosting', GradientBoostingClassifier(n_estimators=200, max_depth=4, random_state=1)),          \n",
    "              ('Random Forest', RandomForestClassifier(n_estimators=10, max_features = \"auto\", max_depth = 4, random_state=1)),    \n",
    "             ('Bagging', BaggingClassifier(tree.DecisionTreeClassifier(criterion='entropy', max_depth = 4), random_state=1))]"
   ]
  },
  {
   "cell_type": "code",
   "execution_count": 34,
   "metadata": {
    "collapsed": true
   },
   "outputs": [],
   "source": [
    "C_train, C_test, d_train, d_test = train_test_split(C, d, test_size=0.25, random_state=1)"
   ]
  },
  {
   "cell_type": "code",
   "execution_count": 35,
   "metadata": {
    "collapsed": false
   },
   "outputs": [
    {
     "name": "stdout",
     "output_type": "stream",
     "text": [
      "Fitting Decision Tree\n",
      "Fitting Gradient Boosting\n",
      "Fitting Random Forest\n",
      "Fitting Bagging\n"
     ]
    }
   ],
   "source": [
    "for (name, model) in model_list:     \n",
    "    print 'Fitting', name \n",
    "    model.fit(C_train, d_train)"
   ]
  },
  {
   "cell_type": "code",
   "execution_count": 36,
   "metadata": {
    "collapsed": false
   },
   "outputs": [
    {
     "data": {
      "text/html": [
       "<div>\n",
       "<table border=\"1\" class=\"dataframe\">\n",
       "  <thead>\n",
       "    <tr style=\"text-align: right;\">\n",
       "      <th></th>\n",
       "      <th>Test Accuracy</th>\n",
       "      <th>Training Accuracy</th>\n",
       "    </tr>\n",
       "  </thead>\n",
       "  <tbody>\n",
       "    <tr>\n",
       "      <th>Bagging</th>\n",
       "      <td>0.8850</td>\n",
       "      <td>0.883659</td>\n",
       "    </tr>\n",
       "    <tr>\n",
       "      <th>Decision Tree</th>\n",
       "      <td>0.8848</td>\n",
       "      <td>0.883992</td>\n",
       "    </tr>\n",
       "    <tr>\n",
       "      <th>Gradient Boosting</th>\n",
       "      <td>0.8836</td>\n",
       "      <td>0.887192</td>\n",
       "    </tr>\n",
       "    <tr>\n",
       "      <th>Random Forest</th>\n",
       "      <td>0.8834</td>\n",
       "      <td>0.881992</td>\n",
       "    </tr>\n",
       "  </tbody>\n",
       "</table>\n",
       "</div>"
      ],
      "text/plain": [
       "                   Test Accuracy  Training Accuracy\n",
       "Bagging                   0.8850           0.883659\n",
       "Decision Tree             0.8848           0.883992\n",
       "Gradient Boosting         0.8836           0.887192\n",
       "Random Forest             0.8834           0.881992"
      ]
     },
     "execution_count": 36,
     "metadata": {},
     "output_type": "execute_result"
    }
   ],
   "source": [
    "from sklearn import metrics\n",
    "accuracy_train1 = {} \n",
    "accuracy_test1 = {}\n",
    "for (name, model) in model_list:     \n",
    "    prediction_train1 = model.predict(C_train)     \n",
    "    accuracy_train1[name] = metrics.accuracy_score(d_train, prediction_train1)\n",
    "    prediction_test1 = model.predict(C_test)     \n",
    "    accuracy_test1[name] = metrics.accuracy_score(d_test, prediction_test1)     \n",
    "    \n",
    "df1 = DataFrame({'Training Accuracy':accuracy_train1, 'Test Accuracy':accuracy_test1}) \n",
    "df1"
   ]
  },
  {
   "cell_type": "code",
   "execution_count": 37,
   "metadata": {
    "collapsed": false
   },
   "outputs": [
    {
     "name": "stdout",
     "output_type": "stream",
     "text": [
      "0.883992266151\n",
      "0.8848\n"
     ]
    }
   ],
   "source": [
    "model2 = tree.DecisionTreeClassifier(criterion='entropy', max_depth = 4)\n",
    "result2 = model2.fit(C_train, d_train)\n",
    "\n",
    "prediction_train2 = model2.predict(C_train)\n",
    "print metrics.accuracy_score(d_train, prediction_train2)\n",
    "prediction2 = model2.predict(C_test)\n",
    "print metrics.accuracy_score(d_test, prediction2)\n"
   ]
  },
  {
   "cell_type": "code",
   "execution_count": 38,
   "metadata": {
    "collapsed": false
   },
   "outputs": [
    {
     "data": {
      "text/plain": [
       "True"
      ]
     },
     "execution_count": 38,
     "metadata": {},
     "output_type": "execute_result"
    }
   ],
   "source": [
    "from StringIO import StringIO\n",
    "import pydot\n",
    "dot_data = StringIO()\n",
    "tree.export_graphviz(model2, out_file=dot_data, feature_names=C.columns.values)\n",
    "pydot.graph_from_dot_data(dot_data.getvalue()).write_png('Reviews.png')"
   ]
  },
  {
   "cell_type": "markdown",
   "metadata": {},
   "source": [
    "Use unsupervised sentiment analysis on the reviews and use the sentiment score to predict high/low rating. "
   ]
  },
  {
   "cell_type": "code",
   "execution_count": 39,
   "metadata": {
    "collapsed": true
   },
   "outputs": [],
   "source": [
    "sentiment_results = pd.read_csv(\"YelpResults.csv\", header=0)"
   ]
  },
  {
   "cell_type": "code",
   "execution_count": 40,
   "metadata": {
    "collapsed": false
   },
   "outputs": [],
   "source": [
    "sentiment_list = [0]\n",
    "scores = list(sentiment_results[\"Score\"])\n",
    "sentiment_list = sentiment_list + scores\n",
    "reviews[\"Score\"] = sentiment_list"
   ]
  },
  {
   "cell_type": "markdown",
   "metadata": {},
   "source": [
    "Sentiment only"
   ]
  },
  {
   "cell_type": "code",
   "execution_count": 41,
   "metadata": {
    "collapsed": true
   },
   "outputs": [],
   "source": [
    "N, M = dmatrices('target ~ Score', data=reviews, return_type='dataframe')\n",
    "n = N['target'].values"
   ]
  },
  {
   "cell_type": "code",
   "execution_count": 42,
   "metadata": {
    "collapsed": true
   },
   "outputs": [],
   "source": [
    "model_list = [('Decision Tree', tree.DecisionTreeClassifier(criterion='entropy', max_depth=4)),\n",
    "              ('Gradient Boosting', GradientBoostingClassifier(n_estimators=200, max_depth=4, random_state=1)),          \n",
    "              ('Random Forest', RandomForestClassifier(n_estimators=10, max_features = \"auto\", max_depth = 4, random_state=1)),    \n",
    "             ('Bagging', BaggingClassifier(tree.DecisionTreeClassifier(criterion='entropy', max_depth = 4), random_state=1))]"
   ]
  },
  {
   "cell_type": "code",
   "execution_count": 43,
   "metadata": {
    "collapsed": true
   },
   "outputs": [],
   "source": [
    "M_train, M_test, n_train, n_test = train_test_split(M, n, test_size=0.25, random_state=1)"
   ]
  },
  {
   "cell_type": "code",
   "execution_count": 44,
   "metadata": {
    "collapsed": false
   },
   "outputs": [
    {
     "name": "stdout",
     "output_type": "stream",
     "text": [
      "Fitting Decision Tree\n",
      "Fitting Gradient Boosting\n",
      "Fitting Random Forest\n",
      "Fitting Bagging\n"
     ]
    }
   ],
   "source": [
    "for (name, model) in model_list:     \n",
    "    print 'Fitting', name \n",
    "    model.fit(M_train, n_train)"
   ]
  },
  {
   "cell_type": "code",
   "execution_count": 45,
   "metadata": {
    "collapsed": false
   },
   "outputs": [
    {
     "data": {
      "text/html": [
       "<div>\n",
       "<table border=\"1\" class=\"dataframe\">\n",
       "  <thead>\n",
       "    <tr style=\"text-align: right;\">\n",
       "      <th></th>\n",
       "      <th>Test Accuracy</th>\n",
       "      <th>Training Accuracy</th>\n",
       "    </tr>\n",
       "  </thead>\n",
       "  <tbody>\n",
       "    <tr>\n",
       "      <th>Bagging</th>\n",
       "      <td>0.7162</td>\n",
       "      <td>0.727115</td>\n",
       "    </tr>\n",
       "    <tr>\n",
       "      <th>Decision Tree</th>\n",
       "      <td>0.7162</td>\n",
       "      <td>0.727115</td>\n",
       "    </tr>\n",
       "    <tr>\n",
       "      <th>Gradient Boosting</th>\n",
       "      <td>0.7162</td>\n",
       "      <td>0.727115</td>\n",
       "    </tr>\n",
       "    <tr>\n",
       "      <th>Random Forest</th>\n",
       "      <td>0.7162</td>\n",
       "      <td>0.727115</td>\n",
       "    </tr>\n",
       "  </tbody>\n",
       "</table>\n",
       "</div>"
      ],
      "text/plain": [
       "                   Test Accuracy  Training Accuracy\n",
       "Bagging                   0.7162           0.727115\n",
       "Decision Tree             0.7162           0.727115\n",
       "Gradient Boosting         0.7162           0.727115\n",
       "Random Forest             0.7162           0.727115"
      ]
     },
     "execution_count": 45,
     "metadata": {},
     "output_type": "execute_result"
    }
   ],
   "source": [
    "from sklearn import metrics\n",
    "accuracy_train3 = {} \n",
    "accuracy_test3 = {}\n",
    "for (name, model) in model_list:     \n",
    "    prediction_train3 = model.predict(M_train)     \n",
    "    accuracy_train3[name] = metrics.accuracy_score(n_train, prediction_train3)\n",
    "    prediction_test3 = model.predict(M_test)     \n",
    "    accuracy_test3[name] = metrics.accuracy_score(n_test, prediction_test3)     \n",
    "    \n",
    "df = DataFrame({'Training Accuracy':accuracy_train3, 'Test Accuracy':accuracy_test3}) \n",
    "df"
   ]
  },
  {
   "cell_type": "markdown",
   "metadata": {},
   "source": [
    "Sentiment only - pivot table of sentiment against stars"
   ]
  },
  {
   "cell_type": "code",
   "execution_count": 47,
   "metadata": {
    "collapsed": false
   },
   "outputs": [
    {
     "data": {
      "text/html": [
       "<div>\n",
       "<table border=\"1\" class=\"dataframe\">\n",
       "  <thead>\n",
       "    <tr style=\"text-align: right;\">\n",
       "      <th>Score</th>\n",
       "      <th>-4</th>\n",
       "      <th>-3</th>\n",
       "      <th>-2</th>\n",
       "      <th>-1</th>\n",
       "      <th>0</th>\n",
       "      <th>1</th>\n",
       "      <th>2</th>\n",
       "      <th>3</th>\n",
       "      <th>4</th>\n",
       "    </tr>\n",
       "    <tr>\n",
       "      <th>target</th>\n",
       "      <th></th>\n",
       "      <th></th>\n",
       "      <th></th>\n",
       "      <th></th>\n",
       "      <th></th>\n",
       "      <th></th>\n",
       "      <th></th>\n",
       "      <th></th>\n",
       "      <th></th>\n",
       "    </tr>\n",
       "  </thead>\n",
       "  <tbody>\n",
       "    <tr>\n",
       "      <th>0</th>\n",
       "      <td>5</td>\n",
       "      <td>92</td>\n",
       "      <td>428</td>\n",
       "      <td>1299</td>\n",
       "      <td>1823</td>\n",
       "      <td>1887</td>\n",
       "      <td>795</td>\n",
       "      <td>116</td>\n",
       "      <td>1</td>\n",
       "    </tr>\n",
       "    <tr>\n",
       "      <th>1</th>\n",
       "      <td>0</td>\n",
       "      <td>8</td>\n",
       "      <td>95</td>\n",
       "      <td>787</td>\n",
       "      <td>2031</td>\n",
       "      <td>4353</td>\n",
       "      <td>4845</td>\n",
       "      <td>1366</td>\n",
       "      <td>68</td>\n",
       "    </tr>\n",
       "  </tbody>\n",
       "</table>\n",
       "</div>"
      ],
      "text/plain": [
       "Score   -4  -3   -2    -1     0     1     2     3   4\n",
       "target                                               \n",
       "0        5  92  428  1299  1823  1887   795   116   1\n",
       "1        0   8   95   787  2031  4353  4845  1366  68"
      ]
     },
     "execution_count": 47,
     "metadata": {},
     "output_type": "execute_result"
    }
   ],
   "source": [
    "pd.crosstab(index=reviews['target'], columns=reviews['Score'])"
   ]
  },
  {
   "cell_type": "markdown",
   "metadata": {},
   "source": [
    "Model with sentiment and non-review variables"
   ]
  },
  {
   "cell_type": "code",
   "execution_count": 48,
   "metadata": {
    "collapsed": true
   },
   "outputs": [],
   "source": [
    "K, J = dmatrices('target ~ votes_cool + votes_funny + votes_useful + Cheap + Moderate + Expensive + VeryExpensive + American + Chinese + French + Japanese + Indian + Italian + Greek + Mediterranean + Mexican + Thai + Vietnamese + Others + Score', data=reviews, return_type='dataframe')\n",
    "k = K['target'].values"
   ]
  },
  {
   "cell_type": "code",
   "execution_count": 49,
   "metadata": {
    "collapsed": true
   },
   "outputs": [],
   "source": [
    "model_list = [('Decision Tree', tree.DecisionTreeClassifier(criterion='entropy', max_depth=4)),\n",
    "              ('Gradient Boosting', GradientBoostingClassifier(n_estimators=200, max_depth=4, random_state=1)),          \n",
    "              ('Random Forest', RandomForestClassifier(n_estimators=10, max_features = \"auto\", max_depth = 4, random_state=1)),    \n",
    "             ('Bagging', BaggingClassifier(tree.DecisionTreeClassifier(criterion='entropy', max_depth = 4), random_state=1))]"
   ]
  },
  {
   "cell_type": "code",
   "execution_count": 50,
   "metadata": {
    "collapsed": true
   },
   "outputs": [],
   "source": [
    "J_train, J_test, k_train, k_test = train_test_split(M, n, test_size=0.25, random_state=1)"
   ]
  },
  {
   "cell_type": "code",
   "execution_count": 51,
   "metadata": {
    "collapsed": false
   },
   "outputs": [
    {
     "name": "stdout",
     "output_type": "stream",
     "text": [
      "Fitting Decision Tree\n",
      "Fitting Gradient Boosting\n",
      "Fitting Random Forest\n",
      "Fitting Bagging\n"
     ]
    }
   ],
   "source": [
    "for (name, model) in model_list:     \n",
    "    print 'Fitting', name \n",
    "    model.fit(J_train, k_train)"
   ]
  },
  {
   "cell_type": "code",
   "execution_count": 52,
   "metadata": {
    "collapsed": false
   },
   "outputs": [
    {
     "data": {
      "text/html": [
       "<div>\n",
       "<table border=\"1\" class=\"dataframe\">\n",
       "  <thead>\n",
       "    <tr style=\"text-align: right;\">\n",
       "      <th></th>\n",
       "      <th>Test Accuracy</th>\n",
       "      <th>Training Accuracy</th>\n",
       "    </tr>\n",
       "  </thead>\n",
       "  <tbody>\n",
       "    <tr>\n",
       "      <th>Bagging</th>\n",
       "      <td>0.7162</td>\n",
       "      <td>0.727115</td>\n",
       "    </tr>\n",
       "    <tr>\n",
       "      <th>Decision Tree</th>\n",
       "      <td>0.7162</td>\n",
       "      <td>0.727115</td>\n",
       "    </tr>\n",
       "    <tr>\n",
       "      <th>Gradient Boosting</th>\n",
       "      <td>0.7162</td>\n",
       "      <td>0.727115</td>\n",
       "    </tr>\n",
       "    <tr>\n",
       "      <th>Random Forest</th>\n",
       "      <td>0.7162</td>\n",
       "      <td>0.727115</td>\n",
       "    </tr>\n",
       "  </tbody>\n",
       "</table>\n",
       "</div>"
      ],
      "text/plain": [
       "                   Test Accuracy  Training Accuracy\n",
       "Bagging                   0.7162           0.727115\n",
       "Decision Tree             0.7162           0.727115\n",
       "Gradient Boosting         0.7162           0.727115\n",
       "Random Forest             0.7162           0.727115"
      ]
     },
     "execution_count": 52,
     "metadata": {},
     "output_type": "execute_result"
    }
   ],
   "source": [
    "from sklearn import metrics\n",
    "accuracy_train4 = {} \n",
    "accuracy_test4 = {}\n",
    "for (name, model) in model_list:     \n",
    "    prediction_train4 = model.predict(J_train)     \n",
    "    accuracy_train4[name] = metrics.accuracy_score(k_train, prediction_train4)\n",
    "    prediction_test4 = model.predict(J_test)     \n",
    "    accuracy_test4[name] = metrics.accuracy_score(k_test, prediction_test4)     \n",
    "    \n",
    "df4 = DataFrame({'Training Accuracy':accuracy_train4, 'Test Accuracy':accuracy_test4}) \n",
    "df4"
   ]
  },
  {
   "cell_type": "markdown",
   "metadata": {},
   "source": [
    "Use unsupervised clustering on the text."
   ]
  },
  {
   "cell_type": "code",
   "execution_count": 53,
   "metadata": {
    "collapsed": true
   },
   "outputs": [],
   "source": [
    "vectorizer = TfidfVectorizer()\n",
    "dtm_train1 = vectorizer.fit_transform(reviews_random[\"Review\"])\n",
    "#dtm_test1 = vectorizer.transform(X_test)"
   ]
  },
  {
   "cell_type": "code",
   "execution_count": 54,
   "metadata": {
    "collapsed": true
   },
   "outputs": [],
   "source": [
    "from sklearn.cluster import KMeans, MiniBatchKMeans"
   ]
  },
  {
   "cell_type": "code",
   "execution_count": 56,
   "metadata": {
    "collapsed": false
   },
   "outputs": [],
   "source": [
    "kmeans_classifier = KMeans(n_clusters=2).fit(dtm_train1, Y_train)"
   ]
  },
  {
   "cell_type": "code",
   "execution_count": 57,
   "metadata": {
    "collapsed": false
   },
   "outputs": [],
   "source": [
    "reviews_random['cluster'] = kmeans_classifier.labels_"
   ]
  },
  {
   "cell_type": "code",
   "execution_count": 58,
   "metadata": {
    "collapsed": false
   },
   "outputs": [
    {
     "data": {
      "text/html": [
       "<div>\n",
       "<table border=\"1\" class=\"dataframe\">\n",
       "  <thead>\n",
       "    <tr style=\"text-align: right;\">\n",
       "      <th>cluster</th>\n",
       "      <th>0</th>\n",
       "      <th>1</th>\n",
       "    </tr>\n",
       "    <tr>\n",
       "      <th>target</th>\n",
       "      <th></th>\n",
       "      <th></th>\n",
       "    </tr>\n",
       "  </thead>\n",
       "  <tbody>\n",
       "    <tr>\n",
       "      <th>0</th>\n",
       "      <td>2878</td>\n",
       "      <td>3568</td>\n",
       "    </tr>\n",
       "    <tr>\n",
       "      <th>1</th>\n",
       "      <td>8341</td>\n",
       "      <td>5212</td>\n",
       "    </tr>\n",
       "  </tbody>\n",
       "</table>\n",
       "</div>"
      ],
      "text/plain": [
       "cluster     0     1\n",
       "target             \n",
       "0        2878  3568\n",
       "1        8341  5212"
      ]
     },
     "execution_count": 58,
     "metadata": {},
     "output_type": "execute_result"
    }
   ],
   "source": [
    "pd.crosstab(index=reviews_random['target'], columns=reviews_random['cluster'])"
   ]
  },
  {
   "cell_type": "code",
   "execution_count": null,
   "metadata": {
    "collapsed": true
   },
   "outputs": [],
   "source": []
  }
 ],
 "metadata": {
  "kernelspec": {
   "display_name": "Python 2",
   "language": "python",
   "name": "python2"
  },
  "language_info": {
   "codemirror_mode": {
    "name": "ipython",
    "version": 2
   },
   "file_extension": ".py",
   "mimetype": "text/x-python",
   "name": "python",
   "nbconvert_exporter": "python",
   "pygments_lexer": "ipython2",
   "version": "2.7.10"
  }
 },
 "nbformat": 4,
 "nbformat_minor": 0
}
