{
 "cells": [
  {
   "cell_type": "markdown",
   "metadata": {},
   "source": [
    "## Brand advice/insights based on the analysis of social media conversations on Edmunds.com"
   ]
  },
  {
   "cell_type": "code",
   "execution_count": 1,
   "metadata": {
    "collapsed": true
   },
   "outputs": [],
   "source": [
    "import pandas as pd\n",
    "from nltk.tokenize import word_tokenize\n",
    "from re import sub"
   ]
  },
  {
   "cell_type": "code",
   "execution_count": 2,
   "metadata": {
    "collapsed": true
   },
   "outputs": [],
   "source": [
    "#Added a header row to the csv to match prior formatting\n",
    "edmunds = pd.read_csv(\"Brands Replaced.csv\")"
   ]
  },
  {
   "cell_type": "code",
   "execution_count": 3,
   "metadata": {
    "collapsed": false
   },
   "outputs": [
    {
     "data": {
      "text/html": [
       "<div>\n",
       "<table border=\"1\" class=\"dataframe\">\n",
       "  <thead>\n",
       "    <tr style=\"text-align: right;\">\n",
       "      <th></th>\n",
       "      <th>Unnamed: 0</th>\n",
       "      <th>Mention</th>\n",
       "    </tr>\n",
       "  </thead>\n",
       "  <tbody>\n",
       "    <tr>\n",
       "      <th>0</th>\n",
       "      <td>0</td>\n",
       "      <td>to take delivery of a 2006 buick it wouldn't s...</td>\n",
       "    </tr>\n",
       "    <tr>\n",
       "      <th>1</th>\n",
       "      <td>1</td>\n",
       "      <td>just talking with my mother and she said twice...</td>\n",
       "    </tr>\n",
       "    <tr>\n",
       "      <th>2</th>\n",
       "      <td>2</td>\n",
       "      <td>for one have not heard of any electrical issue...</td>\n",
       "    </tr>\n",
       "    <tr>\n",
       "      <th>3</th>\n",
       "      <td>3</td>\n",
       "      <td>a guess my 2000 buick buick had a problem with...</td>\n",
       "    </tr>\n",
       "    <tr>\n",
       "      <th>4</th>\n",
       "      <td>4</td>\n",
       "      <td>three occasions my 2005 buick theft deterrent ...</td>\n",
       "    </tr>\n",
       "  </tbody>\n",
       "</table>\n",
       "</div>"
      ],
      "text/plain": [
       "   Unnamed: 0                                            Mention\n",
       "0           0  to take delivery of a 2006 buick it wouldn't s...\n",
       "1           1  just talking with my mother and she said twice...\n",
       "2           2  for one have not heard of any electrical issue...\n",
       "3           3  a guess my 2000 buick buick had a problem with...\n",
       "4           4  three occasions my 2005 buick theft deterrent ..."
      ]
     },
     "execution_count": 3,
     "metadata": {},
     "output_type": "execute_result"
    }
   ],
   "source": [
    "edmunds.head()"
   ]
  },
  {
   "cell_type": "code",
   "execution_count": 4,
   "metadata": {
    "collapsed": false
   },
   "outputs": [
    {
     "data": {
      "text/plain": [
       "(18132, 2)"
      ]
     },
     "execution_count": 4,
     "metadata": {},
     "output_type": "execute_result"
    }
   ],
   "source": [
    "edmunds.shape"
   ]
  },
  {
   "cell_type": "code",
   "execution_count": 5,
   "metadata": {
    "collapsed": true
   },
   "outputs": [],
   "source": [
    "car_models = ['acura','audi','bmw','buick','cadillac','chevrolet','chrysler','dodge','ford','honda','hyundai','infiniti','kia','lincoln','mazda','mercedes','mercury','mitsubishi','nissan','pontiac','saturn','subaru','suzuki','toyota','volkswagen','volvo']"
   ]
  },
  {
   "cell_type": "markdown",
   "metadata": {},
   "source": [
    "###Most Mentioned Models"
   ]
  },
  {
   "cell_type": "code",
   "execution_count": 6,
   "metadata": {
    "collapsed": true
   },
   "outputs": [],
   "source": [
    "#Gathering all posts and counting mentions of models\n",
    "mentions = []\n",
    "for i in range(len(edmunds.index)):\n",
    "    x = word_tokenize(sub('[^a-zA-Z]', ' ', str(edmunds.ix[i]['Mention'])).lower())\n",
    "    single_mention = []\n",
    "    for j in range(len(x)):\n",
    "        if x[j] in car_models:\n",
    "            single_mention.append(x[j])\n",
    "    if single_mention:\n",
    "        for k in range(len(pd.Series(single_mention).value_counts())):\n",
    "            mentions.append(pd.Series(single_mention).value_counts().index[k])"
   ]
  },
  {
   "cell_type": "code",
   "execution_count": 7,
   "metadata": {
    "collapsed": false
   },
   "outputs": [
    {
     "data": {
      "text/plain": [
       "toyota        1711\n",
       "honda         1592\n",
       "hyundai       1267\n",
       "chevrolet     1244\n",
       "nissan         790\n",
       "ford           562\n",
       "volkswagen     523\n",
       "bmw            513\n",
       "chrysler       473\n",
       "buick          470\n",
       "dtype: int64"
      ]
     },
     "execution_count": 7,
     "metadata": {},
     "output_type": "execute_result"
    }
   ],
   "source": [
    "#top ten most mentioned models\n",
    "most_mentioned_models = pd.Series(mentions).value_counts()\n",
    "most_mentioned_models[:10]"
   ]
  },
  {
   "cell_type": "markdown",
   "metadata": {},
   "source": [
    "###Lift"
   ]
  },
  {
   "cell_type": "code",
   "execution_count": 8,
   "metadata": {
    "collapsed": true
   },
   "outputs": [],
   "source": [
    "#Gererating dataframe for lift calculations\n",
    "mentions_df = pd.DataFrame(index = range(len(edmunds)))\n",
    "for m in car_models:\n",
    "    mentions = []\n",
    "    for i in range(len(edmunds.index)):\n",
    "        x = word_tokenize(sub('[^a-zA-Z]', ' ', str(edmunds.ix[i]['Mention'])).lower())\n",
    "        single_mention = []\n",
    "        for j in range(len(x)):\n",
    "            if x[j] == m:\n",
    "                single_mention.append(x[j])\n",
    "        if single_mention:\n",
    "            mentions.append(1)\n",
    "        else:\n",
    "            mentions.append(0)\n",
    "    mentions_df[m] = pd.Series(mentions)"
   ]
  },
  {
   "cell_type": "code",
   "execution_count": 9,
   "metadata": {
    "collapsed": false
   },
   "outputs": [
    {
     "data": {
      "text/plain": [
       "(18132, 26)"
      ]
     },
     "execution_count": 9,
     "metadata": {},
     "output_type": "execute_result"
    }
   ],
   "source": [
    "mentions_df.shape"
   ]
  },
  {
   "cell_type": "code",
   "execution_count": 10,
   "metadata": {
    "collapsed": false
   },
   "outputs": [
    {
     "data": {
      "text/html": [
       "<div>\n",
       "<table border=\"1\" class=\"dataframe\">\n",
       "  <thead>\n",
       "    <tr style=\"text-align: right;\">\n",
       "      <th></th>\n",
       "      <th>acura</th>\n",
       "      <th>audi</th>\n",
       "      <th>bmw</th>\n",
       "      <th>buick</th>\n",
       "      <th>cadillac</th>\n",
       "      <th>chevrolet</th>\n",
       "      <th>chrysler</th>\n",
       "      <th>dodge</th>\n",
       "      <th>ford</th>\n",
       "      <th>honda</th>\n",
       "      <th>...</th>\n",
       "      <th>mercury</th>\n",
       "      <th>mitsubishi</th>\n",
       "      <th>nissan</th>\n",
       "      <th>pontiac</th>\n",
       "      <th>saturn</th>\n",
       "      <th>subaru</th>\n",
       "      <th>suzuki</th>\n",
       "      <th>toyota</th>\n",
       "      <th>volkswagen</th>\n",
       "      <th>volvo</th>\n",
       "    </tr>\n",
       "  </thead>\n",
       "  <tbody>\n",
       "    <tr>\n",
       "      <th>0</th>\n",
       "      <td>0</td>\n",
       "      <td>0</td>\n",
       "      <td>0</td>\n",
       "      <td>1</td>\n",
       "      <td>0</td>\n",
       "      <td>0</td>\n",
       "      <td>0</td>\n",
       "      <td>0</td>\n",
       "      <td>0</td>\n",
       "      <td>0</td>\n",
       "      <td>...</td>\n",
       "      <td>0</td>\n",
       "      <td>0</td>\n",
       "      <td>0</td>\n",
       "      <td>0</td>\n",
       "      <td>0</td>\n",
       "      <td>0</td>\n",
       "      <td>0</td>\n",
       "      <td>0</td>\n",
       "      <td>0</td>\n",
       "      <td>0</td>\n",
       "    </tr>\n",
       "    <tr>\n",
       "      <th>1</th>\n",
       "      <td>0</td>\n",
       "      <td>0</td>\n",
       "      <td>0</td>\n",
       "      <td>1</td>\n",
       "      <td>0</td>\n",
       "      <td>0</td>\n",
       "      <td>0</td>\n",
       "      <td>0</td>\n",
       "      <td>0</td>\n",
       "      <td>0</td>\n",
       "      <td>...</td>\n",
       "      <td>0</td>\n",
       "      <td>0</td>\n",
       "      <td>0</td>\n",
       "      <td>0</td>\n",
       "      <td>0</td>\n",
       "      <td>0</td>\n",
       "      <td>0</td>\n",
       "      <td>0</td>\n",
       "      <td>0</td>\n",
       "      <td>0</td>\n",
       "    </tr>\n",
       "    <tr>\n",
       "      <th>2</th>\n",
       "      <td>0</td>\n",
       "      <td>0</td>\n",
       "      <td>0</td>\n",
       "      <td>0</td>\n",
       "      <td>0</td>\n",
       "      <td>0</td>\n",
       "      <td>0</td>\n",
       "      <td>0</td>\n",
       "      <td>0</td>\n",
       "      <td>0</td>\n",
       "      <td>...</td>\n",
       "      <td>0</td>\n",
       "      <td>0</td>\n",
       "      <td>0</td>\n",
       "      <td>0</td>\n",
       "      <td>0</td>\n",
       "      <td>0</td>\n",
       "      <td>0</td>\n",
       "      <td>0</td>\n",
       "      <td>0</td>\n",
       "      <td>0</td>\n",
       "    </tr>\n",
       "    <tr>\n",
       "      <th>3</th>\n",
       "      <td>0</td>\n",
       "      <td>0</td>\n",
       "      <td>0</td>\n",
       "      <td>1</td>\n",
       "      <td>0</td>\n",
       "      <td>0</td>\n",
       "      <td>0</td>\n",
       "      <td>0</td>\n",
       "      <td>0</td>\n",
       "      <td>0</td>\n",
       "      <td>...</td>\n",
       "      <td>0</td>\n",
       "      <td>0</td>\n",
       "      <td>0</td>\n",
       "      <td>0</td>\n",
       "      <td>0</td>\n",
       "      <td>0</td>\n",
       "      <td>0</td>\n",
       "      <td>0</td>\n",
       "      <td>0</td>\n",
       "      <td>0</td>\n",
       "    </tr>\n",
       "    <tr>\n",
       "      <th>4</th>\n",
       "      <td>0</td>\n",
       "      <td>0</td>\n",
       "      <td>0</td>\n",
       "      <td>1</td>\n",
       "      <td>0</td>\n",
       "      <td>0</td>\n",
       "      <td>0</td>\n",
       "      <td>0</td>\n",
       "      <td>0</td>\n",
       "      <td>0</td>\n",
       "      <td>...</td>\n",
       "      <td>0</td>\n",
       "      <td>0</td>\n",
       "      <td>0</td>\n",
       "      <td>0</td>\n",
       "      <td>0</td>\n",
       "      <td>0</td>\n",
       "      <td>0</td>\n",
       "      <td>0</td>\n",
       "      <td>0</td>\n",
       "      <td>0</td>\n",
       "    </tr>\n",
       "  </tbody>\n",
       "</table>\n",
       "<p>5 rows × 26 columns</p>\n",
       "</div>"
      ],
      "text/plain": [
       "   acura  audi  bmw  buick  cadillac  chevrolet  chrysler  dodge  ford  honda  \\\n",
       "0      0     0    0      1         0          0         0      0     0      0   \n",
       "1      0     0    0      1         0          0         0      0     0      0   \n",
       "2      0     0    0      0         0          0         0      0     0      0   \n",
       "3      0     0    0      1         0          0         0      0     0      0   \n",
       "4      0     0    0      1         0          0         0      0     0      0   \n",
       "\n",
       "   ...    mercury  mitsubishi  nissan  pontiac  saturn  subaru  suzuki  \\\n",
       "0  ...          0           0       0        0       0       0       0   \n",
       "1  ...          0           0       0        0       0       0       0   \n",
       "2  ...          0           0       0        0       0       0       0   \n",
       "3  ...          0           0       0        0       0       0       0   \n",
       "4  ...          0           0       0        0       0       0       0   \n",
       "\n",
       "   toyota  volkswagen  volvo  \n",
       "0       0           0      0  \n",
       "1       0           0      0  \n",
       "2       0           0      0  \n",
       "3       0           0      0  \n",
       "4       0           0      0  \n",
       "\n",
       "[5 rows x 26 columns]"
      ]
     },
     "execution_count": 10,
     "metadata": {},
     "output_type": "execute_result"
    }
   ],
   "source": [
    "mentions_df.head()"
   ]
  },
  {
   "cell_type": "code",
   "execution_count": 11,
   "metadata": {
    "collapsed": true
   },
   "outputs": [],
   "source": [
    "#Write to csv for processing using 'lift calculations.R'\n",
    "mentions_df.to_csv('mentions_binary.csv', header=True, index=False)"
   ]
  },
  {
   "cell_type": "markdown",
   "metadata": {},
   "source": [
    "###Most Mentioned Attributes"
   ]
  },
  {
   "cell_type": "code",
   "execution_count": 12,
   "metadata": {
    "collapsed": false
   },
   "outputs": [
    {
     "data": {
      "text/html": [
       "<div>\n",
       "<table border=\"1\" class=\"dataframe\">\n",
       "  <thead>\n",
       "    <tr style=\"text-align: right;\">\n",
       "      <th></th>\n",
       "      <th>Unnamed: 0</th>\n",
       "      <th>Merge</th>\n",
       "    </tr>\n",
       "  </thead>\n",
       "  <tbody>\n",
       "    <tr>\n",
       "      <th>0</th>\n",
       "      <td>0</td>\n",
       "      <td>to take delivery of a 2006 buick it wouldn't s...</td>\n",
       "    </tr>\n",
       "    <tr>\n",
       "      <th>1</th>\n",
       "      <td>1</td>\n",
       "      <td>just talking with my mother and she said twice...</td>\n",
       "    </tr>\n",
       "    <tr>\n",
       "      <th>2</th>\n",
       "      <td>2</td>\n",
       "      <td>for one have not heard of any electrical issue...</td>\n",
       "    </tr>\n",
       "    <tr>\n",
       "      <th>3</th>\n",
       "      <td>3</td>\n",
       "      <td>a guess my 2000 buick buick had a problem with...</td>\n",
       "    </tr>\n",
       "    <tr>\n",
       "      <th>4</th>\n",
       "      <td>4</td>\n",
       "      <td>three occasions my 2005 buick theft deterrent ...</td>\n",
       "    </tr>\n",
       "  </tbody>\n",
       "</table>\n",
       "</div>"
      ],
      "text/plain": [
       "   Unnamed: 0                                              Merge\n",
       "0           0  to take delivery of a 2006 buick it wouldn't s...\n",
       "1           1  just talking with my mother and she said twice...\n",
       "2           2  for one have not heard of any electrical issue...\n",
       "3           3  a guess my 2000 buick buick had a problem with...\n",
       "4           4  three occasions my 2005 buick theft deterrent ..."
      ]
     },
     "execution_count": 12,
     "metadata": {},
     "output_type": "execute_result"
    }
   ],
   "source": [
    "edmunds = pd.read_csv(\"Attributes Replaced.csv\")\n",
    "edmunds.head()"
   ]
  },
  {
   "cell_type": "code",
   "execution_count": 13,
   "metadata": {
    "collapsed": true
   },
   "outputs": [],
   "source": [
    "model_attributes = ['availability','bestlooking design','betterlooking design','brand','dealer','design','ease','economy','efficiency','engine','experience','exterior','features','functionality','goodlooking design','hybrid','interior','noise','part','performance','price','reliability','safety','seating','service','size','stylish design','transmission','warranty','wheel'] "
   ]
  },
  {
   "cell_type": "code",
   "execution_count": 14,
   "metadata": {
    "collapsed": false
   },
   "outputs": [
    {
     "data": {
      "text/plain": [
       "performance    4575\n",
       "engine         4454\n",
       "dealer         3590\n",
       "economy        3129\n",
       "exterior       2992\n",
       "dtype: int64"
      ]
     },
     "execution_count": 14,
     "metadata": {},
     "output_type": "execute_result"
    }
   ],
   "source": [
    "#5 most frequently mentioned attributes\n",
    "attributes = []\n",
    "for i in range(len(edmunds.index)):\n",
    "    x = word_tokenize(sub('[^a-zA-Z]', ' ', str(edmunds.ix[i]['Merge'])).lower())\n",
    "    single_mention = []\n",
    "    for j in range(len(x)):\n",
    "        if x[j] in model_attributes:\n",
    "            single_mention.append(x[j])\n",
    "    if single_mention:\n",
    "        for k in range(len(pd.Series(single_mention).value_counts())):\n",
    "            attributes.append(pd.Series(single_mention).value_counts().index[k])\n",
    "            \n",
    "most_mentioned_attributes = pd.Series(attributes).value_counts()\n",
    "most_mentioned_attributes[:5]"
   ]
  },
  {
   "cell_type": "markdown",
   "metadata": {},
   "source": [
    "###Most Mentioned Attributes for Top Five Models"
   ]
  },
  {
   "cell_type": "code",
   "execution_count": 15,
   "metadata": {
    "collapsed": true
   },
   "outputs": [],
   "source": [
    "#get top attributes per model\n",
    "def get_attributes(model):\n",
    "    attributes = []\n",
    "    model_attributes = ['availability','bestlooking design','betterlooking design','brand','dealer','design','ease','economy','efficiency','engine','experience','exterior','features','functionality','goodlooking design','hybrid','interior','noise','part','performance','price','reliability','safety','seating','service','size','stylish design','transmission','warranty','wheel'] \n",
    "    for i in range(len(model)):\n",
    "        x = model[i]\n",
    "        single_mention = []\n",
    "        for j in range(len(x)):\n",
    "            if x[j] in model_attributes:\n",
    "                single_mention.append(x[j])\n",
    "        if single_mention:\n",
    "            for k in range(len(pd.Series(single_mention).value_counts())):\n",
    "                attributes.append(pd.Series(single_mention).value_counts().index[k])\n",
    "    print  'Most Mentioned Attributes:'\n",
    "    print pd.Series(attributes).value_counts()[:10]\n",
    "    return pd.Series(attributes).value_counts()[:10]"
   ]
  },
  {
   "cell_type": "code",
   "execution_count": 16,
   "metadata": {
    "collapsed": false
   },
   "outputs": [
    {
     "name": "stdout",
     "output_type": "stream",
     "text": [
      "toyota\n",
      "Most Mentioned Attributes:\n",
      "performance     523\n",
      "economy         504\n",
      "engine          494\n",
      "dealer          422\n",
      "exterior        329\n",
      "efficiency      279\n",
      "design          270\n",
      "wheel           212\n",
      "transmission    199\n",
      "features        184\n",
      "dtype: int64\n",
      "\n",
      "\n",
      "honda\n",
      "Most Mentioned Attributes:\n",
      "performance     632\n",
      "engine          549\n",
      "economy         488\n",
      "efficiency      471\n",
      "dealer          322\n",
      "exterior        305\n",
      "design          276\n",
      "transmission    258\n",
      "wheel           190\n",
      "size            167\n",
      "dtype: int64\n",
      "\n",
      "\n",
      "hyundai\n",
      "Most Mentioned Attributes:\n",
      "performance     401\n",
      "engine          326\n",
      "dealer          307\n",
      "economy         295\n",
      "exterior        240\n",
      "wheel           215\n",
      "efficiency      209\n",
      "design          189\n",
      "features        165\n",
      "transmission    129\n",
      "dtype: int64\n",
      "\n",
      "\n",
      "chevrolet\n",
      "Most Mentioned Attributes:\n",
      "engine          481\n",
      "performance     442\n",
      "dealer          306\n",
      "efficiency      304\n",
      "exterior        263\n",
      "economy         257\n",
      "design          174\n",
      "transmission    173\n",
      "wheel           172\n",
      "features        138\n",
      "dtype: int64\n",
      "\n",
      "\n",
      "nissan\n",
      "Most Mentioned Attributes:\n",
      "performance     260\n",
      "engine          227\n",
      "dealer          211\n",
      "economy         190\n",
      "exterior        130\n",
      "efficiency      128\n",
      "transmission    110\n",
      "wheel            99\n",
      "design           99\n",
      "features         83\n",
      "dtype: int64\n",
      "\n",
      "\n"
     ]
    }
   ],
   "source": [
    "#top attributes for top five models\n",
    "top_five_models = ['toyota','honda','hyundai','chevrolet','nissan']\n",
    "for i in range(len(top_five_models)):\n",
    "    car_model = []\n",
    "    for j in range(len(edmunds.index)):\n",
    "        x = word_tokenize(sub('[^a-zA-Z]', ' ', str(edmunds.ix[j]['Merge'])).lower())\n",
    "        y = 0\n",
    "        for k in range(len(x)):\n",
    "            if x[k] == top_five_models[i]:\n",
    "                if y == 0:\n",
    "                    car_model.append(x)\n",
    "                    y += 1\n",
    "    print top_five_models[i]\n",
    "    get_attributes(car_model)\n",
    "    print '\\n'"
   ]
  },
  {
   "cell_type": "markdown",
   "metadata": {},
   "source": [
    "###Most Aspirational Brand"
   ]
  },
  {
   "cell_type": "code",
   "execution_count": 17,
   "metadata": {
    "collapsed": true
   },
   "outputs": [],
   "source": [
    "edmunds = pd.read_csv(\"Aspirations Replaced.csv\")\n",
    "aspirations = []\n",
    "model_aspirations = ['aspirational']"
   ]
  },
  {
   "cell_type": "code",
   "execution_count": 18,
   "metadata": {
    "collapsed": true
   },
   "outputs": [],
   "source": [
    "#get number of aspirational posts by model\n",
    "def get_aspirations(model):\n",
    "    aspirations = []\n",
    "    model_aspirations = ['aspirational']\n",
    "    for i in range(len(model)):\n",
    "        x = model[i]\n",
    "        single_mention = []\n",
    "        for j in range(len(x)):\n",
    "            if x[j] in model_aspirations:\n",
    "                single_mention.append(x[j])\n",
    "        if single_mention:\n",
    "            for k in range(len(pd.Series(single_mention).value_counts())):\n",
    "                aspirations.append(pd.Series(single_mention).value_counts().index[k])\n",
    "    print  'Number of Aspirational Mentions: ' + str(pd.Series(aspirations).value_counts()[0])\n",
    "    return pd.Series(aspirations).value_counts()[0]"
   ]
  },
  {
   "cell_type": "code",
   "execution_count": 19,
   "metadata": {
    "collapsed": false
   },
   "outputs": [
    {
     "name": "stdout",
     "output_type": "stream",
     "text": [
      "acura\n",
      "Number of Mentions: 405\n",
      "Number of Aspirational Mentions: 60\n",
      "\n",
      "\n",
      "audi\n",
      "Number of Mentions: 428\n",
      "Number of Aspirational Mentions: 63\n",
      "\n",
      "\n",
      "bmw\n",
      "Number of Mentions: 513\n",
      "Number of Aspirational Mentions: 89\n",
      "\n",
      "\n",
      "buick\n",
      "Number of Mentions: 470\n",
      "Number of Aspirational Mentions: 53\n",
      "\n",
      "\n",
      "cadillac\n",
      "Number of Mentions: 197\n",
      "Number of Aspirational Mentions: 33\n",
      "\n",
      "\n",
      "chevrolet\n",
      "Number of Mentions: 1244\n",
      "Number of Aspirational Mentions: 136\n",
      "\n",
      "\n",
      "chrysler\n",
      "Number of Mentions: 473\n",
      "Number of Aspirational Mentions: 67\n",
      "\n",
      "\n",
      "dodge\n",
      "Number of Mentions: 223\n",
      "Number of Aspirational Mentions: 26\n",
      "\n",
      "\n",
      "ford\n",
      "Number of Mentions: 562\n",
      "Number of Aspirational Mentions: 83\n",
      "\n",
      "\n",
      "honda\n",
      "Number of Mentions: 1592\n",
      "Number of Aspirational Mentions: 206\n",
      "\n",
      "\n",
      "hyundai\n",
      "Number of Mentions: 1267\n",
      "Number of Aspirational Mentions: 136\n",
      "\n",
      "\n",
      "infiniti\n",
      "Number of Mentions: 271\n",
      "Number of Aspirational Mentions: 37\n",
      "\n",
      "\n",
      "kia\n",
      "Number of Mentions: 234\n",
      "Number of Aspirational Mentions: 23\n",
      "\n",
      "\n",
      "lincoln\n",
      "Number of Mentions: 237\n",
      "Number of Aspirational Mentions: 30\n",
      "\n",
      "\n",
      "mazda\n",
      "Number of Mentions: 365\n",
      "Number of Aspirational Mentions: 47\n",
      "\n",
      "\n",
      "mercedes\n",
      "Number of Mentions: 138\n",
      "Number of Aspirational Mentions: 30\n",
      "\n",
      "\n",
      "mercury\n",
      "Number of Mentions: 74\n",
      "Number of Aspirational Mentions: 12\n",
      "\n",
      "\n",
      "mitsubishi\n",
      "Number of Mentions: 47\n",
      "Number of Aspirational Mentions: 12\n",
      "\n",
      "\n",
      "nissan\n",
      "Number of Mentions: 790\n",
      "Number of Aspirational Mentions: 97\n",
      "\n",
      "\n",
      "pontiac\n",
      "Number of Mentions: 354\n",
      "Number of Aspirational Mentions: 42\n",
      "\n",
      "\n",
      "saturn\n",
      "Number of Mentions: 203\n",
      "Number of Aspirational Mentions: 24\n",
      "\n",
      "\n",
      "subaru\n",
      "Number of Mentions: 149\n",
      "Number of Aspirational Mentions: 22\n",
      "\n",
      "\n",
      "suzuki\n",
      "Number of Mentions: 77\n",
      "Number of Aspirational Mentions: 11\n",
      "\n",
      "\n",
      "toyota\n",
      "Number of Mentions: 1711\n",
      "Number of Aspirational Mentions: 224\n",
      "\n",
      "\n",
      "volkswagen\n",
      "Number of Mentions: 523\n",
      "Number of Aspirational Mentions: 61\n",
      "\n",
      "\n",
      "volvo\n",
      "Number of Mentions: 136\n",
      "Number of Aspirational Mentions: 23\n",
      "\n",
      "\n"
     ]
    }
   ],
   "source": [
    "#Count aspirational mentions for each model\n",
    "for i in range(len(car_models)):\n",
    "    car_model = []\n",
    "    for j in range(len(edmunds.index)):\n",
    "        x = word_tokenize(sub('[^a-zA-Z]', ' ', str(edmunds.ix[j]['Merge'])).lower())\n",
    "        y = 0\n",
    "        for k in range(len(x)):\n",
    "            if x[k] == car_models[i]:\n",
    "                if y == 0:\n",
    "                    car_model.append(x)\n",
    "                    y += 1\n",
    "    print car_models[i]\n",
    "    print 'Number of Mentions: ' + str(len(car_model))\n",
    "    get_aspirations(car_model)\n",
    "    print '\\n'"
   ]
  },
  {
   "cell_type": "code",
   "execution_count": null,
   "metadata": {
    "collapsed": true
   },
   "outputs": [],
   "source": []
  }
 ],
 "metadata": {
  "kernelspec": {
   "display_name": "Python 2",
   "language": "python",
   "name": "python2"
  },
  "language_info": {
   "codemirror_mode": {
    "name": "ipython",
    "version": 2
   },
   "file_extension": ".py",
   "mimetype": "text/x-python",
   "name": "python",
   "nbconvert_exporter": "python",
   "pygments_lexer": "ipython2",
   "version": "2.7.10"
  }
 },
 "nbformat": 4,
 "nbformat_minor": 0
}
