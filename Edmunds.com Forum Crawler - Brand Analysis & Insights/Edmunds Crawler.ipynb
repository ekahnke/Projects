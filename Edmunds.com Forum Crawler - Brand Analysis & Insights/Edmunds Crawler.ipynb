{
 "cells": [
  {
   "cell_type": "markdown",
   "metadata": {},
   "source": [
    "#Collect Comments from Edmunds Sedan General Forum Discussion"
   ]
  },
  {
   "cell_type": "markdown",
   "metadata": {},
   "source": [
    "We run the risk of undercounting mentions of brand if we ignore the model names. Want to catch BMW or 325, but don't want to double count when someone says both BMW and 325i. "
   ]
  },
  {
   "cell_type": "code",
   "execution_count": 1,
   "metadata": {
    "collapsed": true
   },
   "outputs": [],
   "source": [
    "import re\n",
    "import urllib2\n",
    "from pandas import DataFrame, Series\n",
    "import pandas as pd\n",
    "from bs4 import BeautifulSoup\n",
    "import time"
   ]
  },
  {
   "cell_type": "code",
   "execution_count": 36,
   "metadata": {
    "collapsed": true
   },
   "outputs": [],
   "source": [
    "url = 'http://forums.edmunds.com/discussions/tagged/x/sedans'"
   ]
  },
  {
   "cell_type": "code",
   "execution_count": 80,
   "metadata": {
    "collapsed": false
   },
   "outputs": [],
   "source": [
    "#this recurssive function gets links to the pages that have the links to the discussion threads\n",
    "#The links to pages 1-n are displayed in the classic website structure: 1, 2, 3, 4, 5, 6 ... n >>>\n",
    "def get_links_to_discussion_parent_pages(url1, count = 0):\n",
    "    BASE_URL = 'http://forums.edmunds.com'\n",
    "    page = urllib2.urlopen(url1).read()\n",
    "    soup = BeautifulSoup(page, 'lxml')\n",
    "    #check if there are any discussions posted on this page.\n",
    "    are_there_discussions = re.findall('''<ul class=\"DataList Discussions\"''', str(soup))\n",
    "    if len(are_there_discussions) > 0:\n",
    "        #If there are discussions, then function calls itself on the second to last page link\n",
    "        Edmunds = soup.find(\"div\", \"PageControls Bottom\")\n",
    "        parent_links = []\n",
    "        #save link to all and then open the second to last one\n",
    "        time.sleep(1)\n",
    "        count += 1\n",
    "        if count > 32:\n",
    "            print 'infinite loop'\n",
    "            return ''\n",
    "        pages = Edmunds.findAll(\"a\")\n",
    "        links = re.findall('''href=[\"'](.[^\"']+)[\"']''', str(pages))\n",
    "        if count == 1:\n",
    "            for link in links[0:7]:\n",
    "                parent_links.append(BASE_URL + link)\n",
    "        else:\n",
    "            for link in links[6:9]:\n",
    "                parent_links.append(BASE_URL + link)\n",
    "        parent_links.extend(get_links_to_discussion_parent_pages(BASE_URL + str(links[-4]), count = count))\n",
    "        return parent_links\n",
    "    else:\n",
    "        return ''"
   ]
  },
  {
   "cell_type": "code",
   "execution_count": 81,
   "metadata": {
    "collapsed": false
   },
   "outputs": [
    {
     "data": {
      "text/plain": [
       "['http://forums.edmunds.com/discussions/tagged/x/sedans?Page=p1&amp;',\n",
       " 'http://forums.edmunds.com/discussions/tagged/x/sedans?Page=p2&amp;',\n",
       " 'http://forums.edmunds.com/discussions/tagged/x/sedans?Page=p3&amp;',\n",
       " 'http://forums.edmunds.com/discussions/tagged/x/sedans?Page=p4&amp;',\n",
       " 'http://forums.edmunds.com/discussions/tagged/x/sedans?Page=p5&amp;',\n",
       " 'http://forums.edmunds.com/discussions/tagged/x/sedans?Page=p6&amp;',\n",
       " 'http://forums.edmunds.com/discussions/tagged/x/sedans?Page=p7&amp;',\n",
       " 'http://forums.edmunds.com/discussions/tagged/x/sedans?Page=p8&amp;amp%3B=',\n",
       " 'http://forums.edmunds.com/discussions/tagged/x/sedans?Page=p9&amp;amp%3B=',\n",
       " 'http://forums.edmunds.com/discussions/tagged/x/sedans?Page=p10&amp;amp%3B=',\n",
       " 'http://forums.edmunds.com/discussions/tagged/x/sedans?Page=p11&amp;amp%3Bamp%3B=',\n",
       " 'http://forums.edmunds.com/discussions/tagged/x/sedans?Page=p12&amp;amp%3Bamp%3B=',\n",
       " 'http://forums.edmunds.com/discussions/tagged/x/sedans?Page=p13&amp;amp%3Bamp%3B=',\n",
       " 'http://forums.edmunds.com/discussions/tagged/x/sedans?Page=p14&amp;amp%3Bamp%3Bamp%3B=',\n",
       " 'http://forums.edmunds.com/discussions/tagged/x/sedans?Page=p15&amp;amp%3Bamp%3Bamp%3B=',\n",
       " 'http://forums.edmunds.com/discussions/tagged/x/sedans?Page=p16&amp;amp%3Bamp%3Bamp%3B=',\n",
       " 'http://forums.edmunds.com/discussions/tagged/x/sedans?Page=p17&amp;amp%3Bamp%3Bamp%3Bamp%3B=',\n",
       " 'http://forums.edmunds.com/discussions/tagged/x/sedans?Page=p18&amp;amp%3Bamp%3Bamp%3Bamp%3B=',\n",
       " 'http://forums.edmunds.com/discussions/tagged/x/sedans?Page=p19&amp;amp%3Bamp%3Bamp%3Bamp%3B=',\n",
       " 'http://forums.edmunds.com/discussions/tagged/x/sedans?Page=p20&amp;amp%3Bamp%3Bamp%3Bamp%3Bamp%3B=',\n",
       " 'http://forums.edmunds.com/discussions/tagged/x/sedans?Page=p21&amp;amp%3Bamp%3Bamp%3Bamp%3Bamp%3B=',\n",
       " 'http://forums.edmunds.com/discussions/tagged/x/sedans?Page=p22&amp;amp%3Bamp%3Bamp%3Bamp%3Bamp%3B=',\n",
       " 'http://forums.edmunds.com/discussions/tagged/x/sedans?Page=p23&amp;amp%3Bamp%3Bamp%3Bamp%3Bamp%3Bamp%3B=',\n",
       " 'http://forums.edmunds.com/discussions/tagged/x/sedans?Page=p24&amp;amp%3Bamp%3Bamp%3Bamp%3Bamp%3Bamp%3B=',\n",
       " 'http://forums.edmunds.com/discussions/tagged/x/sedans?Page=p25&amp;amp%3Bamp%3Bamp%3Bamp%3Bamp%3Bamp%3B=',\n",
       " 'http://forums.edmunds.com/discussions/tagged/x/sedans?Page=p26&amp;amp%3Bamp%3Bamp%3Bamp%3Bamp%3Bamp%3Bamp%3B=',\n",
       " 'http://forums.edmunds.com/discussions/tagged/x/sedans?Page=p27&amp;amp%3Bamp%3Bamp%3Bamp%3Bamp%3Bamp%3Bamp%3B=',\n",
       " 'http://forums.edmunds.com/discussions/tagged/x/sedans?Page=p28&amp;amp%3Bamp%3Bamp%3Bamp%3Bamp%3Bamp%3Bamp%3B=',\n",
       " 'http://forums.edmunds.com/discussions/tagged/x/sedans?Page=p29&amp;amp%3Bamp%3Bamp%3Bamp%3Bamp%3Bamp%3Bamp%3Bamp%3B=',\n",
       " 'http://forums.edmunds.com/discussions/tagged/x/sedans?Page=p30&amp;amp%3Bamp%3Bamp%3Bamp%3Bamp%3Bamp%3Bamp%3Bamp%3B=',\n",
       " 'http://forums.edmunds.com/discussions/tagged/x/sedans?Page=p31&amp;amp%3Bamp%3Bamp%3Bamp%3Bamp%3Bamp%3Bamp%3Bamp%3B=',\n",
       " 'http://forums.edmunds.com/discussions/tagged/x/sedans?Page=p32&amp;amp%3Bamp%3Bamp%3Bamp%3Bamp%3Bamp%3Bamp%3Bamp%3Bamp%3B=',\n",
       " 'http://forums.edmunds.com/discussions/tagged/x/sedans?Page=p33&amp;amp%3Bamp%3Bamp%3Bamp%3Bamp%3Bamp%3Bamp%3Bamp%3Bamp%3B=',\n",
       " 'http://forums.edmunds.com/discussions/tagged/x/sedans?Page=p34&amp;amp%3Bamp%3Bamp%3Bamp%3Bamp%3Bamp%3Bamp%3Bamp%3Bamp%3B=',\n",
       " 'http://forums.edmunds.com/discussions/tagged/x/sedans?Page=p35&amp;amp%3Bamp%3Bamp%3Bamp%3Bamp%3Bamp%3Bamp%3Bamp%3Bamp%3Bamp%3B=',\n",
       " 'http://forums.edmunds.com/discussions/tagged/x/sedans?Page=p36&amp;amp%3Bamp%3Bamp%3Bamp%3Bamp%3Bamp%3Bamp%3Bamp%3Bamp%3Bamp%3B=',\n",
       " 'http://forums.edmunds.com/discussions/tagged/x/sedans?Page=p37&amp;amp%3Bamp%3Bamp%3Bamp%3Bamp%3Bamp%3Bamp%3Bamp%3Bamp%3Bamp%3B=',\n",
       " 'http://forums.edmunds.com/discussions/tagged/x/sedans?Page=p38&amp;amp%3Bamp%3Bamp%3Bamp%3Bamp%3Bamp%3Bamp%3Bamp%3Bamp%3Bamp%3Bamp%3B=',\n",
       " 'http://forums.edmunds.com/discussions/tagged/x/sedans?Page=p39&amp;amp%3Bamp%3Bamp%3Bamp%3Bamp%3Bamp%3Bamp%3Bamp%3Bamp%3Bamp%3Bamp%3B=',\n",
       " 'http://forums.edmunds.com/discussions/tagged/x/sedans?Page=p40&amp;amp%3Bamp%3Bamp%3Bamp%3Bamp%3Bamp%3Bamp%3Bamp%3Bamp%3Bamp%3Bamp%3B=',\n",
       " 'http://forums.edmunds.com/discussions/tagged/x/sedans?Page=p41&amp;amp%3Bamp%3Bamp%3Bamp%3Bamp%3Bamp%3Bamp%3Bamp%3Bamp%3Bamp%3Bamp%3Bamp%3B=',\n",
       " 'http://forums.edmunds.com/discussions/tagged/x/sedans?Page=p42&amp;amp%3Bamp%3Bamp%3Bamp%3Bamp%3Bamp%3Bamp%3Bamp%3Bamp%3Bamp%3Bamp%3Bamp%3B=',\n",
       " 'http://forums.edmunds.com/discussions/tagged/x/sedans?Page=p43&amp;amp%3Bamp%3Bamp%3Bamp%3Bamp%3Bamp%3Bamp%3Bamp%3Bamp%3Bamp%3Bamp%3Bamp%3B=',\n",
       " 'http://forums.edmunds.com/discussions/tagged/x/sedans?Page=p44&amp;amp%3Bamp%3Bamp%3Bamp%3Bamp%3Bamp%3Bamp%3Bamp%3Bamp%3Bamp%3Bamp%3Bamp%3Bamp%3B=',\n",
       " 'http://forums.edmunds.com/discussions/tagged/x/sedans?Page=p45&amp;amp%3Bamp%3Bamp%3Bamp%3Bamp%3Bamp%3Bamp%3Bamp%3Bamp%3Bamp%3Bamp%3Bamp%3Bamp%3B=',\n",
       " 'http://forums.edmunds.com/discussions/tagged/x/sedans?Page=p46&amp;amp%3Bamp%3Bamp%3Bamp%3Bamp%3Bamp%3Bamp%3Bamp%3Bamp%3Bamp%3Bamp%3Bamp%3Bamp%3B=',\n",
       " 'http://forums.edmunds.com/discussions/tagged/x/sedans?Page=p47&amp;amp%3Bamp%3Bamp%3Bamp%3Bamp%3Bamp%3Bamp%3Bamp%3Bamp%3Bamp%3Bamp%3Bamp%3Bamp%3Bamp%3B=',\n",
       " 'http://forums.edmunds.com/discussions/tagged/x/sedans?Page=p48&amp;amp%3Bamp%3Bamp%3Bamp%3Bamp%3Bamp%3Bamp%3Bamp%3Bamp%3Bamp%3Bamp%3Bamp%3Bamp%3Bamp%3B=',\n",
       " 'http://forums.edmunds.com/discussions/tagged/x/sedans?Page=p49&amp;amp%3Bamp%3Bamp%3Bamp%3Bamp%3Bamp%3Bamp%3Bamp%3Bamp%3Bamp%3Bamp%3Bamp%3Bamp%3Bamp%3B=',\n",
       " 'http://forums.edmunds.com/discussions/tagged/x/sedans?Page=p50&amp;amp%3Bamp%3Bamp%3Bamp%3Bamp%3Bamp%3Bamp%3Bamp%3Bamp%3Bamp%3Bamp%3Bamp%3Bamp%3Bamp%3Bamp%3B=',\n",
       " 'http://forums.edmunds.com/discussions/tagged/x/sedans?Page=p51&amp;amp%3Bamp%3Bamp%3Bamp%3Bamp%3Bamp%3Bamp%3Bamp%3Bamp%3Bamp%3Bamp%3Bamp%3Bamp%3Bamp%3Bamp%3B=',\n",
       " 'http://forums.edmunds.com/discussions/tagged/x/sedans?Page=p52&amp;amp%3Bamp%3Bamp%3Bamp%3Bamp%3Bamp%3Bamp%3Bamp%3Bamp%3Bamp%3Bamp%3Bamp%3Bamp%3Bamp%3Bamp%3B=',\n",
       " 'http://forums.edmunds.com/discussions/tagged/x/sedans?Page=p53&amp;amp%3Bamp%3Bamp%3Bamp%3Bamp%3Bamp%3Bamp%3Bamp%3Bamp%3Bamp%3Bamp%3Bamp%3Bamp%3Bamp%3Bamp%3Bamp%3B=',\n",
       " 'http://forums.edmunds.com/discussions/tagged/x/sedans?Page=p54&amp;amp%3Bamp%3Bamp%3Bamp%3Bamp%3Bamp%3Bamp%3Bamp%3Bamp%3Bamp%3Bamp%3Bamp%3Bamp%3Bamp%3Bamp%3Bamp%3B=',\n",
       " 'http://forums.edmunds.com/discussions/tagged/x/sedans?Page=p55&amp;amp%3Bamp%3Bamp%3Bamp%3Bamp%3Bamp%3Bamp%3Bamp%3Bamp%3Bamp%3Bamp%3Bamp%3Bamp%3Bamp%3Bamp%3Bamp%3B=',\n",
       " 'http://forums.edmunds.com/discussions/tagged/x/sedans?Page=p56&amp;amp%3Bamp%3Bamp%3Bamp%3Bamp%3Bamp%3Bamp%3Bamp%3Bamp%3Bamp%3Bamp%3Bamp%3Bamp%3Bamp%3Bamp%3Bamp%3Bamp%3B=',\n",
       " 'http://forums.edmunds.com/discussions/tagged/x/sedans?Page=p57&amp;amp%3Bamp%3Bamp%3Bamp%3Bamp%3Bamp%3Bamp%3Bamp%3Bamp%3Bamp%3Bamp%3Bamp%3Bamp%3Bamp%3Bamp%3Bamp%3Bamp%3B=',\n",
       " 'http://forums.edmunds.com/discussions/tagged/x/sedans?Page=p58&amp;amp%3Bamp%3Bamp%3Bamp%3Bamp%3Bamp%3Bamp%3Bamp%3Bamp%3Bamp%3Bamp%3Bamp%3Bamp%3Bamp%3Bamp%3Bamp%3Bamp%3B=',\n",
       " 'http://forums.edmunds.com/discussions/tagged/x/sedans?Page=p59&amp;amp%3Bamp%3Bamp%3Bamp%3Bamp%3Bamp%3Bamp%3Bamp%3Bamp%3Bamp%3Bamp%3Bamp%3Bamp%3Bamp%3Bamp%3Bamp%3Bamp%3Bamp%3B=',\n",
       " 'http://forums.edmunds.com/discussions/tagged/x/sedans?Page=p60&amp;amp%3Bamp%3Bamp%3Bamp%3Bamp%3Bamp%3Bamp%3Bamp%3Bamp%3Bamp%3Bamp%3Bamp%3Bamp%3Bamp%3Bamp%3Bamp%3Bamp%3Bamp%3B=',\n",
       " 'http://forums.edmunds.com/discussions/tagged/x/sedans?Page=p61&amp;amp%3Bamp%3Bamp%3Bamp%3Bamp%3Bamp%3Bamp%3Bamp%3Bamp%3Bamp%3Bamp%3Bamp%3Bamp%3Bamp%3Bamp%3Bamp%3Bamp%3Bamp%3B=',\n",
       " 'http://forums.edmunds.com/discussions/tagged/x/sedans?Page=p62&amp;amp%3Bamp%3Bamp%3Bamp%3Bamp%3Bamp%3Bamp%3Bamp%3Bamp%3Bamp%3Bamp%3Bamp%3Bamp%3Bamp%3Bamp%3Bamp%3Bamp%3Bamp%3Bamp%3B=',\n",
       " 'http://forums.edmunds.com/discussions/tagged/x/sedans?Page=p63&amp;amp%3Bamp%3Bamp%3Bamp%3Bamp%3Bamp%3Bamp%3Bamp%3Bamp%3Bamp%3Bamp%3Bamp%3Bamp%3Bamp%3Bamp%3Bamp%3Bamp%3Bamp%3Bamp%3B=',\n",
       " 'http://forums.edmunds.com/discussions/tagged/x/sedans?Page=p64&amp;amp%3Bamp%3Bamp%3Bamp%3Bamp%3Bamp%3Bamp%3Bamp%3Bamp%3Bamp%3Bamp%3Bamp%3Bamp%3Bamp%3Bamp%3Bamp%3Bamp%3Bamp%3Bamp%3B=',\n",
       " 'http://forums.edmunds.com/discussions/tagged/x/sedans?Page=p65&amp;amp%3Bamp%3Bamp%3Bamp%3Bamp%3Bamp%3Bamp%3Bamp%3Bamp%3Bamp%3Bamp%3Bamp%3Bamp%3Bamp%3Bamp%3Bamp%3Bamp%3Bamp%3Bamp%3Bamp%3B=',\n",
       " 'http://forums.edmunds.com/discussions/tagged/x/sedans?Page=p66&amp;amp%3Bamp%3Bamp%3Bamp%3Bamp%3Bamp%3Bamp%3Bamp%3Bamp%3Bamp%3Bamp%3Bamp%3Bamp%3Bamp%3Bamp%3Bamp%3Bamp%3Bamp%3Bamp%3Bamp%3B=',\n",
       " 'http://forums.edmunds.com/discussions/tagged/x/sedans?Page=p67&amp;amp%3Bamp%3Bamp%3Bamp%3Bamp%3Bamp%3Bamp%3Bamp%3Bamp%3Bamp%3Bamp%3Bamp%3Bamp%3Bamp%3Bamp%3Bamp%3Bamp%3Bamp%3Bamp%3Bamp%3B=',\n",
       " 'http://forums.edmunds.com/discussions/tagged/x/sedans?Page=p68&amp;amp%3Bamp%3Bamp%3Bamp%3Bamp%3Bamp%3Bamp%3Bamp%3Bamp%3Bamp%3Bamp%3Bamp%3Bamp%3Bamp%3Bamp%3Bamp%3Bamp%3Bamp%3Bamp%3Bamp%3Bamp%3B=',\n",
       " 'http://forums.edmunds.com/discussions/tagged/x/sedans?Page=p69&amp;amp%3Bamp%3Bamp%3Bamp%3Bamp%3Bamp%3Bamp%3Bamp%3Bamp%3Bamp%3Bamp%3Bamp%3Bamp%3Bamp%3Bamp%3Bamp%3Bamp%3Bamp%3Bamp%3Bamp%3Bamp%3B=',\n",
       " 'http://forums.edmunds.com/discussions/tagged/x/sedans?Page=p70&amp;amp%3Bamp%3Bamp%3Bamp%3Bamp%3Bamp%3Bamp%3Bamp%3Bamp%3Bamp%3Bamp%3Bamp%3Bamp%3Bamp%3Bamp%3Bamp%3Bamp%3Bamp%3Bamp%3Bamp%3Bamp%3B=',\n",
       " 'http://forums.edmunds.com/discussions/tagged/x/sedans?Page=p71&amp;amp%3Bamp%3Bamp%3Bamp%3Bamp%3Bamp%3Bamp%3Bamp%3Bamp%3Bamp%3Bamp%3Bamp%3Bamp%3Bamp%3Bamp%3Bamp%3Bamp%3Bamp%3Bamp%3Bamp%3Bamp%3Bamp%3B=',\n",
       " 'http://forums.edmunds.com/discussions/tagged/x/sedans?Page=p72&amp;amp%3Bamp%3Bamp%3Bamp%3Bamp%3Bamp%3Bamp%3Bamp%3Bamp%3Bamp%3Bamp%3Bamp%3Bamp%3Bamp%3Bamp%3Bamp%3Bamp%3Bamp%3Bamp%3Bamp%3Bamp%3Bamp%3B=',\n",
       " 'http://forums.edmunds.com/discussions/tagged/x/sedans?Page=p73&amp;amp%3Bamp%3Bamp%3Bamp%3Bamp%3Bamp%3Bamp%3Bamp%3Bamp%3Bamp%3Bamp%3Bamp%3Bamp%3Bamp%3Bamp%3Bamp%3Bamp%3Bamp%3Bamp%3Bamp%3Bamp%3Bamp%3B=',\n",
       " 'http://forums.edmunds.com/discussions/tagged/x/sedans?Page=p74&amp;amp%3Bamp%3Bamp%3Bamp%3Bamp%3Bamp%3Bamp%3Bamp%3Bamp%3Bamp%3Bamp%3Bamp%3Bamp%3Bamp%3Bamp%3Bamp%3Bamp%3Bamp%3Bamp%3Bamp%3Bamp%3Bamp%3Bamp%3B=',\n",
       " 'http://forums.edmunds.com/discussions/tagged/x/sedans?Page=p75&amp;amp%3Bamp%3Bamp%3Bamp%3Bamp%3Bamp%3Bamp%3Bamp%3Bamp%3Bamp%3Bamp%3Bamp%3Bamp%3Bamp%3Bamp%3Bamp%3Bamp%3Bamp%3Bamp%3Bamp%3Bamp%3Bamp%3Bamp%3B=',\n",
       " 'http://forums.edmunds.com/discussions/tagged/x/sedans?Page=p76&amp;amp%3Bamp%3Bamp%3Bamp%3Bamp%3Bamp%3Bamp%3Bamp%3Bamp%3Bamp%3Bamp%3Bamp%3Bamp%3Bamp%3Bamp%3Bamp%3Bamp%3Bamp%3Bamp%3Bamp%3Bamp%3Bamp%3Bamp%3B=',\n",
       " 'http://forums.edmunds.com/discussions/tagged/x/sedans?Page=p77&amp;amp%3Bamp%3Bamp%3Bamp%3Bamp%3Bamp%3Bamp%3Bamp%3Bamp%3Bamp%3Bamp%3Bamp%3Bamp%3Bamp%3Bamp%3Bamp%3Bamp%3Bamp%3Bamp%3Bamp%3Bamp%3Bamp%3Bamp%3Bamp%3B=',\n",
       " 'http://forums.edmunds.com/discussions/tagged/x/sedans?Page=p78&amp;amp%3Bamp%3Bamp%3Bamp%3Bamp%3Bamp%3Bamp%3Bamp%3Bamp%3Bamp%3Bamp%3Bamp%3Bamp%3Bamp%3Bamp%3Bamp%3Bamp%3Bamp%3Bamp%3Bamp%3Bamp%3Bamp%3Bamp%3Bamp%3B=',\n",
       " 'http://forums.edmunds.com/discussions/tagged/x/sedans?Page=p79&amp;amp%3Bamp%3Bamp%3Bamp%3Bamp%3Bamp%3Bamp%3Bamp%3Bamp%3Bamp%3Bamp%3Bamp%3Bamp%3Bamp%3Bamp%3Bamp%3Bamp%3Bamp%3Bamp%3Bamp%3Bamp%3Bamp%3Bamp%3Bamp%3B=',\n",
       " 'http://forums.edmunds.com/discussions/tagged/x/sedans?Page=p80&amp;amp%3Bamp%3Bamp%3Bamp%3Bamp%3Bamp%3Bamp%3Bamp%3Bamp%3Bamp%3Bamp%3Bamp%3Bamp%3Bamp%3Bamp%3Bamp%3Bamp%3Bamp%3Bamp%3Bamp%3Bamp%3Bamp%3Bamp%3Bamp%3Bamp%3B=',\n",
       " 'http://forums.edmunds.com/discussions/tagged/x/sedans?Page=p81&amp;amp%3Bamp%3Bamp%3Bamp%3Bamp%3Bamp%3Bamp%3Bamp%3Bamp%3Bamp%3Bamp%3Bamp%3Bamp%3Bamp%3Bamp%3Bamp%3Bamp%3Bamp%3Bamp%3Bamp%3Bamp%3Bamp%3Bamp%3Bamp%3Bamp%3B=',\n",
       " 'http://forums.edmunds.com/discussions/tagged/x/sedans?Page=p82&amp;amp%3Bamp%3Bamp%3Bamp%3Bamp%3Bamp%3Bamp%3Bamp%3Bamp%3Bamp%3Bamp%3Bamp%3Bamp%3Bamp%3Bamp%3Bamp%3Bamp%3Bamp%3Bamp%3Bamp%3Bamp%3Bamp%3Bamp%3Bamp%3Bamp%3B=',\n",
       " 'http://forums.edmunds.com/discussions/tagged/x/sedans?Page=p83&amp;amp%3Bamp%3Bamp%3Bamp%3Bamp%3Bamp%3Bamp%3Bamp%3Bamp%3Bamp%3Bamp%3Bamp%3Bamp%3Bamp%3Bamp%3Bamp%3Bamp%3Bamp%3Bamp%3Bamp%3Bamp%3Bamp%3Bamp%3Bamp%3Bamp%3Bamp%3B=',\n",
       " 'http://forums.edmunds.com/discussions/tagged/x/sedans?Page=p84&amp;amp%3Bamp%3Bamp%3Bamp%3Bamp%3Bamp%3Bamp%3Bamp%3Bamp%3Bamp%3Bamp%3Bamp%3Bamp%3Bamp%3Bamp%3Bamp%3Bamp%3Bamp%3Bamp%3Bamp%3Bamp%3Bamp%3Bamp%3Bamp%3Bamp%3Bamp%3B=',\n",
       " 'http://forums.edmunds.com/discussions/tagged/x/sedans?Page=p85&amp;amp%3Bamp%3Bamp%3Bamp%3Bamp%3Bamp%3Bamp%3Bamp%3Bamp%3Bamp%3Bamp%3Bamp%3Bamp%3Bamp%3Bamp%3Bamp%3Bamp%3Bamp%3Bamp%3Bamp%3Bamp%3Bamp%3Bamp%3Bamp%3Bamp%3Bamp%3B=',\n",
       " 'http://forums.edmunds.com/discussions/tagged/x/sedans?Page=p86&amp;amp%3Bamp%3Bamp%3Bamp%3Bamp%3Bamp%3Bamp%3Bamp%3Bamp%3Bamp%3Bamp%3Bamp%3Bamp%3Bamp%3Bamp%3Bamp%3Bamp%3Bamp%3Bamp%3Bamp%3Bamp%3Bamp%3Bamp%3Bamp%3Bamp%3Bamp%3Bamp%3B=',\n",
       " 'http://forums.edmunds.com/discussions/tagged/x/sedans?Page=p87&amp;amp%3Bamp%3Bamp%3Bamp%3Bamp%3Bamp%3Bamp%3Bamp%3Bamp%3Bamp%3Bamp%3Bamp%3Bamp%3Bamp%3Bamp%3Bamp%3Bamp%3Bamp%3Bamp%3Bamp%3Bamp%3Bamp%3Bamp%3Bamp%3Bamp%3Bamp%3Bamp%3B=',\n",
       " 'http://forums.edmunds.com/discussions/tagged/x/sedans?Page=p88&amp;amp%3Bamp%3Bamp%3Bamp%3Bamp%3Bamp%3Bamp%3Bamp%3Bamp%3Bamp%3Bamp%3Bamp%3Bamp%3Bamp%3Bamp%3Bamp%3Bamp%3Bamp%3Bamp%3Bamp%3Bamp%3Bamp%3Bamp%3Bamp%3Bamp%3Bamp%3Bamp%3B=']"
      ]
     },
     "execution_count": 81,
     "metadata": {},
     "output_type": "execute_result"
    }
   ],
   "source": [
    "links = get_links_to_discussion_parent_pages(url)\n",
    "links"
   ]
  },
  {
   "cell_type": "code",
   "execution_count": 46,
   "metadata": {
    "collapsed": false
   },
   "outputs": [],
   "source": [
    "BASE_URL = 'http://forums.edmunds.com'\n",
    "page = urllib2.urlopen('http://forums.edmunds.com/discussions/tagged/x/sedans').read()\n",
    "soup = BeautifulSoup(page, 'lxml')\n",
    "Edmunds = soup.find(\"div\", \"PageControls Bottom\")\n",
    "pages = Edmunds.findAll(\"a\")\n",
    "links = re.findall('''href=[\"'](.[^\"']+)[\"']''', str(pages))\n",
    "for link in links:\n",
    "    parent_links2.append(BASE_URL + link)\n"
   ]
  },
  {
   "cell_type": "markdown",
   "metadata": {},
   "source": [
    "get_post_links function:  \n",
    "this function gets discussion links from the edmunds sedan forum url "
   ]
  },
  {
   "cell_type": "code",
   "execution_count": 84,
   "metadata": {
    "collapsed": true
   },
   "outputs": [],
   "source": [
    "#this function gets discussion links from the edmunds sedan forum url \n",
    "\n",
    "def get_post_links(url):\n",
    "    #base_url = 'http://forums.edmunds.com/discussions/tagged/x/sedans'\n",
    "    page = urllib2.urlopen(url).read()\n",
    "    soup = BeautifulSoup(page, 'lxml')\n",
    "    EdmundsPosts = soup.find(\"ul\", \"DataList Discussions\")\n",
    "    discussion_links = []\n",
    "    for discussion in EdmundsPosts.findAll(\"div\", \"Title\"):\n",
    "        discussion_links.append(re.findall('''a href=[\"'](.[^\"']+)[\"']''', str(discussion))[0])\n",
    "    return discussion_links"
   ]
  },
  {
   "cell_type": "code",
   "execution_count": 61,
   "metadata": {
    "collapsed": false
   },
   "outputs": [
    {
     "data": {
      "text/plain": [
       "[2, 3]"
      ]
     },
     "execution_count": 61,
     "metadata": {},
     "output_type": "execute_result"
    }
   ],
   "source": [
    "a = [1,2,3,4,5,6]\n",
    "a.extend([2,3,6])\n",
    "a[6:8]"
   ]
  },
  {
   "cell_type": "markdown",
   "metadata": {},
   "source": [
    "Output of get_post_links for page 1 of the edmunds forum:"
   ]
  },
  {
   "cell_type": "code",
   "execution_count": 14,
   "metadata": {
    "collapsed": false
   },
   "outputs": [
    {
     "data": {
      "text/plain": [
       "['http://forums.edmunds.com/discussion/5844/chevrolet/cavalier/chevrolet-cavalier-electrical-system-questions',\n",
       " 'http://forums.edmunds.com/discussion/7526/hyundai/malibu/midsize-sedans-2-0',\n",
       " 'http://forums.edmunds.com/discussion/6369/jaguar/s-type/jaguar-s-type-transmission-problems',\n",
       " 'http://forums.edmunds.com/discussion/5191/volkswagen/passat/volkswagen-passat-real-world-mpg-numbers',\n",
       " 'http://forums.edmunds.com/discussion/31869/toyota/corolla/2015-toyota-corolla-prices-paid',\n",
       " 'http://forums.edmunds.com/discussion/5270/oldsmobile/alero/oldsmobile-alero-starting-stalling-problems',\n",
       " 'http://forums.edmunds.com/discussion/2864/general/x/entry-level-luxury-performance-sedans',\n",
       " 'http://forums.edmunds.com/discussion/7037/bmw/5-series/bmw-5-series-starting-problems',\n",
       " 'http://forums.edmunds.com/discussion/8842/buick/century/buick-century-electrical-lights',\n",
       " 'http://forums.edmunds.com/discussion/1435/jaguar/x-type/jaguar-x-type',\n",
       " 'http://forums.edmunds.com/discussion/13993/hyundai/elantra/elantra-long-term-ownership-experiences',\n",
       " 'http://forums.edmunds.com/discussion/15942/pontiac/g6/pontiac-g6-transmission',\n",
       " 'http://forums.edmunds.com/discussion/15746/cadillac/dts/cadillac-dts-electrical-issues',\n",
       " 'http://forums.edmunds.com/discussion/16052/chevrolet/impala/chevrolet-impala-climate-control-ac-heater',\n",
       " 'http://forums.edmunds.com/discussion/7427/acura/rl/acura-rl-real-world-fuel-economy',\n",
       " 'http://forums.edmunds.com/discussion/6003/chrysler/300m/chrysler-300m-overheating-mystery',\n",
       " 'http://forums.edmunds.com/discussion/7924/nissan/altima/long-term-reliability-of-nissan-altima',\n",
       " 'http://forums.edmunds.com/discussion/7393/acura/tl/acura-tl-bluetooth-handsfree-link-problems',\n",
       " 'http://forums.edmunds.com/discussion/16010/pontiac/grand-prix/pontiac-grand-prix-electrical-lighting',\n",
       " 'http://forums.edmunds.com/discussion/7557/chevrolet/malibu/chevrolet-malibu-clunks-and-noises',\n",
       " 'http://forums.edmunds.com/discussion/12609/lincoln/ls/2001-ls-overheating-or-not',\n",
       " 'http://forums.edmunds.com/discussion/1554/jaguar/xj-series/jaguar-xj-series',\n",
       " 'http://forums.edmunds.com/discussion/16203/oldsmobile/intrigue/oldsmobile-intrigue-electrical-lighting-problems',\n",
       " 'http://forums.edmunds.com/discussion/15843/toyota/camry/toyota-camry-tires-and-wheels',\n",
       " 'http://forums.edmunds.com/discussion/15929/pontiac/grand-am/pontiac-grand-am-security-passlock-problems',\n",
       " 'http://forums.edmunds.com/discussion/6368/jaguar/s-type/jaguar-s-type-climate-control-problems',\n",
       " 'http://forums.edmunds.com/discussion/16088/buick/lacrosse/buick-lacrosse-electrical-lighting-problems',\n",
       " 'http://forums.edmunds.com/discussion/15930/pontiac/grand-prix/pontiac-grand-prix-water-leak',\n",
       " 'http://forums.edmunds.com/discussion/5186/saab/9-3/saab-9-3-real-world-mpg',\n",
       " 'http://forums.edmunds.com/discussion/3938/lincoln/mkz/lincoln-zephyr-mkz',\n",
       " 'http://forums.edmunds.com/discussion/9120/toyota/avalon/toyota-avalon-rain-sensing-windshield-wipers',\n",
       " 'http://forums.edmunds.com/discussion/7686/chrysler/cirrus/chrysler-cirrus-starting-stalling-problems',\n",
       " 'http://forums.edmunds.com/discussion/15805/chevrolet/impala/chevrolet-impala-transmission-problems',\n",
       " 'http://forums.edmunds.com/discussion/7299/pontiac/bonneville/pontiac-bonneville-heating-cooling-problems',\n",
       " 'http://forums.edmunds.com/discussion/6687/cadillac/cts/cadillac-cts-engine-problems',\n",
       " 'http://forums.edmunds.com/discussion/9503/saturn/aura/saturn-aura-transmission-issues',\n",
       " 'http://forums.edmunds.com/discussion/3293/mazda/mazda6/mazda6-maintenance-and-repair',\n",
       " 'http://forums.edmunds.com/discussion/4359/toyota/corolla/toyota-corolla-real-world-mpg',\n",
       " 'http://forums.edmunds.com/discussion/9929/nissan/sentra/nissan-sentra-starting-and-stalling-problems',\n",
       " 'http://forums.edmunds.com/discussion/6883/pontiac/grand-prix/pontiac-grand-prix-heater-blower-relay-switch']"
      ]
     },
     "execution_count": 14,
     "metadata": {},
     "output_type": "execute_result"
    }
   ],
   "source": [
    "discussion_links = get_post_links(url)\n",
    "discussion_links"
   ]
  },
  {
   "cell_type": "markdown",
   "metadata": {},
   "source": [
    "get_comments enters a URL and finds all text comments on the first page of comments  \n",
    "Example output is shown below"
   ]
  },
  {
   "cell_type": "code",
   "execution_count": 83,
   "metadata": {
    "collapsed": true
   },
   "outputs": [],
   "source": [
    "def get_comments(discussion_url):\n",
    "    page = urllib2.urlopen(discussion_url).read()\n",
    "    soup = BeautifulSoup(page, 'lxml')\n",
    "    soup = soup.find(\"div\", \"Column ContentColumn\")\n",
    "    post_list = soup.find_all(\"div\", \"Item-Body\")\n",
    "    comments = []\n",
    "    for post in post_list:\n",
    "        comment = post.find(\"div\", \"Message\").get_text().strip().replace(',', '')\n",
    "        #remove all commas.\n",
    "        comments.append(comment)\n",
    "    return comments"
   ]
  },
  {
   "cell_type": "code",
   "execution_count": 15,
   "metadata": {
    "collapsed": false
   },
   "outputs": [
    {
     "data": {
      "text/plain": [
       "u'I have a 96 chevy Cavalier. The horn went on by itself when no one was in car. I had to disconnect horn from the wire to it. Now the airbag cover where I hit to activate the horn clicks alot. I think the hornpad or relay is bad. Does anyone know anything about this or how to fix it.,I have the basic Cavalier standard shift etc.. The basic am/fm cd radio.The problem I can\\'t set the clock never could !  Read the manual and I don\\'t have the button they say I do on my radio.Before the clock was right 1/2 the year here on the East Coast.  Today I had a new battery put in and now it\\'s totally not close to the time of day and now never will be Anyone know how to set the clock on a 2002 Cavalier ???Thanks much tommy,HiI bought a 2000 Cavalier for my teenage daughter this year.  It ran great thus far until Monday morning when she called me at work frantically and stated her car won\\'t start.  Needless to say she missed her school on Monday.  Anyway I helped her to take the battery to the nearest auto shop and had the battery tested out.  We brought home a new battery install it and the engine starts without a doubt. This morning she realized none of the gauges are working.  Anyone know what went wrong?  Thanks in advanceIat,A new dash came out in 2000 the panel processor has a glitch when the battery is disconnected it ceases to function.  A fix was installed starting 2001 not backward compatible. Try this turn the ignition key to run pull the panel fuse for a few seconds and reinstall panel should come to life.Fuse panel is located at end of dash open drivers door to access. Pull fuse marked  [CLSTER].,Thanks buddy.  I will try it tonight and report back my finding.,Thanks a bunch gonogo.  Your tips fixed the problem.,My horn is not working.  I\\'ve checked the fuse in the fuse box located in the panel inside my car and the fuse looks fine.  I cannot find the relay for the horn although a mechanic told me it was under the hood.  Where can I find it?  Also I was told to check to see if a wire was loose but where do I look for that?  In the steering wheel?  If so how do I get the front off?  I\\'m ignorant when it comes to cars so any advice is appreciated.  Thanks in advance.,Before you spend alot of time tracking down shorts or grounds try hot wiring direct from the horn to battery to make sure horn does work.,I finally ended up taking it into the dealer luckly it was under warranty.  They told me that the relay switch was bad but the horn was fine.  Thanks though.,I am experiencing the same problem. I an told that the horn pad consists of tw plates with foam inbetweeen. This foam now has crumbled causing the spontanious contact.My problem now is that I do not know how to disassemble the pad since there is also an airbag. anyone knows?,Too long to explain here get Chilton or any book that has the information.,fan not working but when I turn blower on inside of car the radiator fan starts?,please help i cant get my dash lights to go out even with the keys removed and head lights out the dash lights stay on ..how do i fix this thanks,Hello!I had a bit of a problem with my 2000 Cavalier this morning and I was hoping someone could help me.  I started hearing this noise like really loud radio static coming out of the steering wheel/gauge area this morning.  It stopped when I turned on my blinker.  I got home took the blinker fuse out and it stopped.  Put a new fuse in and it started up again.  As long as there is no fuse in it doesn\\'t make that noise.Any ideas what could be causing this?,I recently bought a 2001 Chevy Cavalier after about 2 months i was having problems with it starting and then the battery dying well it ended up just being a loose groundwire but in this long draw out process i discovered that the thing you plug the computer into to find out what code is setting off my different dash lights doesn\\'t work it won\\'t put anything out...this has happened on two different machines..i am aware that there is a fuse that could cause this to happen (my fuses in my fuse box on the side and the ones under my hood have been checked) what i\\'m wondering is there anywhere else this fuse could be...and if not and the thing is just broken how much is this going to cost to fix?? Any Help is appreciated thanks in advance! Kayla,look for the cig fuse that is power to the diagnostics.,Thank you very much good tip i will go ahead and check that out and let you know! Thanks again,I have a used 2001 cavalier and I have this problem with my stereo I am guessing that I need an unlock code to calibrate my stereo is there any way i can do this on my own or do I have to take it to a dealership that specializes in chevs? I took it back to the one I bought it from but they said they cant do anything for me because they dont know anything really about them idiots I tell you. Any help would be great thanks !,I drive a 1996 Chevrolet Cavalier Z22.  When I turn on the headlights the \"ext lamp\" fuse blows and my dash board and break and signal lights go out.  But when the headlights are off and I hit the breaks the same tail lights turn on and the signals will still work.  I have replaced all of the bulbs that are effected and the problem still exists.  If someone could provide some additional information it would be greatly appreciated.,,Not sure what you have there. Here is a schematic of your wiring out of a Chilton not sure how accurate it is. Maybe it will help. http://i45.photobucket.com/albums/f98/gonogo/scan_r1_1_1_1.jpg,HelloMy day time driving lights are on half the time. when I flick the regular headlights on at night  they shut off completely.  So I usually drive with just my fog lights on and my lights signal on my dash flick on and off.  I checked the fuses they are all good.Any idea on what the problem could be?Any help would be greatly appreciated!,I\\'m wondering if there is a way (like earlier models) to jump terminals at the ALDL connector in order to obtain MFL blink codes? Or is the diagnostic reader a must?  Any advice or suggestions would be appreciated.              Thanks In Advance                   David,Can\\'t jump Cavalier 94 and up need code reader or scanner.,i have a 2000 cavalier that has a am/fm/cd stock radio.  it reciently quit working ie no radio no cd no clock.  as far as i know it isn\\'t a theft lock system.  i bought the car new and never had a code for it and it doesn\\'t say it anywhere on the redio.  the car has factory alarm system and remote door locks.  also the warning chimes for the key headlights and parking brake no longer work.  the chimes play thru the drivers door speaker.  i have disassembled the dash and inspected the radio.  i have identified all the wires for the 4 speakers the constant hot power for the memory (its good the one that turns the lights on with the headlights and the grounds. BUT i can\\'t locate the wire that provides the power when the key is turned on.  Does anyone know which wire this shoule be and what all it runs thru that might be causing it not to power the radio.  i have checked every fuse i can find in the fuse box and under the hood they are all good.,At drivers side panel the RDO/INTLP is the radio fuse. I would check the fuse with a 12 V test light couple bucks at walmart.,03 Cavalier LS SportI installed my stereo amp and sub about 2 years ago WITHOUT using the $100 wiring harness. Everything worked fine.. but I had battery drain. Without being able to figure it out I finally removed the stereo but left the amp and sub plugged in the way they were.. without being plugged into the stereo of course. About a year has gone by and I got some money so I got the $100 wiring harness but got confused so I just took everything to Circuit City and had them do the install. Again everything worked fine.. until Saturday night. Car was dead. Had it jumped Sunday morning and took it back to CC. I figured I might as well buy a new deck since the old one had some issues.. .so I bought a new deck and had them install that.. asked them to see where the drain was if it wasnt the stereo. The guy said he couldnt find anything and if it was the amp then I would have to send it back to the manufacturer. I figured I might be able to figure this out another way. Talked to a mechanic this morning and asked if he could check out some stuff. Right now the power line from the battery to the amp is disconnected. If I get him to get a voltmeter or whatever and check the draw on the battery with the amp disconnected and then with the am hooked up that should show if there is a big difference in draw correct? Anything else I should check? Any ideas? Really frustrating. ThanksCHris,You got the right idea. I had a chart and it showed the draw in milliamps don\\'t know if I can find it.,We have a 2000 Cavalier 2.2 liter automatic with 39400 miles. Well cared for.We recently returned from a 4500 mile trip without a hitch.  Get home hubby does all necessary maintenance. Take it out for a Sunday drive cruising at 65 mph middle lane of the freeway when I hear a strange gurgling/creaking noise coming from drivers side dash area.  Car dies!!  It starts again and we pull over to have a look-see.  Nothing found.  Continue on our way.  No more problems until I go to an appointment.  Dang car just keeps rolling over but won\\'t start until about the 7th time I try.  Get home hubby doesn\\'t believe me until it does it to him too.  Take it to the local Chev dealer. Car won\\'t start for them one time only in the 2 days they had it.  They said no codes came up so we bring it home.  I go out to use it two days later won\\'t start.  When I turn the key on I can tell if it is going to start just by listening for the fuel pump sound.  No noise won\\'t start but it does go through the entire dash cycle.  Incidentally that \"gurgle/creak\" noise only happened one time.Don\\'t know where to go from here.  Any suggestions?  I really like this little car :confuse:,I\\'m not sure I can help but ----- Are you saying that when the Cav does start you can actually hear the fuel pump operating? All Cavs I\\'ve owned (6 of them) the motor starts so fast that no fuel pump noise could ever be heard. Also what does \"it goes through the entire dash cycle\" mean exactly?,With no sound from the pump with a no start the pump circuit needs checked out. There is a relay plug connector at pump. If the pump electrical system checks out then the pump would be the likely cause. Don\\'t throw parts at it get it checked out. What did the dealer say no pump sound no code no problem? If so not a good dealer.I have owned 4 Cavaliers and never had a pump go.'"
      ]
     },
     "execution_count": 15,
     "metadata": {},
     "output_type": "execute_result"
    }
   ],
   "source": [
    "comments = get_comments('http://forums.edmunds.com/discussion/5844/chevrolet/cavalier/chevrolet-cavalier-electrical-system-questions')\n",
    "','.join(comments)"
   ]
  },
  {
   "cell_type": "markdown",
   "metadata": {},
   "source": [
    "#Main Function\n",
    "The Next step is to combine these functions in a main function to access text from all discussion links:"
   ]
  },
  {
   "cell_type": "code",
   "execution_count": 85,
   "metadata": {
    "collapsed": false
   },
   "outputs": [
    {
     "ename": "KeyboardInterrupt",
     "evalue": "",
     "output_type": "error",
     "traceback": [
      "\u001b[0;31m---------------------------------------------------------------------------\u001b[0m",
      "\u001b[0;31mKeyboardInterrupt\u001b[0m                         Traceback (most recent call last)",
      "\u001b[0;32m<ipython-input-85-314d298d9f36>\u001b[0m in \u001b[0;36m<module>\u001b[0;34m()\u001b[0m\n\u001b[1;32m      8\u001b[0m         \u001b[0mcomments\u001b[0m \u001b[0;34m=\u001b[0m \u001b[0mget_comments\u001b[0m\u001b[0;34m(\u001b[0m\u001b[0mlink\u001b[0m\u001b[0;34m)\u001b[0m\u001b[0;34m\u001b[0m\u001b[0m\n\u001b[1;32m      9\u001b[0m         \u001b[0mall_comments\u001b[0m \u001b[0;34m+=\u001b[0m \u001b[0;34m(\u001b[0m\u001b[0;34m','\u001b[0m\u001b[0;34m.\u001b[0m\u001b[0mjoin\u001b[0m\u001b[0;34m(\u001b[0m\u001b[0mcomments\u001b[0m\u001b[0;34m)\u001b[0m\u001b[0;34m)\u001b[0m \u001b[0;34m+\u001b[0m \u001b[0;34m','\u001b[0m\u001b[0;34m\u001b[0m\u001b[0m\n\u001b[0;32m---> 10\u001b[0;31m         \u001b[0mtime\u001b[0m\u001b[0;34m.\u001b[0m\u001b[0msleep\u001b[0m\u001b[0;34m(\u001b[0m\u001b[0;36m.5\u001b[0m\u001b[0;34m)\u001b[0m\u001b[0;34m\u001b[0m\u001b[0m\n\u001b[0m",
      "\u001b[0;31mKeyboardInterrupt\u001b[0m: "
     ]
    }
   ],
   "source": [
    "\n",
    "all_comments = ''\n",
    "#iterate through pages 1 through n:\n",
    "for page_i in links:\n",
    "    discussion_links = get_post_links(page_i)\n",
    "    #iterate through each discussion on page i:\n",
    "    for link in discussion_links:\n",
    "        comments = get_comments(link)\n",
    "        all_comments += (','.join(comments)) + ','\n",
    "        time.sleep(.5)"
   ]
  },
  {
   "cell_type": "markdown",
   "metadata": {},
   "source": [
    "Now we write all the comments stored in all_comments to a file, Edmunds_sedans1.csv  \n",
    "We still need to access multiple pages of each discussion. right now it's only pulling from page 1 but that shouldn't be too hard. It's just a matter of getting the link for the next page, which will be easy to find in the html elements."
   ]
  },
  {
   "cell_type": "code",
   "execution_count": 87,
   "metadata": {
    "collapsed": false
   },
   "outputs": [],
   "source": [
    "csvFile = open('Edmunds_sedans.csv', 'w')\n",
    "csvFile.write(all_comments.encode('utf-8'))\n",
    "csvFile.close()"
   ]
  },
  {
   "cell_type": "code",
   "execution_count": 15,
   "metadata": {
    "collapsed": false
   },
   "outputs": [],
   "source": [
    "csvFile = open('Edmunds_sedans.csv', 'r')\n",
    "cleanup = csvFile.read()\n",
    "csvFile.close()\n",
    "cleanup = re.sub('\\n', '', cleanup)\n",
    "cleanup = re.sub(',(,)+', '', cleanup)\n",
    "cleanup = re.sub(',',',\\n', cleanup)\n",
    "csvFile = open('Edmunds_sedans_cleaned.csv', 'w')\n",
    "csvFile.write(cleanup)\n",
    "csvFile.close()"
   ]
  },
  {
   "cell_type": "code",
   "execution_count": null,
   "metadata": {
    "collapsed": false
   },
   "outputs": [],
   "source": []
  }
 ],
 "metadata": {
  "kernelspec": {
   "display_name": "Python 2",
   "language": "python",
   "name": "python2"
  },
  "language_info": {
   "codemirror_mode": {
    "name": "ipython",
    "version": 2
   },
   "file_extension": ".py",
   "mimetype": "text/x-python",
   "name": "python",
   "nbconvert_exporter": "python",
   "pygments_lexer": "ipython2",
   "version": "2.7.10"
  }
 },
 "nbformat": 4,
 "nbformat_minor": 0
}
