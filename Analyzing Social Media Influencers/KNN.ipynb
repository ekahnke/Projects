{
 "cells": [
  {
   "cell_type": "code",
   "execution_count": 1,
   "metadata": {
    "collapsed": false
   },
   "outputs": [],
   "source": [
    "from pandas import Series,DataFrame\n",
    "import pandas as pd"
   ]
  },
  {
   "cell_type": "code",
   "execution_count": 2,
   "metadata": {
    "collapsed": false
   },
   "outputs": [],
   "source": [
    "data=pd.read_csv(\"train.csv\")"
   ]
  },
  {
   "cell_type": "code",
   "execution_count": 3,
   "metadata": {
    "collapsed": true
   },
   "outputs": [],
   "source": [
    "#Normalizing the features\n",
    "data['A_mentions_received']=data['A_mentions_received']/data['A_follower_count']\n",
    "data['A_retweets_received']=data['A_retweets_received']/data['A_follower_count']"
   ]
  },
  {
   "cell_type": "code",
   "execution_count": 4,
   "metadata": {
    "collapsed": false
   },
   "outputs": [
    {
     "name": "stdout",
     "output_type": "stream",
     "text": [
      "Populating the interactive namespace from numpy and matplotlib\n"
     ]
    }
   ],
   "source": [
    "#lets us try a couple of classification models\n",
    "from patsy import dmatrices\n",
    "%pylab inline"
   ]
  },
  {
   "cell_type": "code",
   "execution_count": 5,
   "metadata": {
    "collapsed": true
   },
   "outputs": [],
   "source": [
    "formula='Choice~A_follower_count+A_following_count+A_listed_count+\\\n",
    "       A_mentions_received+A_retweets_received+A_mentions_sent+A_retweets_sent+A_posts+A_network_feature_1+A_network_feature_2+A_network_feature_3+\\\n",
    "B_follower_count+B_following_count+B_listed_count+B_mentions_received+\\\n",
    "B_retweets_received+B_mentions_sent+B_retweets_sent+B_posts+B_network_feature_1+B_network_feature_2+\\\n",
    "B_network_feature_3'"
   ]
  },
  {
   "cell_type": "code",
   "execution_count": 15,
   "metadata": {
    "collapsed": true
   },
   "outputs": [],
   "source": [
    "from sklearn import cross_validation\n",
    "from sklearn import metrics\n",
    "from sklearn import neighbors"
   ]
  },
  {
   "cell_type": "code",
   "execution_count": 7,
   "metadata": {
    "collapsed": false
   },
   "outputs": [],
   "source": [
    "Y, X = dmatrices(formula, data, return_type='dataframe')\n",
    "y = Y['Choice'].values"
   ]
  },
  {
   "cell_type": "code",
   "execution_count": 8,
   "metadata": {
    "collapsed": true
   },
   "outputs": [],
   "source": [
    "X_train,X_test,Y_train,Y_test=train_test_split(X,y,test_size=0.3,random_state=42)"
   ]
  },
  {
   "cell_type": "code",
   "execution_count": 11,
   "metadata": {
    "collapsed": false
   },
   "outputs": [],
   "source": [
    "kfold = cross_validation.StratifiedKFold(y, n_folds=10, shuffle=True)"
   ]
  },
  {
   "cell_type": "code",
   "execution_count": 12,
   "metadata": {
    "collapsed": true
   },
   "outputs": [],
   "source": [
    "def cv_accuracy_score(X, y, kfold, nn):\n",
    "    \"\"\"For each fold, fit the nearest neighbors model\n",
    "    with nn nearest neighbors on the train, and return accuracy\n",
    "    on the test.\"\"\"\n",
    "    model = neighbors.KNeighborsClassifier(n_neighbors=nn, weights='uniform')\n",
    "    accuracies = []\n",
    "    for train, test in kfold:\n",
    "        # Select the training and testing data using the indices\n",
    "        # provided by kfold\n",
    "        X_train = X.ix[train]\n",
    "        X_test = X.ix[test]\n",
    "        y_train = y[train]\n",
    "        y_test = y[test]\n",
    "        # Fit the model\n",
    "        model.fit(X_train, y_train)\n",
    "        # Compute test accuracy\n",
    "        accuracy = metrics.accuracy_score(y_test, model.predict(X_test))\n",
    "        accuracies.append(accuracy)\n",
    "    average_accuracy = sum(accuracies) * 1.0 / len(accuracies)\n",
    "    return average_accuracy"
   ]
  },
  {
   "cell_type": "code",
   "execution_count": 13,
   "metadata": {
    "collapsed": false
   },
   "outputs": [],
   "source": [
    "nn = [(x + 1) for x in range(100)]"
   ]
  },
  {
   "cell_type": "code",
   "execution_count": 16,
   "metadata": {
    "collapsed": false
   },
   "outputs": [],
   "source": [
    "scores = [cv_accuracy_score(X, y, kfold, num_nbrs) for num_nbrs in nn]"
   ]
  },
  {
   "cell_type": "code",
   "execution_count": 17,
   "metadata": {
    "collapsed": false
   },
   "outputs": [
    {
     "data": {
      "text/plain": [
       "<matplotlib.text.Text at 0x175f9240>"
      ]
     },
     "execution_count": 17,
     "metadata": {},
     "output_type": "execute_result"
    },
    {
     "data": {
      "image/png": "[encoded data removed]",
      "text/plain": [
       "<matplotlib.figure.Figure at 0x175fe668>"
      ]
     },
     "metadata": {},
     "output_type": "display_data"
    }
   ],
   "source": [
    "plot(nn, scores)\n",
    "xlabel('Number of nearest neighbors')\n",
    "ylabel('Accuracy of classifier')"
   ]
  },
  {
   "cell_type": "code",
   "execution_count": 18,
   "metadata": {
    "collapsed": false
   },
   "outputs": [
    {
     "data": {
      "text/plain": [
       "[0.70945514710942703,\n",
       " 0.69782075372751051,\n",
       " 0.73291237206193627,\n",
       " 0.73036724869714065,\n",
       " 0.73491006221207644,\n",
       " 0.73363931961908813,\n",
       " 0.74309619535932347,\n",
       " 0.74309123486208373,\n",
       " 0.74564131752201135,\n",
       " 0.74527503291521024,\n",
       " 0.7481861145145785,\n",
       " 0.74764296741476821,\n",
       " 0.74963835011926405,\n",
       " 0.74564362977608645,\n",
       " 0.74964065876701624,\n",
       " 0.75055206553650522,\n",
       " 0.7494578458411133,\n",
       " 0.75036727033507855,\n",
       " 0.75127371540521992,\n",
       " 0.75000462030077331,\n",
       " 0.7516399891930523,\n",
       " 0.7520062737998533,\n",
       " 0.75146081925439867,\n",
       " 0.74855238830241055,\n",
       " 0.74709882797508875,\n",
       " 0.74928032339100148,\n",
       " 0.74982213494920635,\n",
       " 0.74982411842683772,\n",
       " 0.74964064554383203,\n",
       " 0.75109420587115383,\n",
       " 0.74909651211469064,\n",
       " 0.75109552939168256,\n",
       " 0.74964164269213218,\n",
       " 0.75163998799094456,\n",
       " 0.74927602044664909,\n",
       " 0.74764263142567855,\n",
       " 0.7478237872461786,\n",
       " 0.74837023773782574,\n",
       " 0.74982544194736633,\n",
       " 0.74782411842683771,\n",
       " 0.74927899626414995,\n",
       " 0.74945982330820626,\n",
       " 0.75055172714320018,\n",
       " 0.7489127164657795,\n",
       " 0.75073288657002324,\n",
       " 0.75036760151573756,\n",
       " 0.74927701999916452,\n",
       " 0.74873189543226137,\n",
       " 0.7494608204565063,\n",
       " 0.75073322015489752,\n",
       " 0.75036792668585828,\n",
       " 0.75000561143853528,\n",
       " 0.74800527785366078,\n",
       " 0.74945784223479017,\n",
       " 0.74873222180448984,\n",
       " 0.74963933043805697,\n",
       " 0.74836792187742773,\n",
       " 0.74873221819816682,\n",
       " 0.7492786638813832,\n",
       " 0.74782412083105321,\n",
       " 0.74891536110262114,\n",
       " 0.74764263022357103,\n",
       " 0.75073189182593847,\n",
       " 0.74854907890003541,\n",
       " 0.75000263441892667,\n",
       " 0.74854842014504031,\n",
       " 0.74945718107557979,\n",
       " 0.74763965560817791,\n",
       " 0.74836726432454026,\n",
       " 0.74800296199326277,\n",
       " 0.74727601924454135,\n",
       " 0.74727502810677959,\n",
       " 0.74709453344548993,\n",
       " 0.74618147437902882,\n",
       " 0.74636461247505248,\n",
       " 0.74818312908021622,\n",
       " 0.74836659955900697,\n",
       " 0.74654874771937652,\n",
       " 0.74745816980912638,\n",
       " 0.74618511015363231,\n",
       " 0.74600527785366089,\n",
       " 0.7474601556909729,\n",
       " 0.7469130476464384,\n",
       " 0.74655073480333067,\n",
       " 0.74691239009355104,\n",
       " 0.74691305005065378,\n",
       " 0.74836660677165268,\n",
       " 0.74691239009355104,\n",
       " 0.74764065636280086,\n",
       " 0.74709619175300046,\n",
       " 0.7480052850663067,\n",
       " 0.74873156785792527,\n",
       " 0.74782346688448853,\n",
       " 0.7474591693616417,\n",
       " 0.74673123547515863,\n",
       " 0.74618677086535823,\n",
       " 0.74582115102409063,\n",
       " 0.74600461909866567,\n",
       " 0.74727668761639776,\n",
       " 0.74745685470335144]"
      ]
     },
     "execution_count": 18,
     "metadata": {},
     "output_type": "execute_result"
    }
   ],
   "source": [
    "scores"
   ]
  },
  {
   "cell_type": "code",
   "execution_count": 34,
   "metadata": {
    "collapsed": true
   },
   "outputs": [],
   "source": [
    "model = neighbors.KNeighborsClassifier(n_neighbors=22, weights='uniform', p=1)"
   ]
  },
  {
   "cell_type": "code",
   "execution_count": 35,
   "metadata": {
    "collapsed": false
   },
   "outputs": [
    {
     "name": "stdout",
     "output_type": "stream",
     "text": [
      "0.772467532468\n"
     ]
    },
    {
     "data": {
      "text/plain": [
       "array([[1484,  394],\n",
       "       [ 482, 1490]])"
      ]
     },
     "execution_count": 35,
     "metadata": {},
     "output_type": "execute_result"
    }
   ],
   "source": [
    "model.fit(X_train, Y_train)\n",
    "predicted_classes_train = model.predict(X_train)\n",
    "print metrics.accuracy_score(Y_train, predicted_classes_train)\n",
    "confusion_matrix(Y_train, predicted_classes_train)"
   ]
  },
  {
   "cell_type": "code",
   "execution_count": 36,
   "metadata": {
    "collapsed": false
   },
   "outputs": [
    {
     "name": "stdout",
     "output_type": "stream",
     "text": [
      "0.767878787879\n"
     ]
    },
    {
     "data": {
      "text/plain": [
       "array([[625, 195],\n",
       "       [188, 642]])"
      ]
     },
     "execution_count": 36,
     "metadata": {},
     "output_type": "execute_result"
    }
   ],
   "source": [
    "predicted_classes = model.predict(X_test)\n",
    "print metrics.accuracy_score(Y_test, predicted_classes)\n",
    "confusion_matrix(Y_test, predicted_classes)"
   ]
  },
  {
   "cell_type": "code",
   "execution_count": 37,
   "metadata": {
    "collapsed": false
   },
   "outputs": [],
   "source": [
    "s1 = pd.Series(Y_test, name='Y Test')\n",
    "s2 = pd.Series(predicted_classes, name='Precicted Classes')\n",
    "results = pd.concat([s1,s2],axis=1)\n"
   ]
  },
  {
   "cell_type": "code",
   "execution_count": 38,
   "metadata": {
    "collapsed": true
   },
   "outputs": [],
   "source": [
    "results.to_csv('SocialMediaKNN - Results.csv', header=True, index=False)\n",
    "X_test.to_csv('SocialMediaKNN - X_test.csv', header=True, index=False)"
   ]
  },
  {
   "cell_type": "code",
   "execution_count": null,
   "metadata": {
    "collapsed": true
   },
   "outputs": [],
   "source": []
  }
 ],
 "metadata": {
  "kernelspec": {
   "display_name": "Python 2",
   "language": "python",
   "name": "python2"
  },
  "language_info": {
   "codemirror_mode": {
    "name": "ipython",
    "version": 2
   },
   "file_extension": ".py",
   "mimetype": "text/x-python",
   "name": "python",
   "nbconvert_exporter": "python",
   "pygments_lexer": "ipython2",
   "version": "2.7.10"
  }
 },
 "nbformat": 4,
 "nbformat_minor": 0
}
